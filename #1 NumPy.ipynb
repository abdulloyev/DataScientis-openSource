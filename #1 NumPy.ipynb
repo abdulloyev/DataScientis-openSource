{
  "nbformat": 4,
  "nbformat_minor": 0,
  "metadata": {
    "colab": {
      "provenance": [],
      "collapsed_sections": [
        "5bvZ3XmpGlSk",
        "qSe8vhXxcfSc",
        "Wc3ET7JAhoqP",
        "O0H9FxPljCHM",
        "zIXxmFY5nDqk",
        "qtkL0MBz_4Zr",
        "tV_0R99cCmY7",
        "wpqXzZdREHAk"
      ],
      "authorship_tag": "ABX9TyNfpI3xoUH0BiTIPmt7xczP",
      "include_colab_link": true
    },
    "kernelspec": {
      "name": "python3",
      "display_name": "Python 3"
    },
    "language_info": {
      "name": "python"
    }
  },
  "cells": [
    {
      "cell_type": "markdown",
      "metadata": {
        "id": "view-in-github",
        "colab_type": "text"
      },
      "source": [
        "<a href=\"https://colab.research.google.com/github/abdulloyev/DataScientis-openSource/blob/main/%231%20NumPy.ipynb\" target=\"_parent\"><img src=\"https://colab.research.google.com/assets/colab-badge.svg\" alt=\"Open In Colab\"/></a>"
      ]
    },
    {
      "cell_type": "code",
      "source": [
        "!jupyter nbconvert --to html /content/1_numpy.ipynb"
      ],
      "metadata": {
        "colab": {
          "base_uri": "https://localhost:8080/"
        },
        "id": "DqGa8amDf-nK",
        "outputId": "12b01618-5891-4a01-fad0-82f1e95e7f5a"
      },
      "execution_count": null,
      "outputs": [
        {
          "output_type": "stream",
          "name": "stdout",
          "text": [
            "[NbConvertApp] Converting notebook /content/1_numpy.ipynb to html\n",
            "[NbConvertApp] Writing 427131 bytes to /content/1_numpy.html\n"
          ]
        }
      ]
    },
    {
      "cell_type": "markdown",
      "source": [
        "## Abdulloyev Ulug'bek -- 👉[NumPy kutubxonasi](https://colab.research.google.com/drive/1_ucIKAPUqduShAEfevWnFc3ZutSQwgNj?usp=sharing)"
      ],
      "metadata": {
        "id": "yw-vKghTHEve"
      }
    },
    {
      "cell_type": "markdown",
      "source": [
        "## Numpy asosiy tushunchalar"
      ],
      "metadata": {
        "id": "5bvZ3XmpGlSk"
      }
    },
    {
      "cell_type": "markdown",
      "source": [
        "numpy yordamida roʻyxatni massivga aylantiradi va massivning o‘lchamini aniqlaydi.\n",
        "\n",
        "arr.ndim massivning o‘lchamini koʻrsatadi. Bu misolda massiv 1 o‘lchamli (1D) boʻlgani uchun natija 1 boʻldi."
      ],
      "metadata": {
        "id": "CQTR43nuFwT6"
      }
    },
    {
      "cell_type": "code",
      "execution_count": null,
      "metadata": {
        "colab": {
          "base_uri": "https://localhost:8080/"
        },
        "id": "j4fqBx83bh3E",
        "outputId": "2132936b-92dd-4e9b-899b-a78dd0a1f5e4"
      },
      "outputs": [
        {
          "output_type": "stream",
          "name": "stdout",
          "text": [
            "[ 1  2 56 84 63 74]\n",
            "1\n"
          ]
        }
      ],
      "source": [
        "import numpy as np\n",
        "\n",
        "list = [1, 2 ,56, 84, 63, 74]\n",
        "arr = np.array(list)\n",
        "\n",
        "print(arr)\n",
        "\n",
        "print(arr.ndim)"
      ]
    },
    {
      "cell_type": "markdown",
      "source": [
        "arr.ndim massivning o‘lchamini koʻrsatadi. Bu misolda massiv 2 o‘lchamli (2D) boʻlgani uchun natija 2 boʻldi.\n",
        "\n",
        "arr.shape massivning shaklini koʻrsatadi. Bu misolda massiv 2 qator va 5 ustundan iborat boʻlgani uchun natija (2, 5) boʻldi."
      ],
      "metadata": {
        "id": "oXs5p2uDGDgb"
      }
    },
    {
      "cell_type": "code",
      "source": [
        "list = [[1, 2, 3, 4, 5], [6, 7, 8, 9, 10]]\n",
        "arr = np.array(list)\n",
        "\n",
        "print(arr)\n",
        "\n",
        "print(f\"massiv o'lchami: {arr.ndim}\")\n",
        "print(f\"qator va ustunlar soni: {arr.shape}\")"
      ],
      "metadata": {
        "colab": {
          "base_uri": "https://localhost:8080/"
        },
        "id": "ivPH3zanh3pw",
        "outputId": "45bbdf30-10f8-4a4d-8515-068e046e5dfb"
      },
      "execution_count": null,
      "outputs": [
        {
          "output_type": "stream",
          "name": "stdout",
          "text": [
            "[[ 1  2  3  4  5]\n",
            " [ 6  7  8  9 10]]\n",
            "massiv o'lchami: 2\n",
            "qator va ustunlar soni: (2, 5)\n"
          ]
        }
      ]
    },
    {
      "cell_type": "markdown",
      "source": [
        "2 dan boshlab 26 gacha 3 qadam bilan arr ni to'ldirish"
      ],
      "metadata": {
        "id": "IlwlabzPGBGw"
      }
    },
    {
      "cell_type": "code",
      "source": [
        "arr = np.arange(2, 26, 3) # 2 dan boshlab 26 gacha 3 qadam bilan arr ni to'ldirish\n",
        "print(arr)"
      ],
      "metadata": {
        "colab": {
          "base_uri": "https://localhost:8080/"
        },
        "id": "sPzK5DVciZaG",
        "outputId": "34d20456-86a4-410f-c464-232b9374d4c2"
      },
      "execution_count": null,
      "outputs": [
        {
          "output_type": "stream",
          "name": "stdout",
          "text": [
            "[ 2  5  8 11 14 17 20 23]\n"
          ]
        }
      ]
    },
    {
      "cell_type": "markdown",
      "source": [
        "random shaklida arr ni sonlar bilan to'ldirish"
      ],
      "metadata": {
        "id": "qYODAs1AGQPA"
      }
    },
    {
      "cell_type": "code",
      "source": [
        "arr = np.random.randn(2, 4)\n",
        "\n",
        "print(arr)"
      ],
      "metadata": {
        "colab": {
          "base_uri": "https://localhost:8080/"
        },
        "id": "QDfPnIgQiqr1",
        "outputId": "a8e04856-a593-4eda-e185-2f0dc569c3d4"
      },
      "execution_count": null,
      "outputs": [
        {
          "output_type": "stream",
          "name": "stdout",
          "text": [
            "[[-0.20872297  0.1627915   1.10045496  0.24072687]\n",
            " [ 0.0929447   0.31857483 -0.82666932 -2.1820505 ]]\n"
          ]
        }
      ]
    },
    {
      "cell_type": "markdown",
      "source": [
        "3:5 oraliqni kesib olish"
      ],
      "metadata": {
        "id": "z8cLuIfhGfNx"
      }
    },
    {
      "cell_type": "code",
      "source": [
        "arr = np.arange(10,100,10)\n",
        "print(arr)\n",
        "\n",
        "print(f\"3:5 oraliq: {arr[3:5]}\")"
      ],
      "metadata": {
        "colab": {
          "base_uri": "https://localhost:8080/"
        },
        "id": "EtlzGE_Ki3hP",
        "outputId": "36b7337f-8d90-4529-80d4-60b6edb3763d"
      },
      "execution_count": null,
      "outputs": [
        {
          "output_type": "stream",
          "name": "stdout",
          "text": [
            "[10 20 30 40 50 60 70 80 90]\n",
            "3:5 oraliq: [40 50]\n"
          ]
        }
      ]
    },
    {
      "cell_type": "markdown",
      "source": [
        "3-satr 2 va 3 - elementlarni olish"
      ],
      "metadata": {
        "id": "aJpTUMioGbvl"
      }
    },
    {
      "cell_type": "code",
      "source": [
        "arr = np.array([[10, 20, 30], [40, 50, 60], [70, 80, 90]])\n",
        "print(arr)\n",
        "\n",
        "print(f\"3-satr 2 va 3 - elementlarni olish: {arr[2, 1:3]}\")"
      ],
      "metadata": {
        "colab": {
          "base_uri": "https://localhost:8080/"
        },
        "id": "fOwqJs-QjQNS",
        "outputId": "c77127ac-f948-4320-a654-a819fa4409e6"
      },
      "execution_count": null,
      "outputs": [
        {
          "output_type": "stream",
          "name": "stdout",
          "text": [
            "[[10 20 30]\n",
            " [40 50 60]\n",
            " [70 80 90]]\n",
            "3-satr 2 va 3 - elementlarni olish: [80 90]\n"
          ]
        }
      ]
    },
    {
      "cell_type": "markdown",
      "source": [
        "## 3-OʻLCHAMLI MASSIVLARDA INDEKS VA KESIB OLISH ASOSLARI"
      ],
      "metadata": {
        "id": "qSe8vhXxcfSc"
      }
    },
    {
      "cell_type": "code",
      "source": [
        "import numpy as np\n",
        "\n",
        "arr = np.array([\n",
        "    [[1, 2, 3], [4, 5, 6], [7, 8, 9]],\n",
        "    [[10, 11, 12], [13, 14, 15], [16, 17, 18]],\n",
        "    [[19, 20, 21], [22, 23, 24], [25, 26, 27]],\n",
        "    ])\n",
        "\n",
        "print(arr[0][1:])"
      ],
      "metadata": {
        "colab": {
          "base_uri": "https://localhost:8080/"
        },
        "id": "Nn7rDIlHcjHZ",
        "outputId": "9f452f34-814a-4f55-9363-2e6c4d07d8dc"
      },
      "execution_count": null,
      "outputs": [
        {
          "output_type": "stream",
          "name": "stdout",
          "text": [
            "[[4 5 6]\n",
            " [7 8 9]]\n"
          ]
        }
      ]
    },
    {
      "cell_type": "code",
      "source": [
        "# 3-oʻlchamli massiv elementlarini kesib olish tartibi ham 1 va 2\n",
        "# oʻlchovli massivlarnikiga oʻxshash boʻladi.\n",
        "\n",
        "arr[0][1,0:]"
      ],
      "metadata": {
        "colab": {
          "base_uri": "https://localhost:8080/"
        },
        "id": "ris9aRrKdLmc",
        "outputId": "4d1a1706-1364-4d24-d7ba-47772a143db4"
      },
      "execution_count": null,
      "outputs": [
        {
          "output_type": "execute_result",
          "data": {
            "text/plain": [
              "array([4, 5, 6])"
            ]
          },
          "metadata": {},
          "execution_count": 18
        }
      ]
    },
    {
      "cell_type": "code",
      "source": [
        "A = np.arange(6)\n",
        "A\n",
        "\n",
        "\n",
        "# Bir oʻlchamli massiv hosil qilish va .reshape metodi yordamida\n",
        "# shaklini oʻzgartirish quyidagicha boʻladi.\n",
        "A = A.reshape(2,3)\n",
        "A"
      ],
      "metadata": {
        "colab": {
          "base_uri": "https://localhost:8080/"
        },
        "id": "8sSezXSHgHvn",
        "outputId": "c942e249-5f75-4bc5-88df-53e9d4afa1b5"
      },
      "execution_count": null,
      "outputs": [
        {
          "output_type": "execute_result",
          "data": {
            "text/plain": [
              "array([[0, 1, 2],\n",
              "       [3, 4, 5]])"
            ]
          },
          "metadata": {},
          "execution_count": 21
        }
      ]
    },
    {
      "cell_type": "code",
      "source": [
        "# Trasnpose metodi va uning qoʻllanilishi quyidagicha boʻladi.\n",
        "\n",
        "A.T"
      ],
      "metadata": {
        "colab": {
          "base_uri": "https://localhost:8080/"
        },
        "id": "GOwrZNN7hHAg",
        "outputId": "4d872496-9915-45a4-d95b-690ef185ae7a"
      },
      "execution_count": null,
      "outputs": [
        {
          "output_type": "execute_result",
          "data": {
            "text/plain": [
              "array([[0, 3],\n",
              "       [1, 4],\n",
              "       [2, 5]])"
            ]
          },
          "metadata": {},
          "execution_count": 23
        }
      ]
    },
    {
      "cell_type": "code",
      "source": [
        "# Swapaxes metodi va uning qoʻllanilishi quyidagicha boʻladi.\n",
        "\n",
        "B=A.swapaxes(1,0)\n",
        "B"
      ],
      "metadata": {
        "colab": {
          "base_uri": "https://localhost:8080/"
        },
        "id": "Uk2VNthkhR0s",
        "outputId": "80360989-ea1a-4f13-d54e-8c38076da8fc"
      },
      "execution_count": null,
      "outputs": [
        {
          "output_type": "execute_result",
          "data": {
            "text/plain": [
              "array([[0, 3],\n",
              "       [1, 4],\n",
              "       [2, 5]])"
            ]
          },
          "metadata": {},
          "execution_count": 25
        }
      ]
    },
    {
      "cell_type": "markdown",
      "source": [
        "## UNIVERSAL (UNARY VA BINARY) FUNKSIYALAR"
      ],
      "metadata": {
        "id": "Wc3ET7JAhoqP"
      }
    },
    {
      "cell_type": "code",
      "source": [
        "import numpy as np\n",
        "\n",
        "arr = np.arange(8)\n",
        "arr"
      ],
      "metadata": {
        "colab": {
          "base_uri": "https://localhost:8080/"
        },
        "id": "oBJyghxlhsNR",
        "outputId": "4dd91cac-f675-4747-c2f1-7f8caac573ae"
      },
      "execution_count": null,
      "outputs": [
        {
          "output_type": "execute_result",
          "data": {
            "text/plain": [
              "array([0, 1, 2, 3, 4, 5, 6, 7])"
            ]
          },
          "metadata": {},
          "execution_count": 28
        }
      ]
    },
    {
      "cell_type": "code",
      "source": [
        "# sqrt massivning har bir elementini kvadrat ildizni qaytaradi\n",
        "\n",
        "np.sqrt(arr)"
      ],
      "metadata": {
        "colab": {
          "base_uri": "https://localhost:8080/"
        },
        "id": "JSfRvLZ4hzXU",
        "outputId": "1f9c3ec6-fc72-4860-9524-040ecfa0a9a6"
      },
      "execution_count": null,
      "outputs": [
        {
          "output_type": "execute_result",
          "data": {
            "text/plain": [
              "array([0.        , 1.        , 1.41421356, 1.73205081, 2.        ,\n",
              "       2.23606798, 2.44948974, 2.64575131])"
            ]
          },
          "metadata": {},
          "execution_count": 30
        }
      ]
    },
    {
      "cell_type": "code",
      "source": [
        "# square massivning har bir elementini kvadratga oshiradi.\n",
        "\n",
        "np.square(arr)"
      ],
      "metadata": {
        "colab": {
          "base_uri": "https://localhost:8080/"
        },
        "id": "87iHS6Oqh-Rj",
        "outputId": "ecbfe649-1ac4-4643-cfb4-7e2acbde607c"
      },
      "execution_count": null,
      "outputs": [
        {
          "output_type": "execute_result",
          "data": {
            "text/plain": [
              "array([ 0,  1,  4,  9, 16, 25, 36, 49])"
            ]
          },
          "metadata": {},
          "execution_count": 32
        }
      ]
    },
    {
      "cell_type": "code",
      "source": [
        "arr1 = np.random.randn(5)\n",
        "arr2 = np.random.randn(5)\n",
        "\n",
        "print(arr1)\n",
        "print(arr2)"
      ],
      "metadata": {
        "colab": {
          "base_uri": "https://localhost:8080/"
        },
        "id": "bVYK5d55iL0J",
        "outputId": "17f92bb2-0b83-45c3-dcef-bbd8a4e1b322"
      },
      "execution_count": null,
      "outputs": [
        {
          "output_type": "stream",
          "name": "stdout",
          "text": [
            "[ 1.17229055 -0.88388691  0.33549045  0.17678009  0.1495986 ]\n",
            "[-0.54166434  0.17892747  0.65219376 -0.78175164 -0.7868864 ]\n"
          ]
        }
      ]
    },
    {
      "cell_type": "code",
      "source": [
        "# Add funksiyasini “arr1” va “arr2” uchun qoʻllash quyidagicha boʻladi.\n",
        "\n",
        "np.add(arr1, arr2)"
      ],
      "metadata": {
        "colab": {
          "base_uri": "https://localhost:8080/"
        },
        "id": "_vmLhjkGig5v",
        "outputId": "02a9897d-488d-4c41-bb83-26b5a911e0f3"
      },
      "execution_count": null,
      "outputs": [
        {
          "output_type": "execute_result",
          "data": {
            "text/plain": [
              "array([ 0.63062622, -0.70495945,  0.98768421, -0.60497155, -0.63728779])"
            ]
          },
          "metadata": {},
          "execution_count": 39
        }
      ]
    },
    {
      "cell_type": "code",
      "source": [
        "# multiply ikkita massivning mos elementlarini koʻpaytiradi.\n",
        "\n",
        "np.multiply(arr1, arr2)"
      ],
      "metadata": {
        "colab": {
          "base_uri": "https://localhost:8080/"
        },
        "id": "I9INscPwiszi",
        "outputId": "766aaf1e-5583-4ba8-ca00-3322b45d59da"
      },
      "execution_count": null,
      "outputs": [
        {
          "output_type": "execute_result",
          "data": {
            "text/plain": [
              "array([-0.63498798, -0.15815165,  0.21880478, -0.13819813, -0.11771711])"
            ]
          },
          "metadata": {},
          "execution_count": 41
        }
      ]
    },
    {
      "cell_type": "code",
      "source": [
        "# maximum ikkita massivning elementlarin taqqoslab ulardan kattasining\n",
        "# qiymatini qaytaradi.\n",
        "\n",
        "np.maximum(arr1, arr2)"
      ],
      "metadata": {
        "colab": {
          "base_uri": "https://localhost:8080/"
        },
        "id": "ltWqARaNi3nJ",
        "outputId": "065ade79-9748-4ec6-fc17-95b34a389286"
      },
      "execution_count": null,
      "outputs": [
        {
          "output_type": "execute_result",
          "data": {
            "text/plain": [
              "array([1.17229055, 0.17892747, 0.65219376, 0.17678009, 0.1495986 ])"
            ]
          },
          "metadata": {},
          "execution_count": 42
        }
      ]
    },
    {
      "cell_type": "markdown",
      "source": [
        "## MANTIQIY SHART OPERATORI"
      ],
      "metadata": {
        "id": "O0H9FxPljCHM"
      }
    },
    {
      "cell_type": "code",
      "source": [
        "import numpy as np\n",
        "\n",
        "xarr = np.array(np.arange(1, 100, 3))\n",
        "yarr = np.array(np.arange(1, 100, 4))\n",
        "\n",
        "cond = np.array([True, False, True, True, False])\n",
        "\n",
        "result = np.where(cond, xarr, yarr)\n",
        "\n",
        "result"
      ],
      "metadata": {
        "id": "cydLuDT-mO3-"
      },
      "execution_count": null,
      "outputs": []
    },
    {
      "cell_type": "markdown",
      "source": [
        "“arr” nomli (3,3) massiv yaratib, uning elementlarni shart yordamida\n",
        "almashtiramiz"
      ],
      "metadata": {
        "id": "hIvFTAQ7m0PF"
      }
    },
    {
      "cell_type": "code",
      "source": [
        "arr = np.random.rand(3, 3)\n",
        "arr"
      ],
      "metadata": {
        "colab": {
          "base_uri": "https://localhost:8080/"
        },
        "id": "JF9mP1H7mP_I",
        "outputId": "42d81673-e468-4f0d-8ad6-04f07e86e509"
      },
      "execution_count": null,
      "outputs": [
        {
          "output_type": "execute_result",
          "data": {
            "text/plain": [
              "array([[0.38249259, 0.80401491, 0.20282152],\n",
              "       [0.2151004 , 0.47455621, 0.6396888 ],\n",
              "       [0.02932111, 0.25769068, 0.52639909]])"
            ]
          },
          "metadata": {},
          "execution_count": 10
        }
      ]
    },
    {
      "cell_type": "code",
      "source": [
        "result = np.where(arr<0,0,10)\n",
        "# nafiy sonlar 0 ga, musbat sonlar esa 10 bilan almashtiriladi\n",
        "result"
      ],
      "metadata": {
        "colab": {
          "base_uri": "https://localhost:8080/"
        },
        "id": "qJYCT1cMmmdD",
        "outputId": "e354bcc3-28b0-4d10-a01c-d70b983ad6a3"
      },
      "execution_count": null,
      "outputs": [
        {
          "output_type": "execute_result",
          "data": {
            "text/plain": [
              "array([[10, 10, 10],\n",
              "       [10, 10, 10],\n",
              "       [10, 10, 10]])"
            ]
          },
          "metadata": {},
          "execution_count": 13
        }
      ]
    },
    {
      "cell_type": "markdown",
      "source": [
        "## MATEMATIK VA STATISTIK USULLARNI QOʻLLASH"
      ],
      "metadata": {
        "id": "zIXxmFY5nDqk"
      }
    },
    {
      "cell_type": "markdown",
      "source": [
        "Numpy kutubxonasida massivlar ustida oddiy arifmetik amallar va\n",
        "maxsus matematik usullarni qoʻllash mumkin."
      ],
      "metadata": {
        "id": "5_-JlIxRnNiZ"
      }
    },
    {
      "cell_type": "markdown",
      "source": [
        "![image.png](data:image/png;base64,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)"
      ],
      "metadata": {
        "id": "eJPDoUdlnSeh"
      }
    },
    {
      "cell_type": "code",
      "source": [
        "import numpy as np\n",
        "arr = np.array(range(1, 21))\n",
        "arr"
      ],
      "metadata": {
        "colab": {
          "base_uri": "https://localhost:8080/"
        },
        "id": "VnzFwuWhmuT6",
        "outputId": "b2996e0a-3ec3-4432-aec3-b756043b07c7"
      },
      "execution_count": null,
      "outputs": [
        {
          "output_type": "execute_result",
          "data": {
            "text/plain": [
              "array([ 1,  2,  3,  4,  5,  6,  7,  8,  9, 10, 11, 12, 13, 14, 15, 16, 17,\n",
              "       18, 19, 20])"
            ]
          },
          "metadata": {},
          "execution_count": 3
        }
      ]
    },
    {
      "cell_type": "markdown",
      "source": [
        "sum() -- Massiv elementlarining yig'indisi"
      ],
      "metadata": {
        "id": "5Htekgm3n0wx"
      }
    },
    {
      "cell_type": "code",
      "source": [
        "print(\"Yig'indi: \", np.sum(arr))"
      ],
      "metadata": {
        "colab": {
          "base_uri": "https://localhost:8080/"
        },
        "id": "iOA2rj6qnwO7",
        "outputId": "f4512eb4-0280-4694-adae-e7823508a2e3"
      },
      "execution_count": null,
      "outputs": [
        {
          "output_type": "stream",
          "name": "stdout",
          "text": [
            "Yigʻindi:  210\n"
          ]
        }
      ]
    },
    {
      "cell_type": "markdown",
      "source": [
        "mean() -- Massiv elementlarining oʻrtacha qiymati"
      ],
      "metadata": {
        "id": "R97iQCdhoa61"
      }
    },
    {
      "cell_type": "code",
      "source": [
        "print(\"O'rtacha qiymat: \", np.mean(arr))"
      ],
      "metadata": {
        "colab": {
          "base_uri": "https://localhost:8080/"
        },
        "id": "PYhRMSYd9IJ-",
        "outputId": "f9a18e5a-09a8-4dd8-c00a-dcad6df5f4d9"
      },
      "execution_count": null,
      "outputs": [
        {
          "output_type": "stream",
          "name": "stdout",
          "text": [
            "O'rtacha qiymat:  10.5\n"
          ]
        }
      ]
    },
    {
      "cell_type": "markdown",
      "source": [
        "max() -- Massiv elementlarining maksimal qiymati\n",
        "min() -- Massiv elementlarining minimal qiymat"
      ],
      "metadata": {
        "id": "luboFhua-JHn"
      }
    },
    {
      "cell_type": "code",
      "source": [
        "print(\"Maksimal qiymat: \", np.max(arr))\n",
        "print(\"Minimal qiymat: \", np.min(arr))"
      ],
      "metadata": {
        "colab": {
          "base_uri": "https://localhost:8080/"
        },
        "id": "CmOCMuc2-Kwn",
        "outputId": "832fa0f3-e302-4c33-b882-0426dbf5a612"
      },
      "execution_count": null,
      "outputs": [
        {
          "output_type": "stream",
          "name": "stdout",
          "text": [
            "Maksimal qiymat:  20\n",
            "Minimal qiymat:  1\n"
          ]
        }
      ]
    },
    {
      "cell_type": "markdown",
      "source": [
        "std() -- Massiv elementlarining standart chetlanishi"
      ],
      "metadata": {
        "id": "Aybt5i0r-RBl"
      }
    },
    {
      "cell_type": "code",
      "source": [
        "print(\"Standart chetlanish: \", np.std(arr))"
      ],
      "metadata": {
        "colab": {
          "base_uri": "https://localhost:8080/"
        },
        "id": "NfxBz7Kf-daN",
        "outputId": "4061d8de-e01e-43ae-b3e8-374314892267"
      },
      "execution_count": null,
      "outputs": [
        {
          "output_type": "stream",
          "name": "stdout",
          "text": [
            "Standart chetlanish:  5.766281297335398\n"
          ]
        }
      ]
    },
    {
      "cell_type": "markdown",
      "source": [
        "sqrt() -- Massiv elementlarining kvadrat ildizi"
      ],
      "metadata": {
        "id": "ngVZ82oz-rWh"
      }
    },
    {
      "cell_type": "code",
      "source": [
        "print(\"Kvadrat ildiz: \", np.sqrt(arr))"
      ],
      "metadata": {
        "colab": {
          "base_uri": "https://localhost:8080/"
        },
        "id": "1W7t0PLf-uJ2",
        "outputId": "d2beffd6-4f52-4c4e-c171-0626294f927e"
      },
      "execution_count": null,
      "outputs": [
        {
          "output_type": "stream",
          "name": "stdout",
          "text": [
            "Kvadrat ildiz:  [1.         1.41421356 1.73205081 2.         2.23606798 2.44948974\n",
            " 2.64575131 2.82842712 3.         3.16227766 3.31662479 3.46410162\n",
            " 3.60555128 3.74165739 3.87298335 4.         4.12310563 4.24264069\n",
            " 4.35889894 4.47213595]\n"
          ]
        }
      ]
    },
    {
      "cell_type": "markdown",
      "source": [
        "log() -- Massiv elementlarining logarifmi"
      ],
      "metadata": {
        "id": "4YsKA-qM-ykw"
      }
    },
    {
      "cell_type": "code",
      "source": [
        "print(\"Natural logarifm: \", np.log(arr))"
      ],
      "metadata": {
        "colab": {
          "base_uri": "https://localhost:8080/"
        },
        "id": "2SL76jYc-z4O",
        "outputId": "e993b446-5154-4088-f67d-2d8522eb9bd6"
      },
      "execution_count": null,
      "outputs": [
        {
          "output_type": "stream",
          "name": "stdout",
          "text": [
            "Natural logarifm:  [0.         0.69314718 1.09861229 1.38629436 1.60943791 1.79175947\n",
            " 1.94591015 2.07944154 2.19722458 2.30258509 2.39789527 2.48490665\n",
            " 2.56494936 2.63905733 2.7080502  2.77258872 2.83321334 2.89037176\n",
            " 2.94443898 2.99573227]\n"
          ]
        }
      ]
    },
    {
      "cell_type": "markdown",
      "source": [
        ">> cumsum() -- Cumsum metodi yig’lib boradigan yig’indi.\n",
        "cumprod() -- Cumcum metodi yig’lib boradigan ko'paytma."
      ],
      "metadata": {
        "id": "DTR5mVc6_CIq"
      }
    },
    {
      "cell_type": "code",
      "source": [
        "print(\"Summa: \", np.cumsum(arr))\n",
        "\n",
        "print(\"Ko'paytma: \", np.cumprod(arr))"
      ],
      "metadata": {
        "colab": {
          "base_uri": "https://localhost:8080/"
        },
        "id": "6kH0gjIa_Tso",
        "outputId": "dd6ca2f9-059d-4b5c-f1dc-5b17b77a26ab"
      },
      "execution_count": null,
      "outputs": [
        {
          "output_type": "stream",
          "name": "stdout",
          "text": [
            "Summa:  [  1   3   6  10  15  21  28  36  45  55  66  78  91 105 120 136 153 171\n",
            " 190 210]\n",
            "Ko'paytma:  [                  1                   2                   6\n",
            "                  24                 120                 720\n",
            "                5040               40320              362880\n",
            "             3628800            39916800           479001600\n",
            "          6227020800         87178291200       1307674368000\n",
            "      20922789888000     355687428096000    6402373705728000\n",
            "  121645100408832000 2432902008176640000]\n"
          ]
        }
      ]
    },
    {
      "cell_type": "markdown",
      "source": [
        "## TARTIBLASH (SORTING)"
      ],
      "metadata": {
        "id": "qtkL0MBz_4Zr"
      }
    },
    {
      "cell_type": "markdown",
      "source": [
        "Toʻrtta ta taxminiy elementlardan tashkil topgan massiv yaratib olib uni\n",
        "chop qilish quyidagicha amalga oshiriladi.\n"
      ],
      "metadata": {
        "id": "RColsFIR__U3"
      }
    },
    {
      "cell_type": "code",
      "source": [
        "arr = np.random.rand(10)\n",
        "arr"
      ],
      "metadata": {
        "colab": {
          "base_uri": "https://localhost:8080/"
        },
        "id": "ZdE6Rvn8AFc-",
        "outputId": "6debb0a3-a2b6-42a9-e73d-7fdfeb61ea07"
      },
      "execution_count": null,
      "outputs": [
        {
          "output_type": "execute_result",
          "data": {
            "text/plain": [
              "array([0.5037038 , 0.38679698, 0.56182269, 0.70790095, 0.4813911 ,\n",
              "       0.17372338, 0.2037692 , 0.9495917 , 0.81906439, 0.64543846])"
            ]
          },
          "metadata": {},
          "execution_count": 30
        }
      ]
    },
    {
      "cell_type": "markdown",
      "source": [
        "Sort funksiyasi yordamida “arr” massivning elementlarini tartiblash\n",
        "quyidagicha boʻladi."
      ],
      "metadata": {
        "id": "5r07Aa6LAkU8"
      }
    },
    {
      "cell_type": "code",
      "source": [
        "# 1\n",
        "arr_sort1 = np.sort(arr)\n",
        "print(arr_sort1)\n",
        "\n",
        "# 2\n",
        "arr.sort()\n",
        "print(arr)\n",
        "\n",
        "# Teskari tartiblash.\n",
        "print(-np.sort(-arr))"
      ],
      "metadata": {
        "colab": {
          "base_uri": "https://localhost:8080/"
        },
        "id": "b1UXUGNUAnSm",
        "outputId": "0690ce85-e97f-4818-d2f0-657c478edab0"
      },
      "execution_count": null,
      "outputs": [
        {
          "output_type": "stream",
          "name": "stdout",
          "text": [
            "[0.28494296 0.84359968 0.85569609 0.93941042]\n",
            "[0.28494296 0.84359968 0.85569609 0.93941042]\n",
            "[0.93941042 0.85569609 0.84359968 0.28494296]\n"
          ]
        }
      ]
    },
    {
      "cell_type": "markdown",
      "source": [
        "2 oʻlchovli massiv uchun tartiblash, axis=0 – ustun uchun,\n",
        "axis=1 – qator uchun.\n"
      ],
      "metadata": {
        "id": "uJWv_yHmBayh"
      }
    },
    {
      "cell_type": "code",
      "source": [
        "sarr = arr.reshape(2, 5)\n",
        "sarr"
      ],
      "metadata": {
        "colab": {
          "base_uri": "https://localhost:8080/"
        },
        "id": "DqRS6QQjBfnX",
        "outputId": "d44ea80a-faee-4661-f373-8863779faa15"
      },
      "execution_count": null,
      "outputs": [
        {
          "output_type": "execute_result",
          "data": {
            "text/plain": [
              "array([[0.5037038 , 0.38679698, 0.56182269, 0.70790095, 0.4813911 ],\n",
              "       [0.17372338, 0.2037692 , 0.9495917 , 0.81906439, 0.64543846]])"
            ]
          },
          "metadata": {},
          "execution_count": 35
        }
      ]
    },
    {
      "cell_type": "code",
      "source": [
        "# ustun uchun\n",
        "print(np.sort(sarr, axis=0))"
      ],
      "metadata": {
        "colab": {
          "base_uri": "https://localhost:8080/"
        },
        "id": "laAncBPpCYrm",
        "outputId": "fc1e31da-75cf-464d-9cc2-3756f18d6035"
      },
      "execution_count": null,
      "outputs": [
        {
          "output_type": "stream",
          "name": "stdout",
          "text": [
            "[[0.17372338 0.2037692  0.56182269 0.70790095 0.4813911 ]\n",
            " [0.5037038  0.38679698 0.9495917  0.81906439 0.64543846]]\n"
          ]
        }
      ]
    },
    {
      "cell_type": "code",
      "source": [
        "# qator uchun\n",
        "print(np.sort(sarr, axis=1))"
      ],
      "metadata": {
        "colab": {
          "base_uri": "https://localhost:8080/"
        },
        "id": "Bif7nfB_CbIO",
        "outputId": "bb85988a-2de7-4b7c-d2e2-3f1e4d1e9b45"
      },
      "execution_count": null,
      "outputs": [
        {
          "output_type": "stream",
          "name": "stdout",
          "text": [
            "[[0.38679698 0.4813911  0.5037038  0.56182269 0.70790095]\n",
            " [0.17372338 0.2037692  0.64543846 0.81906439 0.9495917 ]]\n"
          ]
        }
      ]
    },
    {
      "cell_type": "markdown",
      "source": [
        "## TAKRORLANMAS (UNIQUE) VA BOSHQA AMALLAR"
      ],
      "metadata": {
        "id": "tV_0R99cCmY7"
      }
    },
    {
      "cell_type": "code",
      "source": [
        "word = np.array([\"Murod\", \"Anvar\", \"Bobur\", \"Temur\", \"Anvar\", \"Temur\"])\n",
        "numbers = np.array([6, 6, 6, 4, 4, 2, 1, 5, 4])"
      ],
      "metadata": {
        "id": "_QR9lkbGCu9r"
      },
      "execution_count": null,
      "outputs": []
    },
    {
      "cell_type": "markdown",
      "source": [
        "Unique “word” dagi takrorlanmas elementlarni qaytaradi\n",
        "(takrorlansa bittasini qabul qiladi)"
      ],
      "metadata": {
        "id": "kIuUXhnQDPpM"
      }
    },
    {
      "cell_type": "code",
      "source": [
        "print(np.unique(word))\n",
        "\n",
        "print(np.unique(numbers))"
      ],
      "metadata": {
        "colab": {
          "base_uri": "https://localhost:8080/"
        },
        "id": "whWuFMIeDNEX",
        "outputId": "8e28bd22-08c6-44ab-98d3-be6a11f8b1a0"
      },
      "execution_count": null,
      "outputs": [
        {
          "output_type": "stream",
          "name": "stdout",
          "text": [
            "['Anvar' 'Bobur' 'Murod' 'Temur']\n",
            "[1 2 4 5 6]\n"
          ]
        }
      ]
    },
    {
      "cell_type": "markdown",
      "source": [
        "In1d usuli “arr2” dagi elementlarni “arr1” mavjudligini tekshiradi."
      ],
      "metadata": {
        "id": "pgDGybd8Dg3w"
      }
    },
    {
      "cell_type": "code",
      "source": [
        "arr1 = np.array([8, 0, 0, 4, 2, 3, 6])\n",
        "arr2 = np.array([0, 6, 3])"
      ],
      "metadata": {
        "id": "Vx68YzQmDhY4"
      },
      "execution_count": null,
      "outputs": []
    },
    {
      "cell_type": "code",
      "source": [
        "np.in1d(arr1, arr2)"
      ],
      "metadata": {
        "colab": {
          "base_uri": "https://localhost:8080/"
        },
        "id": "VfXYCp3gDsrO",
        "outputId": "efde1c90-235a-4f1d-bfb8-48d623c30f1e"
      },
      "execution_count": null,
      "outputs": [
        {
          "output_type": "execute_result",
          "data": {
            "text/plain": [
              "array([False,  True,  True, False, False,  True,  True])"
            ]
          },
          "metadata": {},
          "execution_count": 46
        }
      ]
    },
    {
      "cell_type": "markdown",
      "source": [
        "Setdiff1d usuli “arr1” dagi elementlarni “arr2” massivdagi\n",
        "takorlanmas qismini qaytaradi."
      ],
      "metadata": {
        "id": "3vaHxSXMDzSQ"
      }
    },
    {
      "cell_type": "code",
      "source": [
        "np.setdiff1d(arr1, arr2)"
      ],
      "metadata": {
        "colab": {
          "base_uri": "https://localhost:8080/"
        },
        "id": "_CCgFEolD0B1",
        "outputId": "69e25e67-af4b-4f0a-b881-e7d580f5d838"
      },
      "execution_count": null,
      "outputs": [
        {
          "output_type": "execute_result",
          "data": {
            "text/plain": [
              "array([2, 4, 8])"
            ]
          },
          "metadata": {},
          "execution_count": 47
        }
      ]
    },
    {
      "cell_type": "markdown",
      "source": [
        "## FAYLLAR BILAN ISHLASH"
      ],
      "metadata": {
        "id": "wpqXzZdREHAk"
      }
    },
    {
      "cell_type": "markdown",
      "source": [
        "**Yaratgan massivlarni fayllarga saqlash va ularga ishlov berish quyidagicha amalga oshiriladi.**\n",
        "\n",
        "Dastlab, “arr” nomli massiv yaratiladi va uni datafirst nomli faylga\n",
        "saqlanadi."
      ],
      "metadata": {
        "id": "343IrAuDEIhf"
      }
    },
    {
      "cell_type": "code",
      "source": [
        "arr = np.arange(8)\n",
        "np.save(\"fail_name\", arr)"
      ],
      "metadata": {
        "id": "c_jzfWIIEIB2"
      },
      "execution_count": null,
      "outputs": []
    },
    {
      "cell_type": "markdown",
      "source": [
        "Ushbu faylni qayta yuklash uchun .load metodidan foydalaniladi."
      ],
      "metadata": {
        "id": "aUBk6C8_EyTc"
      }
    },
    {
      "cell_type": "code",
      "source": [
        "arr1 = np.load(\"fail_name.npy\")\n",
        "arr1"
      ],
      "metadata": {
        "colab": {
          "base_uri": "https://localhost:8080/"
        },
        "id": "FcN0kld6EvM2",
        "outputId": "f280dad1-f44b-408e-c4b1-7dc1cf73deed"
      },
      "execution_count": null,
      "outputs": [
        {
          "output_type": "execute_result",
          "data": {
            "text/plain": [
              "array([0, 1, 2, 3, 4, 5, 6, 7])"
            ]
          },
          "metadata": {},
          "execution_count": 53
        }
      ]
    },
    {
      "cell_type": "markdown",
      "source": [
        "Bir nechta massivlarni bitta faylga saqlash uchun .savez metodidan\n",
        "foydalaniladi."
      ],
      "metadata": {
        "id": "Brb7tOs0E9up"
      }
    },
    {
      "cell_type": "code",
      "source": [
        "np.savez(\"arrays\", a=arr, b=arr1)\n",
        "arr3 = np.load(\"arrays.npz\")\n",
        "arr3['a']"
      ],
      "metadata": {
        "colab": {
          "base_uri": "https://localhost:8080/"
        },
        "id": "ktl1mTnHE6oG",
        "outputId": "eae7156a-368f-4960-a7a5-63be69a555dc"
      },
      "execution_count": null,
      "outputs": [
        {
          "output_type": "execute_result",
          "data": {
            "text/plain": [
              "array([0, 1, 2, 3, 4, 5, 6, 7])"
            ]
          },
          "metadata": {},
          "execution_count": 60
        }
      ]
    },
    {
      "cell_type": "code",
      "source": [
        "arr3['b']"
      ],
      "metadata": {
        "colab": {
          "base_uri": "https://localhost:8080/"
        },
        "id": "EpfK4PlBFWb2",
        "outputId": "cad786fc-cb96-48d4-8ed6-402d204a1baf"
      },
      "execution_count": null,
      "outputs": [
        {
          "output_type": "execute_result",
          "data": {
            "text/plain": [
              "array([0, 1, 2, 3, 4, 5, 6, 7])"
            ]
          },
          "metadata": {},
          "execution_count": 61
        }
      ]
    }
  ]
}