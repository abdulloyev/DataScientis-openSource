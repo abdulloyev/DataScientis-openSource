{
  "nbformat": 4,
  "nbformat_minor": 0,
  "metadata": {
    "colab": {
      "provenance": [],
      "authorship_tag": "ABX9TyOy4p4Nf2Msz7G5paIMLYX8",
      "include_colab_link": true
    },
    "kernelspec": {
      "name": "python3",
      "display_name": "Python 3"
    },
    "language_info": {
      "name": "python"
    }
  },
  "cells": [
    {
      "cell_type": "markdown",
      "metadata": {
        "id": "view-in-github",
        "colab_type": "text"
      },
      "source": [
        "<a href=\"https://colab.research.google.com/github/abdulloyev/DataScientis-openSource/blob/main/uyqu_samaradorligini_oshirish.ipynb\" target=\"_parent\"><img src=\"https://colab.research.google.com/assets/colab-badge.svg\" alt=\"Open In Colab\"/></a>"
      ]
    },
    {
      "cell_type": "markdown",
      "source": [
        "## DataSetni o'rnatish va o'qish"
      ],
      "metadata": {
        "id": "5Vd5GpBWKt27"
      }
    },
    {
      "cell_type": "code",
      "execution_count": null,
      "metadata": {
        "colab": {
          "base_uri": "https://localhost:8080/"
        },
        "id": "Kg_4-jIE75Vh",
        "outputId": "2fa21a33-edbe-47d4-9a91-f733cbfdb7d6"
      },
      "outputs": [
        {
          "output_type": "stream",
          "name": "stdout",
          "text": [
            "Requirement already satisfied: kagglehub in /usr/local/lib/python3.11/dist-packages (0.3.11)\n",
            "Requirement already satisfied: packaging in /usr/local/lib/python3.11/dist-packages (from kagglehub) (24.2)\n",
            "Requirement already satisfied: pyyaml in /usr/local/lib/python3.11/dist-packages (from kagglehub) (6.0.2)\n",
            "Requirement already satisfied: requests in /usr/local/lib/python3.11/dist-packages (from kagglehub) (2.32.3)\n",
            "Requirement already satisfied: tqdm in /usr/local/lib/python3.11/dist-packages (from kagglehub) (4.67.1)\n",
            "Requirement already satisfied: charset-normalizer<4,>=2 in /usr/local/lib/python3.11/dist-packages (from requests->kagglehub) (3.4.1)\n",
            "Requirement already satisfied: idna<4,>=2.5 in /usr/local/lib/python3.11/dist-packages (from requests->kagglehub) (3.10)\n",
            "Requirement already satisfied: urllib3<3,>=1.21.1 in /usr/local/lib/python3.11/dist-packages (from requests->kagglehub) (2.3.0)\n",
            "Requirement already satisfied: certifi>=2017.4.17 in /usr/local/lib/python3.11/dist-packages (from requests->kagglehub) (2025.1.31)\n"
          ]
        }
      ],
      "source": [
        "!pip install --upgrade kagglehub"
      ]
    },
    {
      "cell_type": "markdown",
      "source": [
        "Kerakli kutubxonalarni chaqirib olazmi"
      ],
      "metadata": {
        "id": "UJXNxCJ8LQ_o"
      }
    },
    {
      "cell_type": "code",
      "source": [
        "import pandas as pd\n",
        "import numpy as np\n",
        "import matplotlib.pyplot as plt\n",
        "from sklearn.model_selection import train_test_split\n",
        "from sklearn.metrics import mean_squared_error\n",
        "import kagglehub\n",
        "import seaborn as sns\n",
        "\n",
        "%matplotlib inline\n",
        "\n",
        "sns.set_style(\"whitegrid\")"
      ],
      "metadata": {
        "id": "6Zq8Nl-NLPiM"
      },
      "execution_count": null,
      "outputs": []
    },
    {
      "cell_type": "code",
      "source": [
        "# Datasetni yuklash\n",
        "path = kagglehub.dataset_download(\"adilshamim8/sleep-cycle-and-productivity\")\n",
        "\n",
        "path"
      ],
      "metadata": {
        "colab": {
          "base_uri": "https://localhost:8080/",
          "height": 35
        },
        "id": "9eQWtcBu9rYh",
        "outputId": "d04623cf-1847-4191-feef-3462adc290b2"
      },
      "execution_count": null,
      "outputs": [
        {
          "output_type": "execute_result",
          "data": {
            "text/plain": [
              "'/kaggle/input/sleep-cycle-and-productivity'"
            ],
            "application/vnd.google.colaboratory.intrinsic+json": {
              "type": "string"
            }
          },
          "metadata": {},
          "execution_count": 43
        }
      ]
    },
    {
      "cell_type": "code",
      "source": [
        "import os\n",
        "\n",
        "# List the dataset files\n",
        "dataset_files = os.listdir(path)\n",
        "print(dataset_files)"
      ],
      "metadata": {
        "colab": {
          "base_uri": "https://localhost:8080/"
        },
        "id": "1vdVrrc7-Tpe",
        "outputId": "00b0d9da-8c68-44db-9261-b0bcf5a6699a"
      },
      "execution_count": null,
      "outputs": [
        {
          "output_type": "stream",
          "name": "stdout",
          "text": [
            "['sleep_cycle_productivity.csv']\n"
          ]
        }
      ]
    },
    {
      "cell_type": "code",
      "source": [
        "# Replac'sleep_data.csv' with the actual file name\n",
        "df = pd.read_csv(os.path.join(path, \"sleep_cycle_productivity.csv\"))"
      ],
      "metadata": {
        "id": "sPIt3VRY9sAm"
      },
      "execution_count": null,
      "outputs": []
    },
    {
      "cell_type": "markdown",
      "source": [
        "Ma'lumotlarning tahminiy 5 satrini ko'rish."
      ],
      "metadata": {
        "id": "QFYePhaJJwac"
      }
    },
    {
      "cell_type": "code",
      "source": [
        "df.sample(5)"
      ],
      "metadata": {
        "colab": {
          "base_uri": "https://localhost:8080/",
          "height": 310
        },
        "id": "3H46p-3NJtmS",
        "outputId": "67aab8c0-6a42-4f46-859a-6b46ceff586c"
      },
      "execution_count": null,
      "outputs": [
        {
          "output_type": "execute_result",
          "data": {
            "text/plain": [
              "            Date  Person_ID  Age  Gender  Sleep Start Time  Sleep End Time  \\\n",
              "3187  2024-04-16       4884   38  Female             21.55            5.34   \n",
              "4178  2024-11-01       6453   57   Other             20.87            5.34   \n",
              "3093  2024-05-19       3240   54  Female             21.98            4.23   \n",
              "74    2024-12-26       1688   37  Female             21.45            4.63   \n",
              "739   2024-08-22       8971   55   Other             21.37            3.81   \n",
              "\n",
              "      Total Sleep Hours  Sleep Quality  Exercise (mins/day)  \\\n",
              "3187               7.79              5                   10   \n",
              "4178               8.47              1                   84   \n",
              "3093               6.25              7                   24   \n",
              "74                 7.18              8                   48   \n",
              "739                6.44              1                   20   \n",
              "\n",
              "      Caffeine Intake (mg)  Screen Time Before Bed (mins)  \\\n",
              "3187                   284                            110   \n",
              "4178                   144                            131   \n",
              "3093                    88                            130   \n",
              "74                     256                            140   \n",
              "739                    270                             13   \n",
              "\n",
              "      Work Hours (hrs/day)  Productivity Score  Mood Score  Stress Level  \n",
              "3187             11.109533                   5           4             5  \n",
              "4178              8.895790                   2           6            10  \n",
              "3093              7.856145                   1           4             5  \n",
              "74                7.178545                   3           8             3  \n",
              "739              11.942647                  10           4             7  "
            ],
            "text/html": [
              "\n",
              "  <div id=\"df-eee67aef-04b8-4558-b470-343a4d342ca1\" class=\"colab-df-container\">\n",
              "    <div>\n",
              "<style scoped>\n",
              "    .dataframe tbody tr th:only-of-type {\n",
              "        vertical-align: middle;\n",
              "    }\n",
              "\n",
              "    .dataframe tbody tr th {\n",
              "        vertical-align: top;\n",
              "    }\n",
              "\n",
              "    .dataframe thead th {\n",
              "        text-align: right;\n",
              "    }\n",
              "</style>\n",
              "<table border=\"1\" class=\"dataframe\">\n",
              "  <thead>\n",
              "    <tr style=\"text-align: right;\">\n",
              "      <th></th>\n",
              "      <th>Date</th>\n",
              "      <th>Person_ID</th>\n",
              "      <th>Age</th>\n",
              "      <th>Gender</th>\n",
              "      <th>Sleep Start Time</th>\n",
              "      <th>Sleep End Time</th>\n",
              "      <th>Total Sleep Hours</th>\n",
              "      <th>Sleep Quality</th>\n",
              "      <th>Exercise (mins/day)</th>\n",
              "      <th>Caffeine Intake (mg)</th>\n",
              "      <th>Screen Time Before Bed (mins)</th>\n",
              "      <th>Work Hours (hrs/day)</th>\n",
              "      <th>Productivity Score</th>\n",
              "      <th>Mood Score</th>\n",
              "      <th>Stress Level</th>\n",
              "    </tr>\n",
              "  </thead>\n",
              "  <tbody>\n",
              "    <tr>\n",
              "      <th>3187</th>\n",
              "      <td>2024-04-16</td>\n",
              "      <td>4884</td>\n",
              "      <td>38</td>\n",
              "      <td>Female</td>\n",
              "      <td>21.55</td>\n",
              "      <td>5.34</td>\n",
              "      <td>7.79</td>\n",
              "      <td>5</td>\n",
              "      <td>10</td>\n",
              "      <td>284</td>\n",
              "      <td>110</td>\n",
              "      <td>11.109533</td>\n",
              "      <td>5</td>\n",
              "      <td>4</td>\n",
              "      <td>5</td>\n",
              "    </tr>\n",
              "    <tr>\n",
              "      <th>4178</th>\n",
              "      <td>2024-11-01</td>\n",
              "      <td>6453</td>\n",
              "      <td>57</td>\n",
              "      <td>Other</td>\n",
              "      <td>20.87</td>\n",
              "      <td>5.34</td>\n",
              "      <td>8.47</td>\n",
              "      <td>1</td>\n",
              "      <td>84</td>\n",
              "      <td>144</td>\n",
              "      <td>131</td>\n",
              "      <td>8.895790</td>\n",
              "      <td>2</td>\n",
              "      <td>6</td>\n",
              "      <td>10</td>\n",
              "    </tr>\n",
              "    <tr>\n",
              "      <th>3093</th>\n",
              "      <td>2024-05-19</td>\n",
              "      <td>3240</td>\n",
              "      <td>54</td>\n",
              "      <td>Female</td>\n",
              "      <td>21.98</td>\n",
              "      <td>4.23</td>\n",
              "      <td>6.25</td>\n",
              "      <td>7</td>\n",
              "      <td>24</td>\n",
              "      <td>88</td>\n",
              "      <td>130</td>\n",
              "      <td>7.856145</td>\n",
              "      <td>1</td>\n",
              "      <td>4</td>\n",
              "      <td>5</td>\n",
              "    </tr>\n",
              "    <tr>\n",
              "      <th>74</th>\n",
              "      <td>2024-12-26</td>\n",
              "      <td>1688</td>\n",
              "      <td>37</td>\n",
              "      <td>Female</td>\n",
              "      <td>21.45</td>\n",
              "      <td>4.63</td>\n",
              "      <td>7.18</td>\n",
              "      <td>8</td>\n",
              "      <td>48</td>\n",
              "      <td>256</td>\n",
              "      <td>140</td>\n",
              "      <td>7.178545</td>\n",
              "      <td>3</td>\n",
              "      <td>8</td>\n",
              "      <td>3</td>\n",
              "    </tr>\n",
              "    <tr>\n",
              "      <th>739</th>\n",
              "      <td>2024-08-22</td>\n",
              "      <td>8971</td>\n",
              "      <td>55</td>\n",
              "      <td>Other</td>\n",
              "      <td>21.37</td>\n",
              "      <td>3.81</td>\n",
              "      <td>6.44</td>\n",
              "      <td>1</td>\n",
              "      <td>20</td>\n",
              "      <td>270</td>\n",
              "      <td>13</td>\n",
              "      <td>11.942647</td>\n",
              "      <td>10</td>\n",
              "      <td>4</td>\n",
              "      <td>7</td>\n",
              "    </tr>\n",
              "  </tbody>\n",
              "</table>\n",
              "</div>\n",
              "    <div class=\"colab-df-buttons\">\n",
              "\n",
              "  <div class=\"colab-df-container\">\n",
              "    <button class=\"colab-df-convert\" onclick=\"convertToInteractive('df-eee67aef-04b8-4558-b470-343a4d342ca1')\"\n",
              "            title=\"Convert this dataframe to an interactive table.\"\n",
              "            style=\"display:none;\">\n",
              "\n",
              "  <svg xmlns=\"http://www.w3.org/2000/svg\" height=\"24px\" viewBox=\"0 -960 960 960\">\n",
              "    <path d=\"M120-120v-720h720v720H120Zm60-500h600v-160H180v160Zm220 220h160v-160H400v160Zm0 220h160v-160H400v160ZM180-400h160v-160H180v160Zm440 0h160v-160H620v160ZM180-180h160v-160H180v160Zm440 0h160v-160H620v160Z\"/>\n",
              "  </svg>\n",
              "    </button>\n",
              "\n",
              "  <style>\n",
              "    .colab-df-container {\n",
              "      display:flex;\n",
              "      gap: 12px;\n",
              "    }\n",
              "\n",
              "    .colab-df-convert {\n",
              "      background-color: #E8F0FE;\n",
              "      border: none;\n",
              "      border-radius: 50%;\n",
              "      cursor: pointer;\n",
              "      display: none;\n",
              "      fill: #1967D2;\n",
              "      height: 32px;\n",
              "      padding: 0 0 0 0;\n",
              "      width: 32px;\n",
              "    }\n",
              "\n",
              "    .colab-df-convert:hover {\n",
              "      background-color: #E2EBFA;\n",
              "      box-shadow: 0px 1px 2px rgba(60, 64, 67, 0.3), 0px 1px 3px 1px rgba(60, 64, 67, 0.15);\n",
              "      fill: #174EA6;\n",
              "    }\n",
              "\n",
              "    .colab-df-buttons div {\n",
              "      margin-bottom: 4px;\n",
              "    }\n",
              "\n",
              "    [theme=dark] .colab-df-convert {\n",
              "      background-color: #3B4455;\n",
              "      fill: #D2E3FC;\n",
              "    }\n",
              "\n",
              "    [theme=dark] .colab-df-convert:hover {\n",
              "      background-color: #434B5C;\n",
              "      box-shadow: 0px 1px 3px 1px rgba(0, 0, 0, 0.15);\n",
              "      filter: drop-shadow(0px 1px 2px rgba(0, 0, 0, 0.3));\n",
              "      fill: #FFFFFF;\n",
              "    }\n",
              "  </style>\n",
              "\n",
              "    <script>\n",
              "      const buttonEl =\n",
              "        document.querySelector('#df-eee67aef-04b8-4558-b470-343a4d342ca1 button.colab-df-convert');\n",
              "      buttonEl.style.display =\n",
              "        google.colab.kernel.accessAllowed ? 'block' : 'none';\n",
              "\n",
              "      async function convertToInteractive(key) {\n",
              "        const element = document.querySelector('#df-eee67aef-04b8-4558-b470-343a4d342ca1');\n",
              "        const dataTable =\n",
              "          await google.colab.kernel.invokeFunction('convertToInteractive',\n",
              "                                                    [key], {});\n",
              "        if (!dataTable) return;\n",
              "\n",
              "        const docLinkHtml = 'Like what you see? Visit the ' +\n",
              "          '<a target=\"_blank\" href=https://colab.research.google.com/notebooks/data_table.ipynb>data table notebook</a>'\n",
              "          + ' to learn more about interactive tables.';\n",
              "        element.innerHTML = '';\n",
              "        dataTable['output_type'] = 'display_data';\n",
              "        await google.colab.output.renderOutput(dataTable, element);\n",
              "        const docLink = document.createElement('div');\n",
              "        docLink.innerHTML = docLinkHtml;\n",
              "        element.appendChild(docLink);\n",
              "      }\n",
              "    </script>\n",
              "  </div>\n",
              "\n",
              "\n",
              "<div id=\"df-3dd957a2-25a9-4a91-b5f7-3ce8b756353b\">\n",
              "  <button class=\"colab-df-quickchart\" onclick=\"quickchart('df-3dd957a2-25a9-4a91-b5f7-3ce8b756353b')\"\n",
              "            title=\"Suggest charts\"\n",
              "            style=\"display:none;\">\n",
              "\n",
              "<svg xmlns=\"http://www.w3.org/2000/svg\" height=\"24px\"viewBox=\"0 0 24 24\"\n",
              "     width=\"24px\">\n",
              "    <g>\n",
              "        <path d=\"M19 3H5c-1.1 0-2 .9-2 2v14c0 1.1.9 2 2 2h14c1.1 0 2-.9 2-2V5c0-1.1-.9-2-2-2zM9 17H7v-7h2v7zm4 0h-2V7h2v10zm4 0h-2v-4h2v4z\"/>\n",
              "    </g>\n",
              "</svg>\n",
              "  </button>\n",
              "\n",
              "<style>\n",
              "  .colab-df-quickchart {\n",
              "      --bg-color: #E8F0FE;\n",
              "      --fill-color: #1967D2;\n",
              "      --hover-bg-color: #E2EBFA;\n",
              "      --hover-fill-color: #174EA6;\n",
              "      --disabled-fill-color: #AAA;\n",
              "      --disabled-bg-color: #DDD;\n",
              "  }\n",
              "\n",
              "  [theme=dark] .colab-df-quickchart {\n",
              "      --bg-color: #3B4455;\n",
              "      --fill-color: #D2E3FC;\n",
              "      --hover-bg-color: #434B5C;\n",
              "      --hover-fill-color: #FFFFFF;\n",
              "      --disabled-bg-color: #3B4455;\n",
              "      --disabled-fill-color: #666;\n",
              "  }\n",
              "\n",
              "  .colab-df-quickchart {\n",
              "    background-color: var(--bg-color);\n",
              "    border: none;\n",
              "    border-radius: 50%;\n",
              "    cursor: pointer;\n",
              "    display: none;\n",
              "    fill: var(--fill-color);\n",
              "    height: 32px;\n",
              "    padding: 0;\n",
              "    width: 32px;\n",
              "  }\n",
              "\n",
              "  .colab-df-quickchart:hover {\n",
              "    background-color: var(--hover-bg-color);\n",
              "    box-shadow: 0 1px 2px rgba(60, 64, 67, 0.3), 0 1px 3px 1px rgba(60, 64, 67, 0.15);\n",
              "    fill: var(--button-hover-fill-color);\n",
              "  }\n",
              "\n",
              "  .colab-df-quickchart-complete:disabled,\n",
              "  .colab-df-quickchart-complete:disabled:hover {\n",
              "    background-color: var(--disabled-bg-color);\n",
              "    fill: var(--disabled-fill-color);\n",
              "    box-shadow: none;\n",
              "  }\n",
              "\n",
              "  .colab-df-spinner {\n",
              "    border: 2px solid var(--fill-color);\n",
              "    border-color: transparent;\n",
              "    border-bottom-color: var(--fill-color);\n",
              "    animation:\n",
              "      spin 1s steps(1) infinite;\n",
              "  }\n",
              "\n",
              "  @keyframes spin {\n",
              "    0% {\n",
              "      border-color: transparent;\n",
              "      border-bottom-color: var(--fill-color);\n",
              "      border-left-color: var(--fill-color);\n",
              "    }\n",
              "    20% {\n",
              "      border-color: transparent;\n",
              "      border-left-color: var(--fill-color);\n",
              "      border-top-color: var(--fill-color);\n",
              "    }\n",
              "    30% {\n",
              "      border-color: transparent;\n",
              "      border-left-color: var(--fill-color);\n",
              "      border-top-color: var(--fill-color);\n",
              "      border-right-color: var(--fill-color);\n",
              "    }\n",
              "    40% {\n",
              "      border-color: transparent;\n",
              "      border-right-color: var(--fill-color);\n",
              "      border-top-color: var(--fill-color);\n",
              "    }\n",
              "    60% {\n",
              "      border-color: transparent;\n",
              "      border-right-color: var(--fill-color);\n",
              "    }\n",
              "    80% {\n",
              "      border-color: transparent;\n",
              "      border-right-color: var(--fill-color);\n",
              "      border-bottom-color: var(--fill-color);\n",
              "    }\n",
              "    90% {\n",
              "      border-color: transparent;\n",
              "      border-bottom-color: var(--fill-color);\n",
              "    }\n",
              "  }\n",
              "</style>\n",
              "\n",
              "  <script>\n",
              "    async function quickchart(key) {\n",
              "      const quickchartButtonEl =\n",
              "        document.querySelector('#' + key + ' button');\n",
              "      quickchartButtonEl.disabled = true;  // To prevent multiple clicks.\n",
              "      quickchartButtonEl.classList.add('colab-df-spinner');\n",
              "      try {\n",
              "        const charts = await google.colab.kernel.invokeFunction(\n",
              "            'suggestCharts', [key], {});\n",
              "      } catch (error) {\n",
              "        console.error('Error during call to suggestCharts:', error);\n",
              "      }\n",
              "      quickchartButtonEl.classList.remove('colab-df-spinner');\n",
              "      quickchartButtonEl.classList.add('colab-df-quickchart-complete');\n",
              "    }\n",
              "    (() => {\n",
              "      let quickchartButtonEl =\n",
              "        document.querySelector('#df-3dd957a2-25a9-4a91-b5f7-3ce8b756353b button');\n",
              "      quickchartButtonEl.style.display =\n",
              "        google.colab.kernel.accessAllowed ? 'block' : 'none';\n",
              "    })();\n",
              "  </script>\n",
              "</div>\n",
              "\n",
              "    </div>\n",
              "  </div>\n"
            ],
            "application/vnd.google.colaboratory.intrinsic+json": {
              "type": "dataframe",
              "repr_error": "0"
            }
          },
          "metadata": {},
          "execution_count": 46
        }
      ]
    },
    {
      "cell_type": "markdown",
      "source": [
        "## Keraksiz Ma'lumotlarni Tozalash"
      ],
      "metadata": {
        "id": "XGcoue6WKooC"
      }
    },
    {
      "cell_type": "markdown",
      "source": [
        "Qaysi ustunlarda ma'lumot yetishmayotganligi tekshirish"
      ],
      "metadata": {
        "id": "nxMfc7SKJqeH"
      }
    },
    {
      "cell_type": "code",
      "source": [
        "df.isnull().sum()"
      ],
      "metadata": {
        "colab": {
          "base_uri": "https://localhost:8080/",
          "height": 554
        },
        "id": "FBZ8Kw7a-1cS",
        "outputId": "40f63804-b0e3-4aea-ad93-a7cd9894fea0"
      },
      "execution_count": null,
      "outputs": [
        {
          "output_type": "execute_result",
          "data": {
            "text/plain": [
              "Date                             0\n",
              "Person_ID                        0\n",
              "Age                              0\n",
              "Gender                           0\n",
              "Sleep Start Time                 0\n",
              "Sleep End Time                   0\n",
              "Total Sleep Hours                0\n",
              "Sleep Quality                    0\n",
              "Exercise (mins/day)              0\n",
              "Caffeine Intake (mg)             0\n",
              "Screen Time Before Bed (mins)    0\n",
              "Work Hours (hrs/day)             0\n",
              "Productivity Score               0\n",
              "Mood Score                       0\n",
              "Stress Level                     0\n",
              "dtype: int64"
            ],
            "text/html": [
              "<div>\n",
              "<style scoped>\n",
              "    .dataframe tbody tr th:only-of-type {\n",
              "        vertical-align: middle;\n",
              "    }\n",
              "\n",
              "    .dataframe tbody tr th {\n",
              "        vertical-align: top;\n",
              "    }\n",
              "\n",
              "    .dataframe thead th {\n",
              "        text-align: right;\n",
              "    }\n",
              "</style>\n",
              "<table border=\"1\" class=\"dataframe\">\n",
              "  <thead>\n",
              "    <tr style=\"text-align: right;\">\n",
              "      <th></th>\n",
              "      <th>0</th>\n",
              "    </tr>\n",
              "  </thead>\n",
              "  <tbody>\n",
              "    <tr>\n",
              "      <th>Date</th>\n",
              "      <td>0</td>\n",
              "    </tr>\n",
              "    <tr>\n",
              "      <th>Person_ID</th>\n",
              "      <td>0</td>\n",
              "    </tr>\n",
              "    <tr>\n",
              "      <th>Age</th>\n",
              "      <td>0</td>\n",
              "    </tr>\n",
              "    <tr>\n",
              "      <th>Gender</th>\n",
              "      <td>0</td>\n",
              "    </tr>\n",
              "    <tr>\n",
              "      <th>Sleep Start Time</th>\n",
              "      <td>0</td>\n",
              "    </tr>\n",
              "    <tr>\n",
              "      <th>Sleep End Time</th>\n",
              "      <td>0</td>\n",
              "    </tr>\n",
              "    <tr>\n",
              "      <th>Total Sleep Hours</th>\n",
              "      <td>0</td>\n",
              "    </tr>\n",
              "    <tr>\n",
              "      <th>Sleep Quality</th>\n",
              "      <td>0</td>\n",
              "    </tr>\n",
              "    <tr>\n",
              "      <th>Exercise (mins/day)</th>\n",
              "      <td>0</td>\n",
              "    </tr>\n",
              "    <tr>\n",
              "      <th>Caffeine Intake (mg)</th>\n",
              "      <td>0</td>\n",
              "    </tr>\n",
              "    <tr>\n",
              "      <th>Screen Time Before Bed (mins)</th>\n",
              "      <td>0</td>\n",
              "    </tr>\n",
              "    <tr>\n",
              "      <th>Work Hours (hrs/day)</th>\n",
              "      <td>0</td>\n",
              "    </tr>\n",
              "    <tr>\n",
              "      <th>Productivity Score</th>\n",
              "      <td>0</td>\n",
              "    </tr>\n",
              "    <tr>\n",
              "      <th>Mood Score</th>\n",
              "      <td>0</td>\n",
              "    </tr>\n",
              "    <tr>\n",
              "      <th>Stress Level</th>\n",
              "      <td>0</td>\n",
              "    </tr>\n",
              "  </tbody>\n",
              "</table>\n",
              "</div><br><label><b>dtype:</b> int64</label>"
            ]
          },
          "metadata": {},
          "execution_count": 47
        }
      ]
    },
    {
      "cell_type": "markdown",
      "source": [
        "Harbir ustunlarni typelarni ko'rib olamiz"
      ],
      "metadata": {
        "id": "oOuLY_28KHL0"
      }
    },
    {
      "cell_type": "code",
      "source": [
        "df.dtypes"
      ],
      "metadata": {
        "colab": {
          "base_uri": "https://localhost:8080/",
          "height": 554
        },
        "id": "cfhRScB0-8rf",
        "outputId": "99375903-1bd8-47a3-e01e-be62ad8500bc"
      },
      "execution_count": null,
      "outputs": [
        {
          "output_type": "execute_result",
          "data": {
            "text/plain": [
              "Date                              object\n",
              "Person_ID                          int64\n",
              "Age                                int64\n",
              "Gender                            object\n",
              "Sleep Start Time                 float64\n",
              "Sleep End Time                   float64\n",
              "Total Sleep Hours                float64\n",
              "Sleep Quality                      int64\n",
              "Exercise (mins/day)                int64\n",
              "Caffeine Intake (mg)               int64\n",
              "Screen Time Before Bed (mins)      int64\n",
              "Work Hours (hrs/day)             float64\n",
              "Productivity Score                 int64\n",
              "Mood Score                         int64\n",
              "Stress Level                       int64\n",
              "dtype: object"
            ],
            "text/html": [
              "<div>\n",
              "<style scoped>\n",
              "    .dataframe tbody tr th:only-of-type {\n",
              "        vertical-align: middle;\n",
              "    }\n",
              "\n",
              "    .dataframe tbody tr th {\n",
              "        vertical-align: top;\n",
              "    }\n",
              "\n",
              "    .dataframe thead th {\n",
              "        text-align: right;\n",
              "    }\n",
              "</style>\n",
              "<table border=\"1\" class=\"dataframe\">\n",
              "  <thead>\n",
              "    <tr style=\"text-align: right;\">\n",
              "      <th></th>\n",
              "      <th>0</th>\n",
              "    </tr>\n",
              "  </thead>\n",
              "  <tbody>\n",
              "    <tr>\n",
              "      <th>Date</th>\n",
              "      <td>object</td>\n",
              "    </tr>\n",
              "    <tr>\n",
              "      <th>Person_ID</th>\n",
              "      <td>int64</td>\n",
              "    </tr>\n",
              "    <tr>\n",
              "      <th>Age</th>\n",
              "      <td>int64</td>\n",
              "    </tr>\n",
              "    <tr>\n",
              "      <th>Gender</th>\n",
              "      <td>object</td>\n",
              "    </tr>\n",
              "    <tr>\n",
              "      <th>Sleep Start Time</th>\n",
              "      <td>float64</td>\n",
              "    </tr>\n",
              "    <tr>\n",
              "      <th>Sleep End Time</th>\n",
              "      <td>float64</td>\n",
              "    </tr>\n",
              "    <tr>\n",
              "      <th>Total Sleep Hours</th>\n",
              "      <td>float64</td>\n",
              "    </tr>\n",
              "    <tr>\n",
              "      <th>Sleep Quality</th>\n",
              "      <td>int64</td>\n",
              "    </tr>\n",
              "    <tr>\n",
              "      <th>Exercise (mins/day)</th>\n",
              "      <td>int64</td>\n",
              "    </tr>\n",
              "    <tr>\n",
              "      <th>Caffeine Intake (mg)</th>\n",
              "      <td>int64</td>\n",
              "    </tr>\n",
              "    <tr>\n",
              "      <th>Screen Time Before Bed (mins)</th>\n",
              "      <td>int64</td>\n",
              "    </tr>\n",
              "    <tr>\n",
              "      <th>Work Hours (hrs/day)</th>\n",
              "      <td>float64</td>\n",
              "    </tr>\n",
              "    <tr>\n",
              "      <th>Productivity Score</th>\n",
              "      <td>int64</td>\n",
              "    </tr>\n",
              "    <tr>\n",
              "      <th>Mood Score</th>\n",
              "      <td>int64</td>\n",
              "    </tr>\n",
              "    <tr>\n",
              "      <th>Stress Level</th>\n",
              "      <td>int64</td>\n",
              "    </tr>\n",
              "  </tbody>\n",
              "</table>\n",
              "</div><br><label><b>dtype:</b> object</label>"
            ]
          },
          "metadata": {},
          "execution_count": 48
        }
      ]
    },
    {
      "cell_type": "markdown",
      "source": [
        "Har bir ustun bo'yicha statistik ma'lumotlar (o'rtacha, min, max, standart chetlanish)."
      ],
      "metadata": {
        "id": "pQDHVVS7JlL7"
      }
    },
    {
      "cell_type": "code",
      "source": [
        "df.describe()"
      ],
      "metadata": {
        "colab": {
          "base_uri": "https://localhost:8080/",
          "height": 318
        },
        "id": "aZXvv-yvFCTe",
        "outputId": "1d6cdcdc-89f7-4a9a-f42f-b812cb7c799e"
      },
      "execution_count": null,
      "outputs": [
        {
          "output_type": "execute_result",
          "data": {
            "text/plain": [
              "         Person_ID          Age  Sleep Start Time  Sleep End Time  \\\n",
              "count  5000.000000  5000.000000       5000.000000     5000.000000   \n",
              "mean   5527.152200    38.590600         22.005350        4.980262   \n",
              "std    2595.391771    12.302799          1.157591        1.862508   \n",
              "min    1000.000000    18.000000         20.000000        0.560000   \n",
              "25%    3258.000000    28.000000         21.020000        3.660000   \n",
              "50%    5603.000000    39.000000         22.020000        4.970000   \n",
              "75%    7749.500000    49.000000         23.000000        6.310000   \n",
              "max    9998.000000    59.000000         23.980000        9.420000   \n",
              "\n",
              "       Total Sleep Hours  Sleep Quality  Exercise (mins/day)  \\\n",
              "count        5000.000000    5000.000000          5000.000000   \n",
              "mean            6.974902       5.520800            43.962600   \n",
              "std             1.454033       2.863845            25.798541   \n",
              "min             4.500000       1.000000             0.000000   \n",
              "25%             5.690000       3.000000            22.000000   \n",
              "50%             6.960000       5.000000            44.000000   \n",
              "75%             8.210000       8.000000            66.000000   \n",
              "max             9.500000      10.000000            89.000000   \n",
              "\n",
              "       Caffeine Intake (mg)  Screen Time Before Bed (mins)  \\\n",
              "count            5000.00000                    5000.000000   \n",
              "mean              146.71140                      91.421200   \n",
              "std                85.83139                      52.079123   \n",
              "min                 0.00000                       0.000000   \n",
              "25%                73.00000                      46.000000   \n",
              "50%               144.00000                      92.000000   \n",
              "75%               220.00000                     136.000000   \n",
              "max               299.00000                     179.000000   \n",
              "\n",
              "       Work Hours (hrs/day)  Productivity Score   Mood Score  Stress Level  \n",
              "count           5000.000000         5000.000000  5000.000000   5000.000000  \n",
              "mean               7.987873            5.644200     5.370600      5.548000  \n",
              "std                2.275734            2.872221     2.835783      2.888419  \n",
              "min                4.000067            1.000000     1.000000      1.000000  \n",
              "25%                6.032720            3.000000     3.000000      3.000000  \n",
              "50%                7.998295            6.000000     5.000000      6.000000  \n",
              "75%                9.905024            8.000000     8.000000      8.000000  \n",
              "max               11.999141           10.000000    10.000000     10.000000  "
            ],
            "text/html": [
              "\n",
              "  <div id=\"df-3f7f3e83-6b0d-47f8-bccb-3f8e1dfe4f47\" class=\"colab-df-container\">\n",
              "    <div>\n",
              "<style scoped>\n",
              "    .dataframe tbody tr th:only-of-type {\n",
              "        vertical-align: middle;\n",
              "    }\n",
              "\n",
              "    .dataframe tbody tr th {\n",
              "        vertical-align: top;\n",
              "    }\n",
              "\n",
              "    .dataframe thead th {\n",
              "        text-align: right;\n",
              "    }\n",
              "</style>\n",
              "<table border=\"1\" class=\"dataframe\">\n",
              "  <thead>\n",
              "    <tr style=\"text-align: right;\">\n",
              "      <th></th>\n",
              "      <th>Person_ID</th>\n",
              "      <th>Age</th>\n",
              "      <th>Sleep Start Time</th>\n",
              "      <th>Sleep End Time</th>\n",
              "      <th>Total Sleep Hours</th>\n",
              "      <th>Sleep Quality</th>\n",
              "      <th>Exercise (mins/day)</th>\n",
              "      <th>Caffeine Intake (mg)</th>\n",
              "      <th>Screen Time Before Bed (mins)</th>\n",
              "      <th>Work Hours (hrs/day)</th>\n",
              "      <th>Productivity Score</th>\n",
              "      <th>Mood Score</th>\n",
              "      <th>Stress Level</th>\n",
              "    </tr>\n",
              "  </thead>\n",
              "  <tbody>\n",
              "    <tr>\n",
              "      <th>count</th>\n",
              "      <td>5000.000000</td>\n",
              "      <td>5000.000000</td>\n",
              "      <td>5000.000000</td>\n",
              "      <td>5000.000000</td>\n",
              "      <td>5000.000000</td>\n",
              "      <td>5000.000000</td>\n",
              "      <td>5000.000000</td>\n",
              "      <td>5000.00000</td>\n",
              "      <td>5000.000000</td>\n",
              "      <td>5000.000000</td>\n",
              "      <td>5000.000000</td>\n",
              "      <td>5000.000000</td>\n",
              "      <td>5000.000000</td>\n",
              "    </tr>\n",
              "    <tr>\n",
              "      <th>mean</th>\n",
              "      <td>5527.152200</td>\n",
              "      <td>38.590600</td>\n",
              "      <td>22.005350</td>\n",
              "      <td>4.980262</td>\n",
              "      <td>6.974902</td>\n",
              "      <td>5.520800</td>\n",
              "      <td>43.962600</td>\n",
              "      <td>146.71140</td>\n",
              "      <td>91.421200</td>\n",
              "      <td>7.987873</td>\n",
              "      <td>5.644200</td>\n",
              "      <td>5.370600</td>\n",
              "      <td>5.548000</td>\n",
              "    </tr>\n",
              "    <tr>\n",
              "      <th>std</th>\n",
              "      <td>2595.391771</td>\n",
              "      <td>12.302799</td>\n",
              "      <td>1.157591</td>\n",
              "      <td>1.862508</td>\n",
              "      <td>1.454033</td>\n",
              "      <td>2.863845</td>\n",
              "      <td>25.798541</td>\n",
              "      <td>85.83139</td>\n",
              "      <td>52.079123</td>\n",
              "      <td>2.275734</td>\n",
              "      <td>2.872221</td>\n",
              "      <td>2.835783</td>\n",
              "      <td>2.888419</td>\n",
              "    </tr>\n",
              "    <tr>\n",
              "      <th>min</th>\n",
              "      <td>1000.000000</td>\n",
              "      <td>18.000000</td>\n",
              "      <td>20.000000</td>\n",
              "      <td>0.560000</td>\n",
              "      <td>4.500000</td>\n",
              "      <td>1.000000</td>\n",
              "      <td>0.000000</td>\n",
              "      <td>0.00000</td>\n",
              "      <td>0.000000</td>\n",
              "      <td>4.000067</td>\n",
              "      <td>1.000000</td>\n",
              "      <td>1.000000</td>\n",
              "      <td>1.000000</td>\n",
              "    </tr>\n",
              "    <tr>\n",
              "      <th>25%</th>\n",
              "      <td>3258.000000</td>\n",
              "      <td>28.000000</td>\n",
              "      <td>21.020000</td>\n",
              "      <td>3.660000</td>\n",
              "      <td>5.690000</td>\n",
              "      <td>3.000000</td>\n",
              "      <td>22.000000</td>\n",
              "      <td>73.00000</td>\n",
              "      <td>46.000000</td>\n",
              "      <td>6.032720</td>\n",
              "      <td>3.000000</td>\n",
              "      <td>3.000000</td>\n",
              "      <td>3.000000</td>\n",
              "    </tr>\n",
              "    <tr>\n",
              "      <th>50%</th>\n",
              "      <td>5603.000000</td>\n",
              "      <td>39.000000</td>\n",
              "      <td>22.020000</td>\n",
              "      <td>4.970000</td>\n",
              "      <td>6.960000</td>\n",
              "      <td>5.000000</td>\n",
              "      <td>44.000000</td>\n",
              "      <td>144.00000</td>\n",
              "      <td>92.000000</td>\n",
              "      <td>7.998295</td>\n",
              "      <td>6.000000</td>\n",
              "      <td>5.000000</td>\n",
              "      <td>6.000000</td>\n",
              "    </tr>\n",
              "    <tr>\n",
              "      <th>75%</th>\n",
              "      <td>7749.500000</td>\n",
              "      <td>49.000000</td>\n",
              "      <td>23.000000</td>\n",
              "      <td>6.310000</td>\n",
              "      <td>8.210000</td>\n",
              "      <td>8.000000</td>\n",
              "      <td>66.000000</td>\n",
              "      <td>220.00000</td>\n",
              "      <td>136.000000</td>\n",
              "      <td>9.905024</td>\n",
              "      <td>8.000000</td>\n",
              "      <td>8.000000</td>\n",
              "      <td>8.000000</td>\n",
              "    </tr>\n",
              "    <tr>\n",
              "      <th>max</th>\n",
              "      <td>9998.000000</td>\n",
              "      <td>59.000000</td>\n",
              "      <td>23.980000</td>\n",
              "      <td>9.420000</td>\n",
              "      <td>9.500000</td>\n",
              "      <td>10.000000</td>\n",
              "      <td>89.000000</td>\n",
              "      <td>299.00000</td>\n",
              "      <td>179.000000</td>\n",
              "      <td>11.999141</td>\n",
              "      <td>10.000000</td>\n",
              "      <td>10.000000</td>\n",
              "      <td>10.000000</td>\n",
              "    </tr>\n",
              "  </tbody>\n",
              "</table>\n",
              "</div>\n",
              "    <div class=\"colab-df-buttons\">\n",
              "\n",
              "  <div class=\"colab-df-container\">\n",
              "    <button class=\"colab-df-convert\" onclick=\"convertToInteractive('df-3f7f3e83-6b0d-47f8-bccb-3f8e1dfe4f47')\"\n",
              "            title=\"Convert this dataframe to an interactive table.\"\n",
              "            style=\"display:none;\">\n",
              "\n",
              "  <svg xmlns=\"http://www.w3.org/2000/svg\" height=\"24px\" viewBox=\"0 -960 960 960\">\n",
              "    <path d=\"M120-120v-720h720v720H120Zm60-500h600v-160H180v160Zm220 220h160v-160H400v160Zm0 220h160v-160H400v160ZM180-400h160v-160H180v160Zm440 0h160v-160H620v160ZM180-180h160v-160H180v160Zm440 0h160v-160H620v160Z\"/>\n",
              "  </svg>\n",
              "    </button>\n",
              "\n",
              "  <style>\n",
              "    .colab-df-container {\n",
              "      display:flex;\n",
              "      gap: 12px;\n",
              "    }\n",
              "\n",
              "    .colab-df-convert {\n",
              "      background-color: #E8F0FE;\n",
              "      border: none;\n",
              "      border-radius: 50%;\n",
              "      cursor: pointer;\n",
              "      display: none;\n",
              "      fill: #1967D2;\n",
              "      height: 32px;\n",
              "      padding: 0 0 0 0;\n",
              "      width: 32px;\n",
              "    }\n",
              "\n",
              "    .colab-df-convert:hover {\n",
              "      background-color: #E2EBFA;\n",
              "      box-shadow: 0px 1px 2px rgba(60, 64, 67, 0.3), 0px 1px 3px 1px rgba(60, 64, 67, 0.15);\n",
              "      fill: #174EA6;\n",
              "    }\n",
              "\n",
              "    .colab-df-buttons div {\n",
              "      margin-bottom: 4px;\n",
              "    }\n",
              "\n",
              "    [theme=dark] .colab-df-convert {\n",
              "      background-color: #3B4455;\n",
              "      fill: #D2E3FC;\n",
              "    }\n",
              "\n",
              "    [theme=dark] .colab-df-convert:hover {\n",
              "      background-color: #434B5C;\n",
              "      box-shadow: 0px 1px 3px 1px rgba(0, 0, 0, 0.15);\n",
              "      filter: drop-shadow(0px 1px 2px rgba(0, 0, 0, 0.3));\n",
              "      fill: #FFFFFF;\n",
              "    }\n",
              "  </style>\n",
              "\n",
              "    <script>\n",
              "      const buttonEl =\n",
              "        document.querySelector('#df-3f7f3e83-6b0d-47f8-bccb-3f8e1dfe4f47 button.colab-df-convert');\n",
              "      buttonEl.style.display =\n",
              "        google.colab.kernel.accessAllowed ? 'block' : 'none';\n",
              "\n",
              "      async function convertToInteractive(key) {\n",
              "        const element = document.querySelector('#df-3f7f3e83-6b0d-47f8-bccb-3f8e1dfe4f47');\n",
              "        const dataTable =\n",
              "          await google.colab.kernel.invokeFunction('convertToInteractive',\n",
              "                                                    [key], {});\n",
              "        if (!dataTable) return;\n",
              "\n",
              "        const docLinkHtml = 'Like what you see? Visit the ' +\n",
              "          '<a target=\"_blank\" href=https://colab.research.google.com/notebooks/data_table.ipynb>data table notebook</a>'\n",
              "          + ' to learn more about interactive tables.';\n",
              "        element.innerHTML = '';\n",
              "        dataTable['output_type'] = 'display_data';\n",
              "        await google.colab.output.renderOutput(dataTable, element);\n",
              "        const docLink = document.createElement('div');\n",
              "        docLink.innerHTML = docLinkHtml;\n",
              "        element.appendChild(docLink);\n",
              "      }\n",
              "    </script>\n",
              "  </div>\n",
              "\n",
              "\n",
              "<div id=\"df-060f9ee8-c631-4b8c-9ed0-190295cae274\">\n",
              "  <button class=\"colab-df-quickchart\" onclick=\"quickchart('df-060f9ee8-c631-4b8c-9ed0-190295cae274')\"\n",
              "            title=\"Suggest charts\"\n",
              "            style=\"display:none;\">\n",
              "\n",
              "<svg xmlns=\"http://www.w3.org/2000/svg\" height=\"24px\"viewBox=\"0 0 24 24\"\n",
              "     width=\"24px\">\n",
              "    <g>\n",
              "        <path d=\"M19 3H5c-1.1 0-2 .9-2 2v14c0 1.1.9 2 2 2h14c1.1 0 2-.9 2-2V5c0-1.1-.9-2-2-2zM9 17H7v-7h2v7zm4 0h-2V7h2v10zm4 0h-2v-4h2v4z\"/>\n",
              "    </g>\n",
              "</svg>\n",
              "  </button>\n",
              "\n",
              "<style>\n",
              "  .colab-df-quickchart {\n",
              "      --bg-color: #E8F0FE;\n",
              "      --fill-color: #1967D2;\n",
              "      --hover-bg-color: #E2EBFA;\n",
              "      --hover-fill-color: #174EA6;\n",
              "      --disabled-fill-color: #AAA;\n",
              "      --disabled-bg-color: #DDD;\n",
              "  }\n",
              "\n",
              "  [theme=dark] .colab-df-quickchart {\n",
              "      --bg-color: #3B4455;\n",
              "      --fill-color: #D2E3FC;\n",
              "      --hover-bg-color: #434B5C;\n",
              "      --hover-fill-color: #FFFFFF;\n",
              "      --disabled-bg-color: #3B4455;\n",
              "      --disabled-fill-color: #666;\n",
              "  }\n",
              "\n",
              "  .colab-df-quickchart {\n",
              "    background-color: var(--bg-color);\n",
              "    border: none;\n",
              "    border-radius: 50%;\n",
              "    cursor: pointer;\n",
              "    display: none;\n",
              "    fill: var(--fill-color);\n",
              "    height: 32px;\n",
              "    padding: 0;\n",
              "    width: 32px;\n",
              "  }\n",
              "\n",
              "  .colab-df-quickchart:hover {\n",
              "    background-color: var(--hover-bg-color);\n",
              "    box-shadow: 0 1px 2px rgba(60, 64, 67, 0.3), 0 1px 3px 1px rgba(60, 64, 67, 0.15);\n",
              "    fill: var(--button-hover-fill-color);\n",
              "  }\n",
              "\n",
              "  .colab-df-quickchart-complete:disabled,\n",
              "  .colab-df-quickchart-complete:disabled:hover {\n",
              "    background-color: var(--disabled-bg-color);\n",
              "    fill: var(--disabled-fill-color);\n",
              "    box-shadow: none;\n",
              "  }\n",
              "\n",
              "  .colab-df-spinner {\n",
              "    border: 2px solid var(--fill-color);\n",
              "    border-color: transparent;\n",
              "    border-bottom-color: var(--fill-color);\n",
              "    animation:\n",
              "      spin 1s steps(1) infinite;\n",
              "  }\n",
              "\n",
              "  @keyframes spin {\n",
              "    0% {\n",
              "      border-color: transparent;\n",
              "      border-bottom-color: var(--fill-color);\n",
              "      border-left-color: var(--fill-color);\n",
              "    }\n",
              "    20% {\n",
              "      border-color: transparent;\n",
              "      border-left-color: var(--fill-color);\n",
              "      border-top-color: var(--fill-color);\n",
              "    }\n",
              "    30% {\n",
              "      border-color: transparent;\n",
              "      border-left-color: var(--fill-color);\n",
              "      border-top-color: var(--fill-color);\n",
              "      border-right-color: var(--fill-color);\n",
              "    }\n",
              "    40% {\n",
              "      border-color: transparent;\n",
              "      border-right-color: var(--fill-color);\n",
              "      border-top-color: var(--fill-color);\n",
              "    }\n",
              "    60% {\n",
              "      border-color: transparent;\n",
              "      border-right-color: var(--fill-color);\n",
              "    }\n",
              "    80% {\n",
              "      border-color: transparent;\n",
              "      border-right-color: var(--fill-color);\n",
              "      border-bottom-color: var(--fill-color);\n",
              "    }\n",
              "    90% {\n",
              "      border-color: transparent;\n",
              "      border-bottom-color: var(--fill-color);\n",
              "    }\n",
              "  }\n",
              "</style>\n",
              "\n",
              "  <script>\n",
              "    async function quickchart(key) {\n",
              "      const quickchartButtonEl =\n",
              "        document.querySelector('#' + key + ' button');\n",
              "      quickchartButtonEl.disabled = true;  // To prevent multiple clicks.\n",
              "      quickchartButtonEl.classList.add('colab-df-spinner');\n",
              "      try {\n",
              "        const charts = await google.colab.kernel.invokeFunction(\n",
              "            'suggestCharts', [key], {});\n",
              "      } catch (error) {\n",
              "        console.error('Error during call to suggestCharts:', error);\n",
              "      }\n",
              "      quickchartButtonEl.classList.remove('colab-df-spinner');\n",
              "      quickchartButtonEl.classList.add('colab-df-quickchart-complete');\n",
              "    }\n",
              "    (() => {\n",
              "      let quickchartButtonEl =\n",
              "        document.querySelector('#df-060f9ee8-c631-4b8c-9ed0-190295cae274 button');\n",
              "      quickchartButtonEl.style.display =\n",
              "        google.colab.kernel.accessAllowed ? 'block' : 'none';\n",
              "    })();\n",
              "  </script>\n",
              "</div>\n",
              "\n",
              "    </div>\n",
              "  </div>\n"
            ],
            "application/vnd.google.colaboratory.intrinsic+json": {
              "type": "dataframe",
              "summary": "{\n  \"name\": \"df\",\n  \"rows\": 8,\n  \"fields\": [\n    {\n      \"column\": \"Person_ID\",\n      \"properties\": {\n        \"dtype\": \"number\",\n        \"std\": 2876.7827830853116,\n        \"min\": 1000.0,\n        \"max\": 9998.0,\n        \"num_unique_values\": 8,\n        \"samples\": [\n          5527.1522,\n          5603.0,\n          5000.0\n        ],\n        \"semantic_type\": \"\",\n        \"description\": \"\"\n      }\n    },\n    {\n      \"column\": \"Age\",\n      \"properties\": {\n        \"dtype\": \"number\",\n        \"std\": 1755.515770599008,\n        \"min\": 12.302799007245556,\n        \"max\": 5000.0,\n        \"num_unique_values\": 8,\n        \"samples\": [\n          38.5906,\n          39.0,\n          5000.0\n        ],\n        \"semantic_type\": \"\",\n        \"description\": \"\"\n      }\n    },\n    {\n      \"column\": \"Sleep Start Time\",\n      \"properties\": {\n        \"dtype\": \"number\",\n        \"std\": 1761.0557080623291,\n        \"min\": 1.157591102649024,\n        \"max\": 5000.0,\n        \"num_unique_values\": 8,\n        \"samples\": [\n          22.00535,\n          22.02,\n          5000.0\n        ],\n        \"semantic_type\": \"\",\n        \"description\": \"\"\n      }\n    },\n    {\n      \"column\": \"Sleep End Time\",\n      \"properties\": {\n        \"dtype\": \"number\",\n        \"std\": 1766.1647578512723,\n        \"min\": 0.56,\n        \"max\": 5000.0,\n        \"num_unique_values\": 8,\n        \"samples\": [\n          4.980262,\n          4.97,\n          5000.0\n        ],\n        \"semantic_type\": \"\",\n        \"description\": \"\"\n      }\n    },\n    {\n      \"column\": \"Total Sleep Hours\",\n      \"properties\": {\n        \"dtype\": \"number\",\n        \"std\": 1765.5822218719773,\n        \"min\": 1.454032761890368,\n        \"max\": 5000.0,\n        \"num_unique_values\": 8,\n        \"samples\": [\n          6.974902,\n          6.96,\n          5000.0\n        ],\n        \"semantic_type\": \"\",\n        \"description\": \"\"\n      }\n    },\n    {\n      \"column\": \"Sleep Quality\",\n      \"properties\": {\n        \"dtype\": \"number\",\n        \"std\": 1765.9821373292957,\n        \"min\": 1.0,\n        \"max\": 5000.0,\n        \"num_unique_values\": 8,\n        \"samples\": [\n          5.5208,\n          5.0,\n          5000.0\n        ],\n        \"semantic_type\": \"\",\n        \"description\": \"\"\n      }\n    },\n    {\n      \"column\": \"Exercise (mins/day)\",\n      \"properties\": {\n        \"dtype\": \"number\",\n        \"std\": 1753.2938835075288,\n        \"min\": 0.0,\n        \"max\": 5000.0,\n        \"num_unique_values\": 8,\n        \"samples\": [\n          43.9626,\n          44.0,\n          5000.0\n        ],\n        \"semantic_type\": \"\",\n        \"description\": \"\"\n      }\n    },\n    {\n      \"column\": \"Caffeine Intake (mg)\",\n      \"properties\": {\n        \"dtype\": \"number\",\n        \"std\": 1721.287698325376,\n        \"min\": 0.0,\n        \"max\": 5000.0,\n        \"num_unique_values\": 8,\n        \"samples\": [\n          146.7114,\n          144.0,\n          5000.0\n        ],\n        \"semantic_type\": \"\",\n        \"description\": \"\"\n      }\n    },\n    {\n      \"column\": \"Screen Time Before Bed (mins)\",\n      \"properties\": {\n        \"dtype\": \"number\",\n        \"std\": 1738.5168181067254,\n        \"min\": 0.0,\n        \"max\": 5000.0,\n        \"num_unique_values\": 8,\n        \"samples\": [\n          91.4212,\n          92.0,\n          5000.0\n        ],\n        \"semantic_type\": \"\",\n        \"description\": \"\"\n      }\n    },\n    {\n      \"column\": \"Work Hours (hrs/day)\",\n      \"properties\": {\n        \"dtype\": \"number\",\n        \"std\": 1765.2342572721877,\n        \"min\": 2.275734093739893,\n        \"max\": 5000.0,\n        \"num_unique_values\": 8,\n        \"samples\": [\n          7.987873366689592,\n          7.99829529076726,\n          5000.0\n        ],\n        \"semantic_type\": \"\",\n        \"description\": \"\"\n      }\n    },\n    {\n      \"column\": \"Productivity Score\",\n      \"properties\": {\n        \"dtype\": \"number\",\n        \"std\": 1765.9250064426712,\n        \"min\": 1.0,\n        \"max\": 5000.0,\n        \"num_unique_values\": 8,\n        \"samples\": [\n          5.6442,\n          6.0,\n          5000.0\n        ],\n        \"semantic_type\": \"\",\n        \"description\": \"\"\n      }\n    },\n    {\n      \"column\": \"Mood Score\",\n      \"properties\": {\n        \"dtype\": \"number\",\n        \"std\": 1765.9911409889569,\n        \"min\": 1.0,\n        \"max\": 5000.0,\n        \"num_unique_values\": 8,\n        \"samples\": [\n          5.3706,\n          5.0,\n          5000.0\n        ],\n        \"semantic_type\": \"\",\n        \"description\": \"\"\n      }\n    },\n    {\n      \"column\": \"Stress Level\",\n      \"properties\": {\n        \"dtype\": \"number\",\n        \"std\": 1765.9290411193247,\n        \"min\": 1.0,\n        \"max\": 5000.0,\n        \"num_unique_values\": 8,\n        \"samples\": [\n          5.548,\n          6.0,\n          5000.0\n        ],\n        \"semantic_type\": \"\",\n        \"description\": \"\"\n      }\n    }\n  ]\n}"
            }
          },
          "metadata": {},
          "execution_count": 49
        }
      ]
    },
    {
      "cell_type": "markdown",
      "source": [
        "Yetishmayotgan qiymatlarni to'ldirish"
      ],
      "metadata": {
        "id": "pCKd_f1tKU2v"
      }
    },
    {
      "cell_type": "code",
      "source": [
        "df['Gender'].fillna('Unknown', inplace=True)\n",
        "df['Sleep Quality'].fillna(df['Sleep Quality'].median(), inplace=True)"
      ],
      "metadata": {
        "colab": {
          "base_uri": "https://localhost:8080/"
        },
        "id": "Da57InY2_MmF",
        "outputId": "735c86e9-a158-4c6c-c86a-941b6ce571a9"
      },
      "execution_count": null,
      "outputs": [
        {
          "output_type": "stream",
          "name": "stderr",
          "text": [
            "<ipython-input-50-81d15b8d15b9>:1: FutureWarning: A value is trying to be set on a copy of a DataFrame or Series through chained assignment using an inplace method.\n",
            "The behavior will change in pandas 3.0. This inplace method will never work because the intermediate object on which we are setting values always behaves as a copy.\n",
            "\n",
            "For example, when doing 'df[col].method(value, inplace=True)', try using 'df.method({col: value}, inplace=True)' or df[col] = df[col].method(value) instead, to perform the operation inplace on the original object.\n",
            "\n",
            "\n",
            "  df['Gender'].fillna('Unknown', inplace=True)\n",
            "<ipython-input-50-81d15b8d15b9>:2: FutureWarning: A value is trying to be set on a copy of a DataFrame or Series through chained assignment using an inplace method.\n",
            "The behavior will change in pandas 3.0. This inplace method will never work because the intermediate object on which we are setting values always behaves as a copy.\n",
            "\n",
            "For example, when doing 'df[col].method(value, inplace=True)', try using 'df.method({col: value}, inplace=True)' or df[col] = df[col].method(value) instead, to perform the operation inplace on the original object.\n",
            "\n",
            "\n",
            "  df['Sleep Quality'].fillna(df['Sleep Quality'].median(), inplace=True)\n"
          ]
        }
      ]
    },
    {
      "cell_type": "markdown",
      "source": [
        "Yangilangan ma'lumotlarni ko'rish"
      ],
      "metadata": {
        "id": "KtNa14FDKd6W"
      }
    },
    {
      "cell_type": "code",
      "source": [
        "df.sample(5)"
      ],
      "metadata": {
        "colab": {
          "base_uri": "https://localhost:8080/",
          "height": 310
        },
        "id": "g1wW97EjKhRV",
        "outputId": "9cb40f92-ceaf-4482-8007-a55cba9f8e6f"
      },
      "execution_count": null,
      "outputs": [
        {
          "output_type": "execute_result",
          "data": {
            "text/plain": [
              "            Date  Person_ID  Age  Gender  Sleep Start Time  Sleep End Time  \\\n",
              "4195  2024-07-17       8330   23  Female             20.77            5.99   \n",
              "3494  2024-06-21       1605   23   Other             23.30            8.65   \n",
              "1739  2024-04-27       5593   29   Other             23.22            6.72   \n",
              "4062  2024-12-01       7390   54    Male             22.90            4.85   \n",
              "4498  2024-11-06       4287   42   Other             23.40            8.45   \n",
              "\n",
              "      Total Sleep Hours  Sleep Quality  Exercise (mins/day)  \\\n",
              "4195               9.22              9                   58   \n",
              "3494               9.35              3                   38   \n",
              "1739               7.51             10                   78   \n",
              "4062               5.95              1                   62   \n",
              "4498               9.05              4                   62   \n",
              "\n",
              "      Caffeine Intake (mg)  Screen Time Before Bed (mins)  \\\n",
              "4195                   116                            100   \n",
              "3494                   159                             64   \n",
              "1739                   233                            160   \n",
              "4062                    98                            111   \n",
              "4498                   126                            159   \n",
              "\n",
              "      Work Hours (hrs/day)  Productivity Score  Mood Score  Stress Level  \n",
              "4195              7.416980                   4           6             1  \n",
              "3494              9.415486                  10           2             4  \n",
              "1739             11.142970                   9           8             3  \n",
              "4062             11.530005                   9           1             5  \n",
              "4498             10.998423                   4           1             7  "
            ],
            "text/html": [
              "\n",
              "  <div id=\"df-1595a41f-bcce-43e3-9e84-081b444672fe\" class=\"colab-df-container\">\n",
              "    <div>\n",
              "<style scoped>\n",
              "    .dataframe tbody tr th:only-of-type {\n",
              "        vertical-align: middle;\n",
              "    }\n",
              "\n",
              "    .dataframe tbody tr th {\n",
              "        vertical-align: top;\n",
              "    }\n",
              "\n",
              "    .dataframe thead th {\n",
              "        text-align: right;\n",
              "    }\n",
              "</style>\n",
              "<table border=\"1\" class=\"dataframe\">\n",
              "  <thead>\n",
              "    <tr style=\"text-align: right;\">\n",
              "      <th></th>\n",
              "      <th>Date</th>\n",
              "      <th>Person_ID</th>\n",
              "      <th>Age</th>\n",
              "      <th>Gender</th>\n",
              "      <th>Sleep Start Time</th>\n",
              "      <th>Sleep End Time</th>\n",
              "      <th>Total Sleep Hours</th>\n",
              "      <th>Sleep Quality</th>\n",
              "      <th>Exercise (mins/day)</th>\n",
              "      <th>Caffeine Intake (mg)</th>\n",
              "      <th>Screen Time Before Bed (mins)</th>\n",
              "      <th>Work Hours (hrs/day)</th>\n",
              "      <th>Productivity Score</th>\n",
              "      <th>Mood Score</th>\n",
              "      <th>Stress Level</th>\n",
              "    </tr>\n",
              "  </thead>\n",
              "  <tbody>\n",
              "    <tr>\n",
              "      <th>4195</th>\n",
              "      <td>2024-07-17</td>\n",
              "      <td>8330</td>\n",
              "      <td>23</td>\n",
              "      <td>Female</td>\n",
              "      <td>20.77</td>\n",
              "      <td>5.99</td>\n",
              "      <td>9.22</td>\n",
              "      <td>9</td>\n",
              "      <td>58</td>\n",
              "      <td>116</td>\n",
              "      <td>100</td>\n",
              "      <td>7.416980</td>\n",
              "      <td>4</td>\n",
              "      <td>6</td>\n",
              "      <td>1</td>\n",
              "    </tr>\n",
              "    <tr>\n",
              "      <th>3494</th>\n",
              "      <td>2024-06-21</td>\n",
              "      <td>1605</td>\n",
              "      <td>23</td>\n",
              "      <td>Other</td>\n",
              "      <td>23.30</td>\n",
              "      <td>8.65</td>\n",
              "      <td>9.35</td>\n",
              "      <td>3</td>\n",
              "      <td>38</td>\n",
              "      <td>159</td>\n",
              "      <td>64</td>\n",
              "      <td>9.415486</td>\n",
              "      <td>10</td>\n",
              "      <td>2</td>\n",
              "      <td>4</td>\n",
              "    </tr>\n",
              "    <tr>\n",
              "      <th>1739</th>\n",
              "      <td>2024-04-27</td>\n",
              "      <td>5593</td>\n",
              "      <td>29</td>\n",
              "      <td>Other</td>\n",
              "      <td>23.22</td>\n",
              "      <td>6.72</td>\n",
              "      <td>7.51</td>\n",
              "      <td>10</td>\n",
              "      <td>78</td>\n",
              "      <td>233</td>\n",
              "      <td>160</td>\n",
              "      <td>11.142970</td>\n",
              "      <td>9</td>\n",
              "      <td>8</td>\n",
              "      <td>3</td>\n",
              "    </tr>\n",
              "    <tr>\n",
              "      <th>4062</th>\n",
              "      <td>2024-12-01</td>\n",
              "      <td>7390</td>\n",
              "      <td>54</td>\n",
              "      <td>Male</td>\n",
              "      <td>22.90</td>\n",
              "      <td>4.85</td>\n",
              "      <td>5.95</td>\n",
              "      <td>1</td>\n",
              "      <td>62</td>\n",
              "      <td>98</td>\n",
              "      <td>111</td>\n",
              "      <td>11.530005</td>\n",
              "      <td>9</td>\n",
              "      <td>1</td>\n",
              "      <td>5</td>\n",
              "    </tr>\n",
              "    <tr>\n",
              "      <th>4498</th>\n",
              "      <td>2024-11-06</td>\n",
              "      <td>4287</td>\n",
              "      <td>42</td>\n",
              "      <td>Other</td>\n",
              "      <td>23.40</td>\n",
              "      <td>8.45</td>\n",
              "      <td>9.05</td>\n",
              "      <td>4</td>\n",
              "      <td>62</td>\n",
              "      <td>126</td>\n",
              "      <td>159</td>\n",
              "      <td>10.998423</td>\n",
              "      <td>4</td>\n",
              "      <td>1</td>\n",
              "      <td>7</td>\n",
              "    </tr>\n",
              "  </tbody>\n",
              "</table>\n",
              "</div>\n",
              "    <div class=\"colab-df-buttons\">\n",
              "\n",
              "  <div class=\"colab-df-container\">\n",
              "    <button class=\"colab-df-convert\" onclick=\"convertToInteractive('df-1595a41f-bcce-43e3-9e84-081b444672fe')\"\n",
              "            title=\"Convert this dataframe to an interactive table.\"\n",
              "            style=\"display:none;\">\n",
              "\n",
              "  <svg xmlns=\"http://www.w3.org/2000/svg\" height=\"24px\" viewBox=\"0 -960 960 960\">\n",
              "    <path d=\"M120-120v-720h720v720H120Zm60-500h600v-160H180v160Zm220 220h160v-160H400v160Zm0 220h160v-160H400v160ZM180-400h160v-160H180v160Zm440 0h160v-160H620v160ZM180-180h160v-160H180v160Zm440 0h160v-160H620v160Z\"/>\n",
              "  </svg>\n",
              "    </button>\n",
              "\n",
              "  <style>\n",
              "    .colab-df-container {\n",
              "      display:flex;\n",
              "      gap: 12px;\n",
              "    }\n",
              "\n",
              "    .colab-df-convert {\n",
              "      background-color: #E8F0FE;\n",
              "      border: none;\n",
              "      border-radius: 50%;\n",
              "      cursor: pointer;\n",
              "      display: none;\n",
              "      fill: #1967D2;\n",
              "      height: 32px;\n",
              "      padding: 0 0 0 0;\n",
              "      width: 32px;\n",
              "    }\n",
              "\n",
              "    .colab-df-convert:hover {\n",
              "      background-color: #E2EBFA;\n",
              "      box-shadow: 0px 1px 2px rgba(60, 64, 67, 0.3), 0px 1px 3px 1px rgba(60, 64, 67, 0.15);\n",
              "      fill: #174EA6;\n",
              "    }\n",
              "\n",
              "    .colab-df-buttons div {\n",
              "      margin-bottom: 4px;\n",
              "    }\n",
              "\n",
              "    [theme=dark] .colab-df-convert {\n",
              "      background-color: #3B4455;\n",
              "      fill: #D2E3FC;\n",
              "    }\n",
              "\n",
              "    [theme=dark] .colab-df-convert:hover {\n",
              "      background-color: #434B5C;\n",
              "      box-shadow: 0px 1px 3px 1px rgba(0, 0, 0, 0.15);\n",
              "      filter: drop-shadow(0px 1px 2px rgba(0, 0, 0, 0.3));\n",
              "      fill: #FFFFFF;\n",
              "    }\n",
              "  </style>\n",
              "\n",
              "    <script>\n",
              "      const buttonEl =\n",
              "        document.querySelector('#df-1595a41f-bcce-43e3-9e84-081b444672fe button.colab-df-convert');\n",
              "      buttonEl.style.display =\n",
              "        google.colab.kernel.accessAllowed ? 'block' : 'none';\n",
              "\n",
              "      async function convertToInteractive(key) {\n",
              "        const element = document.querySelector('#df-1595a41f-bcce-43e3-9e84-081b444672fe');\n",
              "        const dataTable =\n",
              "          await google.colab.kernel.invokeFunction('convertToInteractive',\n",
              "                                                    [key], {});\n",
              "        if (!dataTable) return;\n",
              "\n",
              "        const docLinkHtml = 'Like what you see? Visit the ' +\n",
              "          '<a target=\"_blank\" href=https://colab.research.google.com/notebooks/data_table.ipynb>data table notebook</a>'\n",
              "          + ' to learn more about interactive tables.';\n",
              "        element.innerHTML = '';\n",
              "        dataTable['output_type'] = 'display_data';\n",
              "        await google.colab.output.renderOutput(dataTable, element);\n",
              "        const docLink = document.createElement('div');\n",
              "        docLink.innerHTML = docLinkHtml;\n",
              "        element.appendChild(docLink);\n",
              "      }\n",
              "    </script>\n",
              "  </div>\n",
              "\n",
              "\n",
              "<div id=\"df-772826f3-09a2-4f62-999f-40073981bbd0\">\n",
              "  <button class=\"colab-df-quickchart\" onclick=\"quickchart('df-772826f3-09a2-4f62-999f-40073981bbd0')\"\n",
              "            title=\"Suggest charts\"\n",
              "            style=\"display:none;\">\n",
              "\n",
              "<svg xmlns=\"http://www.w3.org/2000/svg\" height=\"24px\"viewBox=\"0 0 24 24\"\n",
              "     width=\"24px\">\n",
              "    <g>\n",
              "        <path d=\"M19 3H5c-1.1 0-2 .9-2 2v14c0 1.1.9 2 2 2h14c1.1 0 2-.9 2-2V5c0-1.1-.9-2-2-2zM9 17H7v-7h2v7zm4 0h-2V7h2v10zm4 0h-2v-4h2v4z\"/>\n",
              "    </g>\n",
              "</svg>\n",
              "  </button>\n",
              "\n",
              "<style>\n",
              "  .colab-df-quickchart {\n",
              "      --bg-color: #E8F0FE;\n",
              "      --fill-color: #1967D2;\n",
              "      --hover-bg-color: #E2EBFA;\n",
              "      --hover-fill-color: #174EA6;\n",
              "      --disabled-fill-color: #AAA;\n",
              "      --disabled-bg-color: #DDD;\n",
              "  }\n",
              "\n",
              "  [theme=dark] .colab-df-quickchart {\n",
              "      --bg-color: #3B4455;\n",
              "      --fill-color: #D2E3FC;\n",
              "      --hover-bg-color: #434B5C;\n",
              "      --hover-fill-color: #FFFFFF;\n",
              "      --disabled-bg-color: #3B4455;\n",
              "      --disabled-fill-color: #666;\n",
              "  }\n",
              "\n",
              "  .colab-df-quickchart {\n",
              "    background-color: var(--bg-color);\n",
              "    border: none;\n",
              "    border-radius: 50%;\n",
              "    cursor: pointer;\n",
              "    display: none;\n",
              "    fill: var(--fill-color);\n",
              "    height: 32px;\n",
              "    padding: 0;\n",
              "    width: 32px;\n",
              "  }\n",
              "\n",
              "  .colab-df-quickchart:hover {\n",
              "    background-color: var(--hover-bg-color);\n",
              "    box-shadow: 0 1px 2px rgba(60, 64, 67, 0.3), 0 1px 3px 1px rgba(60, 64, 67, 0.15);\n",
              "    fill: var(--button-hover-fill-color);\n",
              "  }\n",
              "\n",
              "  .colab-df-quickchart-complete:disabled,\n",
              "  .colab-df-quickchart-complete:disabled:hover {\n",
              "    background-color: var(--disabled-bg-color);\n",
              "    fill: var(--disabled-fill-color);\n",
              "    box-shadow: none;\n",
              "  }\n",
              "\n",
              "  .colab-df-spinner {\n",
              "    border: 2px solid var(--fill-color);\n",
              "    border-color: transparent;\n",
              "    border-bottom-color: var(--fill-color);\n",
              "    animation:\n",
              "      spin 1s steps(1) infinite;\n",
              "  }\n",
              "\n",
              "  @keyframes spin {\n",
              "    0% {\n",
              "      border-color: transparent;\n",
              "      border-bottom-color: var(--fill-color);\n",
              "      border-left-color: var(--fill-color);\n",
              "    }\n",
              "    20% {\n",
              "      border-color: transparent;\n",
              "      border-left-color: var(--fill-color);\n",
              "      border-top-color: var(--fill-color);\n",
              "    }\n",
              "    30% {\n",
              "      border-color: transparent;\n",
              "      border-left-color: var(--fill-color);\n",
              "      border-top-color: var(--fill-color);\n",
              "      border-right-color: var(--fill-color);\n",
              "    }\n",
              "    40% {\n",
              "      border-color: transparent;\n",
              "      border-right-color: var(--fill-color);\n",
              "      border-top-color: var(--fill-color);\n",
              "    }\n",
              "    60% {\n",
              "      border-color: transparent;\n",
              "      border-right-color: var(--fill-color);\n",
              "    }\n",
              "    80% {\n",
              "      border-color: transparent;\n",
              "      border-right-color: var(--fill-color);\n",
              "      border-bottom-color: var(--fill-color);\n",
              "    }\n",
              "    90% {\n",
              "      border-color: transparent;\n",
              "      border-bottom-color: var(--fill-color);\n",
              "    }\n",
              "  }\n",
              "</style>\n",
              "\n",
              "  <script>\n",
              "    async function quickchart(key) {\n",
              "      const quickchartButtonEl =\n",
              "        document.querySelector('#' + key + ' button');\n",
              "      quickchartButtonEl.disabled = true;  // To prevent multiple clicks.\n",
              "      quickchartButtonEl.classList.add('colab-df-spinner');\n",
              "      try {\n",
              "        const charts = await google.colab.kernel.invokeFunction(\n",
              "            'suggestCharts', [key], {});\n",
              "      } catch (error) {\n",
              "        console.error('Error during call to suggestCharts:', error);\n",
              "      }\n",
              "      quickchartButtonEl.classList.remove('colab-df-spinner');\n",
              "      quickchartButtonEl.classList.add('colab-df-quickchart-complete');\n",
              "    }\n",
              "    (() => {\n",
              "      let quickchartButtonEl =\n",
              "        document.querySelector('#df-772826f3-09a2-4f62-999f-40073981bbd0 button');\n",
              "      quickchartButtonEl.style.display =\n",
              "        google.colab.kernel.accessAllowed ? 'block' : 'none';\n",
              "    })();\n",
              "  </script>\n",
              "</div>\n",
              "\n",
              "    </div>\n",
              "  </div>\n"
            ],
            "application/vnd.google.colaboratory.intrinsic+json": {
              "type": "dataframe",
              "repr_error": "0"
            }
          },
          "metadata": {},
          "execution_count": 51
        }
      ]
    },
    {
      "cell_type": "markdown",
      "source": [
        "Satrli ustunlarni `Encoder` yordamida raqamli ko'rinishga o'tgazib olamiz"
      ],
      "metadata": {
        "id": "sENOpncGDy6v"
      }
    },
    {
      "cell_type": "code",
      "source": [
        "from sklearn.preprocessing import LabelEncoder\n",
        "\n",
        "# LabelEncoder obyektini yaratamiz\n",
        "le = LabelEncoder()\n",
        "\n",
        "# Kodlash kerak bo'lgan ustunlar\n",
        "categorical_columns = ['Date', 'Gender']\n",
        "\n",
        "# Har bir kategoriyal ustun uchun kodlash\n",
        "for col in categorical_columns:\n",
        "    df[col] = le.fit_transform(df[col])"
      ],
      "metadata": {
        "id": "-aK8L3a1Ene_"
      },
      "execution_count": null,
      "outputs": []
    },
    {
      "cell_type": "code",
      "source": [
        "df.sample(5)"
      ],
      "metadata": {
        "colab": {
          "base_uri": "https://localhost:8080/",
          "height": 224
        },
        "id": "aLXO9BVfR687",
        "outputId": "933857c7-87ec-41ea-f820-3aab3ff440b5"
      },
      "execution_count": null,
      "outputs": [
        {
          "output_type": "execute_result",
          "data": {
            "text/plain": [
              "      Date  Person_ID  Age  Gender  Sleep Start Time  Sleep End Time  \\\n",
              "3732    92       5130   45       2             21.22            5.97   \n",
              "1231   281       2194   52       2             22.18            3.45   \n",
              "4596   199       6867   53       0             22.43            6.01   \n",
              "404     23       6969   31       0             22.23            7.54   \n",
              "478    273       6285   54       0             22.50            4.48   \n",
              "\n",
              "      Total Sleep Hours  Sleep Quality  Exercise (mins/day)  \\\n",
              "3732               8.76             10                   65   \n",
              "1231               5.27              1                   44   \n",
              "4596               7.58              3                   21   \n",
              "404                9.31              2                   35   \n",
              "478                5.98             10                   47   \n",
              "\n",
              "      Caffeine Intake (mg)  Screen Time Before Bed (mins)  \\\n",
              "3732                   277                            143   \n",
              "1231                    87                            142   \n",
              "4596                   174                             35   \n",
              "404                    246                              7   \n",
              "478                    299                             81   \n",
              "\n",
              "      Work Hours (hrs/day)  Productivity Score  Mood Score  Stress Level  \n",
              "3732              9.435240                   8           8             1  \n",
              "1231              5.175384                   6           7            10  \n",
              "4596              6.161006                   9           2            10  \n",
              "404               9.561500                   9           2             8  \n",
              "478               5.762619                   6           6             3  "
            ],
            "text/html": [
              "\n",
              "  <div id=\"df-9a9bbe2e-4ea3-415b-952c-730ee7f6c6a7\" class=\"colab-df-container\">\n",
              "    <div>\n",
              "<style scoped>\n",
              "    .dataframe tbody tr th:only-of-type {\n",
              "        vertical-align: middle;\n",
              "    }\n",
              "\n",
              "    .dataframe tbody tr th {\n",
              "        vertical-align: top;\n",
              "    }\n",
              "\n",
              "    .dataframe thead th {\n",
              "        text-align: right;\n",
              "    }\n",
              "</style>\n",
              "<table border=\"1\" class=\"dataframe\">\n",
              "  <thead>\n",
              "    <tr style=\"text-align: right;\">\n",
              "      <th></th>\n",
              "      <th>Date</th>\n",
              "      <th>Person_ID</th>\n",
              "      <th>Age</th>\n",
              "      <th>Gender</th>\n",
              "      <th>Sleep Start Time</th>\n",
              "      <th>Sleep End Time</th>\n",
              "      <th>Total Sleep Hours</th>\n",
              "      <th>Sleep Quality</th>\n",
              "      <th>Exercise (mins/day)</th>\n",
              "      <th>Caffeine Intake (mg)</th>\n",
              "      <th>Screen Time Before Bed (mins)</th>\n",
              "      <th>Work Hours (hrs/day)</th>\n",
              "      <th>Productivity Score</th>\n",
              "      <th>Mood Score</th>\n",
              "      <th>Stress Level</th>\n",
              "    </tr>\n",
              "  </thead>\n",
              "  <tbody>\n",
              "    <tr>\n",
              "      <th>3732</th>\n",
              "      <td>92</td>\n",
              "      <td>5130</td>\n",
              "      <td>45</td>\n",
              "      <td>2</td>\n",
              "      <td>21.22</td>\n",
              "      <td>5.97</td>\n",
              "      <td>8.76</td>\n",
              "      <td>10</td>\n",
              "      <td>65</td>\n",
              "      <td>277</td>\n",
              "      <td>143</td>\n",
              "      <td>9.435240</td>\n",
              "      <td>8</td>\n",
              "      <td>8</td>\n",
              "      <td>1</td>\n",
              "    </tr>\n",
              "    <tr>\n",
              "      <th>1231</th>\n",
              "      <td>281</td>\n",
              "      <td>2194</td>\n",
              "      <td>52</td>\n",
              "      <td>2</td>\n",
              "      <td>22.18</td>\n",
              "      <td>3.45</td>\n",
              "      <td>5.27</td>\n",
              "      <td>1</td>\n",
              "      <td>44</td>\n",
              "      <td>87</td>\n",
              "      <td>142</td>\n",
              "      <td>5.175384</td>\n",
              "      <td>6</td>\n",
              "      <td>7</td>\n",
              "      <td>10</td>\n",
              "    </tr>\n",
              "    <tr>\n",
              "      <th>4596</th>\n",
              "      <td>199</td>\n",
              "      <td>6867</td>\n",
              "      <td>53</td>\n",
              "      <td>0</td>\n",
              "      <td>22.43</td>\n",
              "      <td>6.01</td>\n",
              "      <td>7.58</td>\n",
              "      <td>3</td>\n",
              "      <td>21</td>\n",
              "      <td>174</td>\n",
              "      <td>35</td>\n",
              "      <td>6.161006</td>\n",
              "      <td>9</td>\n",
              "      <td>2</td>\n",
              "      <td>10</td>\n",
              "    </tr>\n",
              "    <tr>\n",
              "      <th>404</th>\n",
              "      <td>23</td>\n",
              "      <td>6969</td>\n",
              "      <td>31</td>\n",
              "      <td>0</td>\n",
              "      <td>22.23</td>\n",
              "      <td>7.54</td>\n",
              "      <td>9.31</td>\n",
              "      <td>2</td>\n",
              "      <td>35</td>\n",
              "      <td>246</td>\n",
              "      <td>7</td>\n",
              "      <td>9.561500</td>\n",
              "      <td>9</td>\n",
              "      <td>2</td>\n",
              "      <td>8</td>\n",
              "    </tr>\n",
              "    <tr>\n",
              "      <th>478</th>\n",
              "      <td>273</td>\n",
              "      <td>6285</td>\n",
              "      <td>54</td>\n",
              "      <td>0</td>\n",
              "      <td>22.50</td>\n",
              "      <td>4.48</td>\n",
              "      <td>5.98</td>\n",
              "      <td>10</td>\n",
              "      <td>47</td>\n",
              "      <td>299</td>\n",
              "      <td>81</td>\n",
              "      <td>5.762619</td>\n",
              "      <td>6</td>\n",
              "      <td>6</td>\n",
              "      <td>3</td>\n",
              "    </tr>\n",
              "  </tbody>\n",
              "</table>\n",
              "</div>\n",
              "    <div class=\"colab-df-buttons\">\n",
              "\n",
              "  <div class=\"colab-df-container\">\n",
              "    <button class=\"colab-df-convert\" onclick=\"convertToInteractive('df-9a9bbe2e-4ea3-415b-952c-730ee7f6c6a7')\"\n",
              "            title=\"Convert this dataframe to an interactive table.\"\n",
              "            style=\"display:none;\">\n",
              "\n",
              "  <svg xmlns=\"http://www.w3.org/2000/svg\" height=\"24px\" viewBox=\"0 -960 960 960\">\n",
              "    <path d=\"M120-120v-720h720v720H120Zm60-500h600v-160H180v160Zm220 220h160v-160H400v160Zm0 220h160v-160H400v160ZM180-400h160v-160H180v160Zm440 0h160v-160H620v160ZM180-180h160v-160H180v160Zm440 0h160v-160H620v160Z\"/>\n",
              "  </svg>\n",
              "    </button>\n",
              "\n",
              "  <style>\n",
              "    .colab-df-container {\n",
              "      display:flex;\n",
              "      gap: 12px;\n",
              "    }\n",
              "\n",
              "    .colab-df-convert {\n",
              "      background-color: #E8F0FE;\n",
              "      border: none;\n",
              "      border-radius: 50%;\n",
              "      cursor: pointer;\n",
              "      display: none;\n",
              "      fill: #1967D2;\n",
              "      height: 32px;\n",
              "      padding: 0 0 0 0;\n",
              "      width: 32px;\n",
              "    }\n",
              "\n",
              "    .colab-df-convert:hover {\n",
              "      background-color: #E2EBFA;\n",
              "      box-shadow: 0px 1px 2px rgba(60, 64, 67, 0.3), 0px 1px 3px 1px rgba(60, 64, 67, 0.15);\n",
              "      fill: #174EA6;\n",
              "    }\n",
              "\n",
              "    .colab-df-buttons div {\n",
              "      margin-bottom: 4px;\n",
              "    }\n",
              "\n",
              "    [theme=dark] .colab-df-convert {\n",
              "      background-color: #3B4455;\n",
              "      fill: #D2E3FC;\n",
              "    }\n",
              "\n",
              "    [theme=dark] .colab-df-convert:hover {\n",
              "      background-color: #434B5C;\n",
              "      box-shadow: 0px 1px 3px 1px rgba(0, 0, 0, 0.15);\n",
              "      filter: drop-shadow(0px 1px 2px rgba(0, 0, 0, 0.3));\n",
              "      fill: #FFFFFF;\n",
              "    }\n",
              "  </style>\n",
              "\n",
              "    <script>\n",
              "      const buttonEl =\n",
              "        document.querySelector('#df-9a9bbe2e-4ea3-415b-952c-730ee7f6c6a7 button.colab-df-convert');\n",
              "      buttonEl.style.display =\n",
              "        google.colab.kernel.accessAllowed ? 'block' : 'none';\n",
              "\n",
              "      async function convertToInteractive(key) {\n",
              "        const element = document.querySelector('#df-9a9bbe2e-4ea3-415b-952c-730ee7f6c6a7');\n",
              "        const dataTable =\n",
              "          await google.colab.kernel.invokeFunction('convertToInteractive',\n",
              "                                                    [key], {});\n",
              "        if (!dataTable) return;\n",
              "\n",
              "        const docLinkHtml = 'Like what you see? Visit the ' +\n",
              "          '<a target=\"_blank\" href=https://colab.research.google.com/notebooks/data_table.ipynb>data table notebook</a>'\n",
              "          + ' to learn more about interactive tables.';\n",
              "        element.innerHTML = '';\n",
              "        dataTable['output_type'] = 'display_data';\n",
              "        await google.colab.output.renderOutput(dataTable, element);\n",
              "        const docLink = document.createElement('div');\n",
              "        docLink.innerHTML = docLinkHtml;\n",
              "        element.appendChild(docLink);\n",
              "      }\n",
              "    </script>\n",
              "  </div>\n",
              "\n",
              "\n",
              "<div id=\"df-a527d569-e410-4620-84c5-a4f30bb14daa\">\n",
              "  <button class=\"colab-df-quickchart\" onclick=\"quickchart('df-a527d569-e410-4620-84c5-a4f30bb14daa')\"\n",
              "            title=\"Suggest charts\"\n",
              "            style=\"display:none;\">\n",
              "\n",
              "<svg xmlns=\"http://www.w3.org/2000/svg\" height=\"24px\"viewBox=\"0 0 24 24\"\n",
              "     width=\"24px\">\n",
              "    <g>\n",
              "        <path d=\"M19 3H5c-1.1 0-2 .9-2 2v14c0 1.1.9 2 2 2h14c1.1 0 2-.9 2-2V5c0-1.1-.9-2-2-2zM9 17H7v-7h2v7zm4 0h-2V7h2v10zm4 0h-2v-4h2v4z\"/>\n",
              "    </g>\n",
              "</svg>\n",
              "  </button>\n",
              "\n",
              "<style>\n",
              "  .colab-df-quickchart {\n",
              "      --bg-color: #E8F0FE;\n",
              "      --fill-color: #1967D2;\n",
              "      --hover-bg-color: #E2EBFA;\n",
              "      --hover-fill-color: #174EA6;\n",
              "      --disabled-fill-color: #AAA;\n",
              "      --disabled-bg-color: #DDD;\n",
              "  }\n",
              "\n",
              "  [theme=dark] .colab-df-quickchart {\n",
              "      --bg-color: #3B4455;\n",
              "      --fill-color: #D2E3FC;\n",
              "      --hover-bg-color: #434B5C;\n",
              "      --hover-fill-color: #FFFFFF;\n",
              "      --disabled-bg-color: #3B4455;\n",
              "      --disabled-fill-color: #666;\n",
              "  }\n",
              "\n",
              "  .colab-df-quickchart {\n",
              "    background-color: var(--bg-color);\n",
              "    border: none;\n",
              "    border-radius: 50%;\n",
              "    cursor: pointer;\n",
              "    display: none;\n",
              "    fill: var(--fill-color);\n",
              "    height: 32px;\n",
              "    padding: 0;\n",
              "    width: 32px;\n",
              "  }\n",
              "\n",
              "  .colab-df-quickchart:hover {\n",
              "    background-color: var(--hover-bg-color);\n",
              "    box-shadow: 0 1px 2px rgba(60, 64, 67, 0.3), 0 1px 3px 1px rgba(60, 64, 67, 0.15);\n",
              "    fill: var(--button-hover-fill-color);\n",
              "  }\n",
              "\n",
              "  .colab-df-quickchart-complete:disabled,\n",
              "  .colab-df-quickchart-complete:disabled:hover {\n",
              "    background-color: var(--disabled-bg-color);\n",
              "    fill: var(--disabled-fill-color);\n",
              "    box-shadow: none;\n",
              "  }\n",
              "\n",
              "  .colab-df-spinner {\n",
              "    border: 2px solid var(--fill-color);\n",
              "    border-color: transparent;\n",
              "    border-bottom-color: var(--fill-color);\n",
              "    animation:\n",
              "      spin 1s steps(1) infinite;\n",
              "  }\n",
              "\n",
              "  @keyframes spin {\n",
              "    0% {\n",
              "      border-color: transparent;\n",
              "      border-bottom-color: var(--fill-color);\n",
              "      border-left-color: var(--fill-color);\n",
              "    }\n",
              "    20% {\n",
              "      border-color: transparent;\n",
              "      border-left-color: var(--fill-color);\n",
              "      border-top-color: var(--fill-color);\n",
              "    }\n",
              "    30% {\n",
              "      border-color: transparent;\n",
              "      border-left-color: var(--fill-color);\n",
              "      border-top-color: var(--fill-color);\n",
              "      border-right-color: var(--fill-color);\n",
              "    }\n",
              "    40% {\n",
              "      border-color: transparent;\n",
              "      border-right-color: var(--fill-color);\n",
              "      border-top-color: var(--fill-color);\n",
              "    }\n",
              "    60% {\n",
              "      border-color: transparent;\n",
              "      border-right-color: var(--fill-color);\n",
              "    }\n",
              "    80% {\n",
              "      border-color: transparent;\n",
              "      border-right-color: var(--fill-color);\n",
              "      border-bottom-color: var(--fill-color);\n",
              "    }\n",
              "    90% {\n",
              "      border-color: transparent;\n",
              "      border-bottom-color: var(--fill-color);\n",
              "    }\n",
              "  }\n",
              "</style>\n",
              "\n",
              "  <script>\n",
              "    async function quickchart(key) {\n",
              "      const quickchartButtonEl =\n",
              "        document.querySelector('#' + key + ' button');\n",
              "      quickchartButtonEl.disabled = true;  // To prevent multiple clicks.\n",
              "      quickchartButtonEl.classList.add('colab-df-spinner');\n",
              "      try {\n",
              "        const charts = await google.colab.kernel.invokeFunction(\n",
              "            'suggestCharts', [key], {});\n",
              "      } catch (error) {\n",
              "        console.error('Error during call to suggestCharts:', error);\n",
              "      }\n",
              "      quickchartButtonEl.classList.remove('colab-df-spinner');\n",
              "      quickchartButtonEl.classList.add('colab-df-quickchart-complete');\n",
              "    }\n",
              "    (() => {\n",
              "      let quickchartButtonEl =\n",
              "        document.querySelector('#df-a527d569-e410-4620-84c5-a4f30bb14daa button');\n",
              "      quickchartButtonEl.style.display =\n",
              "        google.colab.kernel.accessAllowed ? 'block' : 'none';\n",
              "    })();\n",
              "  </script>\n",
              "</div>\n",
              "\n",
              "    </div>\n",
              "  </div>\n"
            ],
            "application/vnd.google.colaboratory.intrinsic+json": {
              "type": "dataframe",
              "summary": "{\n  \"name\": \"df\",\n  \"rows\": 5,\n  \"fields\": [\n    {\n      \"column\": \"Date\",\n      \"properties\": {\n        \"dtype\": \"number\",\n        \"std\": 113,\n        \"min\": 23,\n        \"max\": 281,\n        \"num_unique_values\": 5,\n        \"samples\": [\n          281,\n          273,\n          199\n        ],\n        \"semantic_type\": \"\",\n        \"description\": \"\"\n      }\n    },\n    {\n      \"column\": \"Person_ID\",\n      \"properties\": {\n        \"dtype\": \"number\",\n        \"std\": 1981,\n        \"min\": 2194,\n        \"max\": 6969,\n        \"num_unique_values\": 5,\n        \"samples\": [\n          2194,\n          6285,\n          6867\n        ],\n        \"semantic_type\": \"\",\n        \"description\": \"\"\n      }\n    },\n    {\n      \"column\": \"Age\",\n      \"properties\": {\n        \"dtype\": \"number\",\n        \"std\": 9,\n        \"min\": 31,\n        \"max\": 54,\n        \"num_unique_values\": 5,\n        \"samples\": [\n          52,\n          54,\n          53\n        ],\n        \"semantic_type\": \"\",\n        \"description\": \"\"\n      }\n    },\n    {\n      \"column\": \"Gender\",\n      \"properties\": {\n        \"dtype\": \"number\",\n        \"std\": 1,\n        \"min\": 0,\n        \"max\": 2,\n        \"num_unique_values\": 2,\n        \"samples\": [\n          0,\n          2\n        ],\n        \"semantic_type\": \"\",\n        \"description\": \"\"\n      }\n    },\n    {\n      \"column\": \"Sleep Start Time\",\n      \"properties\": {\n        \"dtype\": \"number\",\n        \"std\": 0.5162073226911843,\n        \"min\": 21.22,\n        \"max\": 22.5,\n        \"num_unique_values\": 5,\n        \"samples\": [\n          22.18,\n          22.5\n        ],\n        \"semantic_type\": \"\",\n        \"description\": \"\"\n      }\n    },\n    {\n      \"column\": \"Sleep End Time\",\n      \"properties\": {\n        \"dtype\": \"number\",\n        \"std\": 1.5720209922262487,\n        \"min\": 3.45,\n        \"max\": 7.54,\n        \"num_unique_values\": 5,\n        \"samples\": [\n          3.45,\n          4.48\n        ],\n        \"semantic_type\": \"\",\n        \"description\": \"\"\n      }\n    },\n    {\n      \"column\": \"Total Sleep Hours\",\n      \"properties\": {\n        \"dtype\": \"number\",\n        \"std\": 1.7379154179648677,\n        \"min\": 5.27,\n        \"max\": 9.31,\n        \"num_unique_values\": 5,\n        \"samples\": [\n          5.27,\n          5.98\n        ],\n        \"semantic_type\": \"\",\n        \"description\": \"\"\n      }\n    },\n    {\n      \"column\": \"Sleep Quality\",\n      \"properties\": {\n        \"dtype\": \"number\",\n        \"std\": 4,\n        \"min\": 1,\n        \"max\": 10,\n        \"num_unique_values\": 4,\n        \"samples\": [\n          1,\n          2\n        ],\n        \"semantic_type\": \"\",\n        \"description\": \"\"\n      }\n    },\n    {\n      \"column\": \"Exercise (mins/day)\",\n      \"properties\": {\n        \"dtype\": \"number\",\n        \"std\": 16,\n        \"min\": 21,\n        \"max\": 65,\n        \"num_unique_values\": 5,\n        \"samples\": [\n          44,\n          47\n        ],\n        \"semantic_type\": \"\",\n        \"description\": \"\"\n      }\n    },\n    {\n      \"column\": \"Caffeine Intake (mg)\",\n      \"properties\": {\n        \"dtype\": \"number\",\n        \"std\": 86,\n        \"min\": 87,\n        \"max\": 299,\n        \"num_unique_values\": 5,\n        \"samples\": [\n          87,\n          299\n        ],\n        \"semantic_type\": \"\",\n        \"description\": \"\"\n      }\n    },\n    {\n      \"column\": \"Screen Time Before Bed (mins)\",\n      \"properties\": {\n        \"dtype\": \"number\",\n        \"std\": 61,\n        \"min\": 7,\n        \"max\": 143,\n        \"num_unique_values\": 5,\n        \"samples\": [\n          142,\n          81\n        ],\n        \"semantic_type\": \"\",\n        \"description\": \"\"\n      }\n    },\n    {\n      \"column\": \"Work Hours (hrs/day)\",\n      \"properties\": {\n        \"dtype\": \"number\",\n        \"std\": 2.1104373698734715,\n        \"min\": 5.175384216804851,\n        \"max\": 9.561499729680524,\n        \"num_unique_values\": 5,\n        \"samples\": [\n          5.175384216804851,\n          5.7626191475006605\n        ],\n        \"semantic_type\": \"\",\n        \"description\": \"\"\n      }\n    },\n    {\n      \"column\": \"Productivity Score\",\n      \"properties\": {\n        \"dtype\": \"number\",\n        \"std\": 1,\n        \"min\": 6,\n        \"max\": 9,\n        \"num_unique_values\": 3,\n        \"samples\": [\n          8,\n          6\n        ],\n        \"semantic_type\": \"\",\n        \"description\": \"\"\n      }\n    },\n    {\n      \"column\": \"Mood Score\",\n      \"properties\": {\n        \"dtype\": \"number\",\n        \"std\": 2,\n        \"min\": 2,\n        \"max\": 8,\n        \"num_unique_values\": 4,\n        \"samples\": [\n          7,\n          6\n        ],\n        \"semantic_type\": \"\",\n        \"description\": \"\"\n      }\n    },\n    {\n      \"column\": \"Stress Level\",\n      \"properties\": {\n        \"dtype\": \"number\",\n        \"std\": 4,\n        \"min\": 1,\n        \"max\": 10,\n        \"num_unique_values\": 4,\n        \"samples\": [\n          10,\n          3\n        ],\n        \"semantic_type\": \"\",\n        \"description\": \"\"\n      }\n    }\n  ]\n}"
            }
          },
          "metadata": {},
          "execution_count": 53
        }
      ]
    },
    {
      "cell_type": "markdown",
      "source": [
        "## Modellar uchun kerak detallarni tayorlab olamiz"
      ],
      "metadata": {
        "id": "cn3Mlo8fK8Cy"
      }
    },
    {
      "cell_type": "markdown",
      "source": [
        "`Uyquni boshlash` va `Uyquni tugatish` vaqtlari formatini to'g'irlab olamiz"
      ],
      "metadata": {
        "id": "6PDgxk0FNiXR"
      }
    },
    {
      "cell_type": "code",
      "source": [
        "df['Sleep Start Time'].head()"
      ],
      "metadata": {
        "colab": {
          "base_uri": "https://localhost:8080/",
          "height": 241
        },
        "id": "ypi1TsVyN4o5",
        "outputId": "3519c90f-7f2c-4a71-f502-828ad406faec"
      },
      "execution_count": null,
      "outputs": [
        {
          "output_type": "execute_result",
          "data": {
            "text/plain": [
              "0    23.33\n",
              "1    21.02\n",
              "2    22.10\n",
              "3    23.10\n",
              "4    21.42\n",
              "Name: Sleep Start Time, dtype: float64"
            ],
            "text/html": [
              "<div>\n",
              "<style scoped>\n",
              "    .dataframe tbody tr th:only-of-type {\n",
              "        vertical-align: middle;\n",
              "    }\n",
              "\n",
              "    .dataframe tbody tr th {\n",
              "        vertical-align: top;\n",
              "    }\n",
              "\n",
              "    .dataframe thead th {\n",
              "        text-align: right;\n",
              "    }\n",
              "</style>\n",
              "<table border=\"1\" class=\"dataframe\">\n",
              "  <thead>\n",
              "    <tr style=\"text-align: right;\">\n",
              "      <th></th>\n",
              "      <th>Sleep Start Time</th>\n",
              "    </tr>\n",
              "  </thead>\n",
              "  <tbody>\n",
              "    <tr>\n",
              "      <th>0</th>\n",
              "      <td>23.33</td>\n",
              "    </tr>\n",
              "    <tr>\n",
              "      <th>1</th>\n",
              "      <td>21.02</td>\n",
              "    </tr>\n",
              "    <tr>\n",
              "      <th>2</th>\n",
              "      <td>22.10</td>\n",
              "    </tr>\n",
              "    <tr>\n",
              "      <th>3</th>\n",
              "      <td>23.10</td>\n",
              "    </tr>\n",
              "    <tr>\n",
              "      <th>4</th>\n",
              "      <td>21.42</td>\n",
              "    </tr>\n",
              "  </tbody>\n",
              "</table>\n",
              "</div><br><label><b>dtype:</b> float64</label>"
            ]
          },
          "metadata": {},
          "execution_count": 54
        }
      ]
    },
    {
      "cell_type": "code",
      "source": [
        "df['Sleep End Time'].head()"
      ],
      "metadata": {
        "colab": {
          "base_uri": "https://localhost:8080/",
          "height": 241
        },
        "id": "aCHNAy3wNEYY",
        "outputId": "b149e405-9ba0-4539-82ee-25e340abaf82"
      },
      "execution_count": null,
      "outputs": [
        {
          "output_type": "execute_result",
          "data": {
            "text/plain": [
              "0    4.61\n",
              "1    2.43\n",
              "2    3.45\n",
              "3    6.65\n",
              "4    4.17\n",
              "Name: Sleep End Time, dtype: float64"
            ],
            "text/html": [
              "<div>\n",
              "<style scoped>\n",
              "    .dataframe tbody tr th:only-of-type {\n",
              "        vertical-align: middle;\n",
              "    }\n",
              "\n",
              "    .dataframe tbody tr th {\n",
              "        vertical-align: top;\n",
              "    }\n",
              "\n",
              "    .dataframe thead th {\n",
              "        text-align: right;\n",
              "    }\n",
              "</style>\n",
              "<table border=\"1\" class=\"dataframe\">\n",
              "  <thead>\n",
              "    <tr style=\"text-align: right;\">\n",
              "      <th></th>\n",
              "      <th>Sleep End Time</th>\n",
              "    </tr>\n",
              "  </thead>\n",
              "  <tbody>\n",
              "    <tr>\n",
              "      <th>0</th>\n",
              "      <td>4.61</td>\n",
              "    </tr>\n",
              "    <tr>\n",
              "      <th>1</th>\n",
              "      <td>2.43</td>\n",
              "    </tr>\n",
              "    <tr>\n",
              "      <th>2</th>\n",
              "      <td>3.45</td>\n",
              "    </tr>\n",
              "    <tr>\n",
              "      <th>3</th>\n",
              "      <td>6.65</td>\n",
              "    </tr>\n",
              "    <tr>\n",
              "      <th>4</th>\n",
              "      <td>4.17</td>\n",
              "    </tr>\n",
              "  </tbody>\n",
              "</table>\n",
              "</div><br><label><b>dtype:</b> float64</label>"
            ]
          },
          "metadata": {},
          "execution_count": 55
        }
      ]
    },
    {
      "cell_type": "markdown",
      "source": [
        "Vaqtni to'g'irlash funcksiyasi"
      ],
      "metadata": {
        "id": "r3DFiFuRORXD"
      }
    },
    {
      "cell_type": "code",
      "source": [
        "def clean_time(time_value):\n",
        "  time_str = str(time_value).strip()\n",
        "  if ':' not in time_str:\n",
        "    try:\n",
        "      hour = int(float(time_str))\n",
        "      time_str = f\"{hour:02d}:00\"\n",
        "    except ValueError:\n",
        "      pass\n",
        "  return time_str"
      ],
      "metadata": {
        "id": "VSkHKLt3Nx1R"
      },
      "execution_count": null,
      "outputs": []
    },
    {
      "cell_type": "code",
      "source": [
        "df['Sleep Start Time'] = df['Sleep Start Time'].apply(clean_time)\n",
        "df['Sleep End Time'] = df['Sleep End Time'].apply(clean_time)"
      ],
      "metadata": {
        "id": "ygQu4qnvOAWa"
      },
      "execution_count": null,
      "outputs": []
    },
    {
      "cell_type": "code",
      "source": [
        "df['Sleep End Time'].head()"
      ],
      "metadata": {
        "colab": {
          "base_uri": "https://localhost:8080/",
          "height": 241
        },
        "id": "1NMZlS5MN-cB",
        "outputId": "5649f426-d1a7-4d27-f9d0-5465b15c1ecd"
      },
      "execution_count": null,
      "outputs": [
        {
          "output_type": "execute_result",
          "data": {
            "text/plain": [
              "0    04:00\n",
              "1    02:00\n",
              "2    03:00\n",
              "3    06:00\n",
              "4    04:00\n",
              "Name: Sleep End Time, dtype: object"
            ],
            "text/html": [
              "<div>\n",
              "<style scoped>\n",
              "    .dataframe tbody tr th:only-of-type {\n",
              "        vertical-align: middle;\n",
              "    }\n",
              "\n",
              "    .dataframe tbody tr th {\n",
              "        vertical-align: top;\n",
              "    }\n",
              "\n",
              "    .dataframe thead th {\n",
              "        text-align: right;\n",
              "    }\n",
              "</style>\n",
              "<table border=\"1\" class=\"dataframe\">\n",
              "  <thead>\n",
              "    <tr style=\"text-align: right;\">\n",
              "      <th></th>\n",
              "      <th>Sleep End Time</th>\n",
              "    </tr>\n",
              "  </thead>\n",
              "  <tbody>\n",
              "    <tr>\n",
              "      <th>0</th>\n",
              "      <td>04:00</td>\n",
              "    </tr>\n",
              "    <tr>\n",
              "      <th>1</th>\n",
              "      <td>02:00</td>\n",
              "    </tr>\n",
              "    <tr>\n",
              "      <th>2</th>\n",
              "      <td>03:00</td>\n",
              "    </tr>\n",
              "    <tr>\n",
              "      <th>3</th>\n",
              "      <td>06:00</td>\n",
              "    </tr>\n",
              "    <tr>\n",
              "      <th>4</th>\n",
              "      <td>04:00</td>\n",
              "    </tr>\n",
              "  </tbody>\n",
              "</table>\n",
              "</div><br><label><b>dtype:</b> object</label>"
            ]
          },
          "metadata": {},
          "execution_count": 58
        }
      ]
    },
    {
      "cell_type": "markdown",
      "source": [
        "- Uyquning haqiqiy boshlanish va tugash vaqtini aniqlash.\n",
        "\n",
        "- Kechasi boshlanib ertalab tugaydigan uyqularni to'g'ri hisoblash.\n",
        "\n",
        "- Keyingi tahlillar uchun asos yaratish (masalan, uyqu davomiyligi, sifatiga ta'sir etuvchi omillar)."
      ],
      "metadata": {
        "id": "hanBHuWXPJig"
      }
    },
    {
      "cell_type": "code",
      "source": [
        "df['Date'] = pd.to_datetime(df['Date'])\n",
        "df['Sleep Start'] = pd.to_datetime(df['Date'].dt.strftime('%Y-%m-%d') + ' ' + df['Sleep Start Time'])\n",
        "df['Sleep End'] = pd.to_datetime(df['Date'].dt.strftime('%Y-%m-%d') + ' ' + df['Sleep End Time'])\n",
        "\n",
        "mask = df['Sleep End'] < df['Sleep Start']\n",
        "df.loc[mask, 'Sleep End'] += pd.Timedelta(days=1)\n",
        "\n",
        "df[['Date', 'Sleep Start Time', 'Sleep Start', 'Sleep End Time', 'Sleep End']].head()"
      ],
      "metadata": {
        "colab": {
          "base_uri": "https://localhost:8080/",
          "height": 206
        },
        "id": "PGKiD2jCPEeR",
        "outputId": "e962215f-1040-4f44-857f-f184ed90c9dc"
      },
      "execution_count": null,
      "outputs": [
        {
          "output_type": "execute_result",
          "data": {
            "text/plain": [
              "                           Date Sleep Start Time         Sleep Start  \\\n",
              "0 1970-01-01 00:00:00.000000102            23:00 1970-01-01 23:00:00   \n",
              "1 1970-01-01 00:00:00.000000308            21:00 1970-01-01 21:00:00   \n",
              "2 1970-01-01 00:00:00.000000243            22:00 1970-01-01 22:00:00   \n",
              "3 1970-01-01 00:00:00.000000052            23:00 1970-01-01 23:00:00   \n",
              "4 1970-01-01 00:00:00.000000053            21:00 1970-01-01 21:00:00   \n",
              "\n",
              "  Sleep End Time           Sleep End  \n",
              "0          04:00 1970-01-02 04:00:00  \n",
              "1          02:00 1970-01-02 02:00:00  \n",
              "2          03:00 1970-01-02 03:00:00  \n",
              "3          06:00 1970-01-02 06:00:00  \n",
              "4          04:00 1970-01-02 04:00:00  "
            ],
            "text/html": [
              "\n",
              "  <div id=\"df-0ddd8491-e7c1-4bd7-819b-e15bd7dd8a31\" class=\"colab-df-container\">\n",
              "    <div>\n",
              "<style scoped>\n",
              "    .dataframe tbody tr th:only-of-type {\n",
              "        vertical-align: middle;\n",
              "    }\n",
              "\n",
              "    .dataframe tbody tr th {\n",
              "        vertical-align: top;\n",
              "    }\n",
              "\n",
              "    .dataframe thead th {\n",
              "        text-align: right;\n",
              "    }\n",
              "</style>\n",
              "<table border=\"1\" class=\"dataframe\">\n",
              "  <thead>\n",
              "    <tr style=\"text-align: right;\">\n",
              "      <th></th>\n",
              "      <th>Date</th>\n",
              "      <th>Sleep Start Time</th>\n",
              "      <th>Sleep Start</th>\n",
              "      <th>Sleep End Time</th>\n",
              "      <th>Sleep End</th>\n",
              "    </tr>\n",
              "  </thead>\n",
              "  <tbody>\n",
              "    <tr>\n",
              "      <th>0</th>\n",
              "      <td>1970-01-01 00:00:00.000000102</td>\n",
              "      <td>23:00</td>\n",
              "      <td>1970-01-01 23:00:00</td>\n",
              "      <td>04:00</td>\n",
              "      <td>1970-01-02 04:00:00</td>\n",
              "    </tr>\n",
              "    <tr>\n",
              "      <th>1</th>\n",
              "      <td>1970-01-01 00:00:00.000000308</td>\n",
              "      <td>21:00</td>\n",
              "      <td>1970-01-01 21:00:00</td>\n",
              "      <td>02:00</td>\n",
              "      <td>1970-01-02 02:00:00</td>\n",
              "    </tr>\n",
              "    <tr>\n",
              "      <th>2</th>\n",
              "      <td>1970-01-01 00:00:00.000000243</td>\n",
              "      <td>22:00</td>\n",
              "      <td>1970-01-01 22:00:00</td>\n",
              "      <td>03:00</td>\n",
              "      <td>1970-01-02 03:00:00</td>\n",
              "    </tr>\n",
              "    <tr>\n",
              "      <th>3</th>\n",
              "      <td>1970-01-01 00:00:00.000000052</td>\n",
              "      <td>23:00</td>\n",
              "      <td>1970-01-01 23:00:00</td>\n",
              "      <td>06:00</td>\n",
              "      <td>1970-01-02 06:00:00</td>\n",
              "    </tr>\n",
              "    <tr>\n",
              "      <th>4</th>\n",
              "      <td>1970-01-01 00:00:00.000000053</td>\n",
              "      <td>21:00</td>\n",
              "      <td>1970-01-01 21:00:00</td>\n",
              "      <td>04:00</td>\n",
              "      <td>1970-01-02 04:00:00</td>\n",
              "    </tr>\n",
              "  </tbody>\n",
              "</table>\n",
              "</div>\n",
              "    <div class=\"colab-df-buttons\">\n",
              "\n",
              "  <div class=\"colab-df-container\">\n",
              "    <button class=\"colab-df-convert\" onclick=\"convertToInteractive('df-0ddd8491-e7c1-4bd7-819b-e15bd7dd8a31')\"\n",
              "            title=\"Convert this dataframe to an interactive table.\"\n",
              "            style=\"display:none;\">\n",
              "\n",
              "  <svg xmlns=\"http://www.w3.org/2000/svg\" height=\"24px\" viewBox=\"0 -960 960 960\">\n",
              "    <path d=\"M120-120v-720h720v720H120Zm60-500h600v-160H180v160Zm220 220h160v-160H400v160Zm0 220h160v-160H400v160ZM180-400h160v-160H180v160Zm440 0h160v-160H620v160ZM180-180h160v-160H180v160Zm440 0h160v-160H620v160Z\"/>\n",
              "  </svg>\n",
              "    </button>\n",
              "\n",
              "  <style>\n",
              "    .colab-df-container {\n",
              "      display:flex;\n",
              "      gap: 12px;\n",
              "    }\n",
              "\n",
              "    .colab-df-convert {\n",
              "      background-color: #E8F0FE;\n",
              "      border: none;\n",
              "      border-radius: 50%;\n",
              "      cursor: pointer;\n",
              "      display: none;\n",
              "      fill: #1967D2;\n",
              "      height: 32px;\n",
              "      padding: 0 0 0 0;\n",
              "      width: 32px;\n",
              "    }\n",
              "\n",
              "    .colab-df-convert:hover {\n",
              "      background-color: #E2EBFA;\n",
              "      box-shadow: 0px 1px 2px rgba(60, 64, 67, 0.3), 0px 1px 3px 1px rgba(60, 64, 67, 0.15);\n",
              "      fill: #174EA6;\n",
              "    }\n",
              "\n",
              "    .colab-df-buttons div {\n",
              "      margin-bottom: 4px;\n",
              "    }\n",
              "\n",
              "    [theme=dark] .colab-df-convert {\n",
              "      background-color: #3B4455;\n",
              "      fill: #D2E3FC;\n",
              "    }\n",
              "\n",
              "    [theme=dark] .colab-df-convert:hover {\n",
              "      background-color: #434B5C;\n",
              "      box-shadow: 0px 1px 3px 1px rgba(0, 0, 0, 0.15);\n",
              "      filter: drop-shadow(0px 1px 2px rgba(0, 0, 0, 0.3));\n",
              "      fill: #FFFFFF;\n",
              "    }\n",
              "  </style>\n",
              "\n",
              "    <script>\n",
              "      const buttonEl =\n",
              "        document.querySelector('#df-0ddd8491-e7c1-4bd7-819b-e15bd7dd8a31 button.colab-df-convert');\n",
              "      buttonEl.style.display =\n",
              "        google.colab.kernel.accessAllowed ? 'block' : 'none';\n",
              "\n",
              "      async function convertToInteractive(key) {\n",
              "        const element = document.querySelector('#df-0ddd8491-e7c1-4bd7-819b-e15bd7dd8a31');\n",
              "        const dataTable =\n",
              "          await google.colab.kernel.invokeFunction('convertToInteractive',\n",
              "                                                    [key], {});\n",
              "        if (!dataTable) return;\n",
              "\n",
              "        const docLinkHtml = 'Like what you see? Visit the ' +\n",
              "          '<a target=\"_blank\" href=https://colab.research.google.com/notebooks/data_table.ipynb>data table notebook</a>'\n",
              "          + ' to learn more about interactive tables.';\n",
              "        element.innerHTML = '';\n",
              "        dataTable['output_type'] = 'display_data';\n",
              "        await google.colab.output.renderOutput(dataTable, element);\n",
              "        const docLink = document.createElement('div');\n",
              "        docLink.innerHTML = docLinkHtml;\n",
              "        element.appendChild(docLink);\n",
              "      }\n",
              "    </script>\n",
              "  </div>\n",
              "\n",
              "\n",
              "<div id=\"df-7b1d6511-9457-4204-9480-7d2b0124c6f7\">\n",
              "  <button class=\"colab-df-quickchart\" onclick=\"quickchart('df-7b1d6511-9457-4204-9480-7d2b0124c6f7')\"\n",
              "            title=\"Suggest charts\"\n",
              "            style=\"display:none;\">\n",
              "\n",
              "<svg xmlns=\"http://www.w3.org/2000/svg\" height=\"24px\"viewBox=\"0 0 24 24\"\n",
              "     width=\"24px\">\n",
              "    <g>\n",
              "        <path d=\"M19 3H5c-1.1 0-2 .9-2 2v14c0 1.1.9 2 2 2h14c1.1 0 2-.9 2-2V5c0-1.1-.9-2-2-2zM9 17H7v-7h2v7zm4 0h-2V7h2v10zm4 0h-2v-4h2v4z\"/>\n",
              "    </g>\n",
              "</svg>\n",
              "  </button>\n",
              "\n",
              "<style>\n",
              "  .colab-df-quickchart {\n",
              "      --bg-color: #E8F0FE;\n",
              "      --fill-color: #1967D2;\n",
              "      --hover-bg-color: #E2EBFA;\n",
              "      --hover-fill-color: #174EA6;\n",
              "      --disabled-fill-color: #AAA;\n",
              "      --disabled-bg-color: #DDD;\n",
              "  }\n",
              "\n",
              "  [theme=dark] .colab-df-quickchart {\n",
              "      --bg-color: #3B4455;\n",
              "      --fill-color: #D2E3FC;\n",
              "      --hover-bg-color: #434B5C;\n",
              "      --hover-fill-color: #FFFFFF;\n",
              "      --disabled-bg-color: #3B4455;\n",
              "      --disabled-fill-color: #666;\n",
              "  }\n",
              "\n",
              "  .colab-df-quickchart {\n",
              "    background-color: var(--bg-color);\n",
              "    border: none;\n",
              "    border-radius: 50%;\n",
              "    cursor: pointer;\n",
              "    display: none;\n",
              "    fill: var(--fill-color);\n",
              "    height: 32px;\n",
              "    padding: 0;\n",
              "    width: 32px;\n",
              "  }\n",
              "\n",
              "  .colab-df-quickchart:hover {\n",
              "    background-color: var(--hover-bg-color);\n",
              "    box-shadow: 0 1px 2px rgba(60, 64, 67, 0.3), 0 1px 3px 1px rgba(60, 64, 67, 0.15);\n",
              "    fill: var(--button-hover-fill-color);\n",
              "  }\n",
              "\n",
              "  .colab-df-quickchart-complete:disabled,\n",
              "  .colab-df-quickchart-complete:disabled:hover {\n",
              "    background-color: var(--disabled-bg-color);\n",
              "    fill: var(--disabled-fill-color);\n",
              "    box-shadow: none;\n",
              "  }\n",
              "\n",
              "  .colab-df-spinner {\n",
              "    border: 2px solid var(--fill-color);\n",
              "    border-color: transparent;\n",
              "    border-bottom-color: var(--fill-color);\n",
              "    animation:\n",
              "      spin 1s steps(1) infinite;\n",
              "  }\n",
              "\n",
              "  @keyframes spin {\n",
              "    0% {\n",
              "      border-color: transparent;\n",
              "      border-bottom-color: var(--fill-color);\n",
              "      border-left-color: var(--fill-color);\n",
              "    }\n",
              "    20% {\n",
              "      border-color: transparent;\n",
              "      border-left-color: var(--fill-color);\n",
              "      border-top-color: var(--fill-color);\n",
              "    }\n",
              "    30% {\n",
              "      border-color: transparent;\n",
              "      border-left-color: var(--fill-color);\n",
              "      border-top-color: var(--fill-color);\n",
              "      border-right-color: var(--fill-color);\n",
              "    }\n",
              "    40% {\n",
              "      border-color: transparent;\n",
              "      border-right-color: var(--fill-color);\n",
              "      border-top-color: var(--fill-color);\n",
              "    }\n",
              "    60% {\n",
              "      border-color: transparent;\n",
              "      border-right-color: var(--fill-color);\n",
              "    }\n",
              "    80% {\n",
              "      border-color: transparent;\n",
              "      border-right-color: var(--fill-color);\n",
              "      border-bottom-color: var(--fill-color);\n",
              "    }\n",
              "    90% {\n",
              "      border-color: transparent;\n",
              "      border-bottom-color: var(--fill-color);\n",
              "    }\n",
              "  }\n",
              "</style>\n",
              "\n",
              "  <script>\n",
              "    async function quickchart(key) {\n",
              "      const quickchartButtonEl =\n",
              "        document.querySelector('#' + key + ' button');\n",
              "      quickchartButtonEl.disabled = true;  // To prevent multiple clicks.\n",
              "      quickchartButtonEl.classList.add('colab-df-spinner');\n",
              "      try {\n",
              "        const charts = await google.colab.kernel.invokeFunction(\n",
              "            'suggestCharts', [key], {});\n",
              "      } catch (error) {\n",
              "        console.error('Error during call to suggestCharts:', error);\n",
              "      }\n",
              "      quickchartButtonEl.classList.remove('colab-df-spinner');\n",
              "      quickchartButtonEl.classList.add('colab-df-quickchart-complete');\n",
              "    }\n",
              "    (() => {\n",
              "      let quickchartButtonEl =\n",
              "        document.querySelector('#df-7b1d6511-9457-4204-9480-7d2b0124c6f7 button');\n",
              "      quickchartButtonEl.style.display =\n",
              "        google.colab.kernel.accessAllowed ? 'block' : 'none';\n",
              "    })();\n",
              "  </script>\n",
              "</div>\n",
              "\n",
              "    </div>\n",
              "  </div>\n"
            ],
            "application/vnd.google.colaboratory.intrinsic+json": {
              "type": "dataframe",
              "summary": "{\n  \"name\": \"df[['Date', 'Sleep Start Time', 'Sleep Start', 'Sleep End Time', 'Sleep End']]\",\n  \"rows\": 5,\n  \"fields\": [\n    {\n      \"column\": \"Date\",\n      \"properties\": {\n        \"dtype\": \"date\",\n        \"min\": \"1970-01-01 00:00:00.000000052\",\n        \"max\": \"1970-01-01 00:00:00.000000308\",\n        \"num_unique_values\": 5,\n        \"samples\": [\n          \"1970-01-01 00:00:00.000000308\",\n          \"1970-01-01 00:00:00.000000053\",\n          \"1970-01-01 00:00:00.000000243\"\n        ],\n        \"semantic_type\": \"\",\n        \"description\": \"\"\n      }\n    },\n    {\n      \"column\": \"Sleep Start Time\",\n      \"properties\": {\n        \"dtype\": \"object\",\n        \"num_unique_values\": 3,\n        \"samples\": [\n          \"23:00\",\n          \"21:00\",\n          \"22:00\"\n        ],\n        \"semantic_type\": \"\",\n        \"description\": \"\"\n      }\n    },\n    {\n      \"column\": \"Sleep Start\",\n      \"properties\": {\n        \"dtype\": \"date\",\n        \"min\": \"1970-01-01 21:00:00\",\n        \"max\": \"1970-01-01 23:00:00\",\n        \"num_unique_values\": 3,\n        \"samples\": [\n          \"1970-01-01 23:00:00\",\n          \"1970-01-01 21:00:00\",\n          \"1970-01-01 22:00:00\"\n        ],\n        \"semantic_type\": \"\",\n        \"description\": \"\"\n      }\n    },\n    {\n      \"column\": \"Sleep End Time\",\n      \"properties\": {\n        \"dtype\": \"object\",\n        \"num_unique_values\": 4,\n        \"samples\": [\n          \"02:00\",\n          \"06:00\",\n          \"04:00\"\n        ],\n        \"semantic_type\": \"\",\n        \"description\": \"\"\n      }\n    },\n    {\n      \"column\": \"Sleep End\",\n      \"properties\": {\n        \"dtype\": \"date\",\n        \"min\": \"1970-01-02 02:00:00\",\n        \"max\": \"1970-01-02 06:00:00\",\n        \"num_unique_values\": 4,\n        \"samples\": [\n          \"1970-01-02 02:00:00\",\n          \"1970-01-02 06:00:00\",\n          \"1970-01-02 04:00:00\"\n        ],\n        \"semantic_type\": \"\",\n        \"description\": \"\"\n      }\n    }\n  ]\n}"
            }
          },
          "metadata": {},
          "execution_count": 59
        }
      ]
    },
    {
      "cell_type": "markdown",
      "source": [
        "Yoshni butun son ko'rinishida ko'rish.\n",
        "`32.5 ni butun qismini olish 32`"
      ],
      "metadata": {
        "id": "m204nnlFPvSR"
      }
    },
    {
      "cell_type": "code",
      "source": [
        "df['Age'] = df['Age'].astype(int)"
      ],
      "metadata": {
        "id": "q9yGst0LPcCZ"
      },
      "execution_count": null,
      "outputs": []
    },
    {
      "cell_type": "code",
      "source": [
        "plt.figure(figsize = (14, 6))\n",
        "\n",
        "plt.subplot(1, 2, 1)\n",
        "sns.histplot(df['Total Sleep Hours'], bins=20, kde=True, color = 'skyblue')\n",
        "plt.title('Umumiy uyqu soatlarining taqsimlanishi')\n",
        "plt.xlabel('Umumiy uyqu soatlari')\n",
        "\n",
        "plt.subplot(1, 2, 2)\n",
        "sns.histplot(df['Sleep Quality'], bins=20, kde=True, color = 'salmon')\n",
        "plt.title('Uyqu sifatini taqsimlash')\n",
        "plt.xlabel('Uyqu sifati (1-10)')\n",
        "\n",
        "plt.tight_layout()\n",
        "plt.show()"
      ],
      "metadata": {
        "colab": {
          "base_uri": "https://localhost:8080/",
          "height": 607
        },
        "id": "OVPfHRVsP-IC",
        "outputId": "2eff4e9f-9b57-464f-8228-abb60a328c00"
      },
      "execution_count": null,
      "outputs": [
        {
          "output_type": "display_data",
          "data": {
            "text/plain": [
              "<Figure size 1400x600 with 2 Axes>"
            ],
            "image/png": "[encoded data removed]"
          },
          "metadata": {}
        }
      ]
    },
    {
      "cell_type": "markdown",
      "source": [
        "`sns.histplot()`:\n",
        "\n",
        "- `bins=20` - Ma'lumotlarni 20 ta guruhga bo'lib chiqadi.\n",
        "\n",
        "- `kde=True` - Silliq egri chiziqni (ehtimollik zichligi) qo'shadi.\n",
        "\n",
        "- `color='skyblue'` - Grafik rangi.\n",
        "\n",
        "Uyqu soatlari qanday taqsimlanganligini ko'rsatadi (masalan, ko'pchilik 6-8 soat oralig'ida uxlaydi)."
      ],
      "metadata": {
        "id": "sZfXU-NpQ--p"
      }
    },
    {
      "cell_type": "code",
      "source": [
        "plt.figure(figsize = (14, 6))\n",
        "\n",
        "plt.subplot(1, 2, 1)\n",
        "sns.histplot(df['Total Sleep Hours'], bins=20, kde=True, color = 'skyblue')\n",
        "plt.title('Umumiy uyqu soatlarining taqsimlanishi')\n",
        "plt.xlabel('Umumiy uyqu soatlari')"
      ],
      "metadata": {
        "colab": {
          "base_uri": "https://localhost:8080/",
          "height": 581
        },
        "id": "xDSbj7TDQ6Xa",
        "outputId": "23610882-0fc0-4ffd-8813-86990d52dbc6"
      },
      "execution_count": null,
      "outputs": [
        {
          "output_type": "execute_result",
          "data": {
            "text/plain": [
              "Text(0.5, 0, 'Umumiy uyqu soatlari')"
            ]
          },
          "metadata": {},
          "execution_count": 62
        },
        {
          "output_type": "display_data",
          "data": {
            "text/plain": [
              "<Figure size 1400x600 with 1 Axes>"
            ],
            "image/png": "[encoded data removed]"
          },
          "metadata": {}
        }
      ]
    },
    {
      "cell_type": "markdown",
      "source": [
        "- `Sleep Quality` ustunini tahlil qiladi (1-10 shkala).\n",
        "\n",
        "- `color='salmon'` - Grafik rangi.\n",
        "\n",
        "Uyqu sifatining eng ko'p uchraydigan ballarini ko'rsatadi (masalan, 7-8 ball)."
      ],
      "metadata": {
        "id": "DChc9bTqRffY"
      }
    },
    {
      "cell_type": "code",
      "source": [
        "plt.figure(figsize = (14, 6))\n",
        "\n",
        "plt.subplot(1, 2, 2)\n",
        "sns.histplot(df['Sleep Quality'], bins=20, kde=True, color = 'salmon')\n",
        "plt.title('Uyqu sifatini taqsimlash')\n",
        "plt.xlabel('Uyqu sifati (1-10)')"
      ],
      "metadata": {
        "colab": {
          "base_uri": "https://localhost:8080/",
          "height": 581
        },
        "id": "eUwsR4wVRU35",
        "outputId": "653ce2e8-37a8-4823-f46c-4a2463c21028"
      },
      "execution_count": null,
      "outputs": [
        {
          "output_type": "execute_result",
          "data": {
            "text/plain": [
              "Text(0.5, 0, 'Uyqu sifati (1-10)')"
            ]
          },
          "metadata": {},
          "execution_count": 63
        },
        {
          "output_type": "display_data",
          "data": {
            "text/plain": [
              "<Figure size 1400x600 with 1 Axes>"
            ],
            "image/png": "[encoded data removed]"
          },
          "metadata": {}
        }
      ]
    },
    {
      "cell_type": "markdown",
      "source": [
        "**Umumiy foydasi**\n",
        "\n",
        "- **Tahlil:** Uyquning miqdori va sifatini tezkor solishtirish.\n",
        "\n",
        "- **Anomaliyalar:** Agar taqsimot g'alati bo'lsa (masalan, ikki tepali), ma'lumotlarda xatolik bor degan ma'noda.\n",
        "\n",
        "- **Hisobot:** Vizual ma'lumotlar kurs ishiga professional ko'rinish beradi."
      ],
      "metadata": {
        "id": "JMQx6xTQRzOn"
      }
    },
    {
      "cell_type": "markdown",
      "source": [
        "yosh **(`Age`) va uyqu sifatining (`Sleep Quality`) o'rtasidagi bog'liqlikni** jins (`Gender`) bo'yicha ajratib ko'rsatuvchi scatter plot (tarqoq diagramma) yaratadi"
      ],
      "metadata": {
        "id": "dastcf_tSTeS"
      }
    },
    {
      "cell_type": "markdown",
      "source": [
        "`hue='Gender'`: Nuqtalarni jinsga qarab ranglaydi (masalan, ayollar - qizil, erkaklar - ko'k).\n",
        "\n",
        "`palette='plasma'`: Ranglar gradienti (boshqa variantlar: `viridis`, `magma`, `coolwarm`)."
      ],
      "metadata": {
        "id": "ELcH6rYATAcS"
      }
    },
    {
      "cell_type": "markdown",
      "source": [
        "Yosh va uyqu sifati o'rtasidagi bog'liqlik.\n",
        "\n",
        "Jinslar o'rtasidagi farq.\n",
        "\n",
        "Qaysi yosh guruhida uyqu muammolari ko'proq uchraydi."
      ],
      "metadata": {
        "id": "SVw6wamnTkLv"
      }
    },
    {
      "cell_type": "code",
      "source": [
        "plt.figure(figsize=(12, 6))\n",
        "sns.scatterplot(\n",
        "    x='Age',              # X o'qi: Yosh\n",
        "    y='Sleep Quality',    # Y o'qi: Uyqu sifati (1-10)\n",
        "    data=df,              # Ma'lumotlar manbai\n",
        "    hue='Gender',         # Rang ajratish uchun ustun (jins)\n",
        "    palette='plasma'      # Ranglar paletasi\n",
        ")\n",
        "plt.title('Uyqu sifati va yosh')\n",
        "plt.xlabel('Yosh')\n",
        "plt.ylabel('Uyqu sifati')\n",
        "plt.show()"
      ],
      "metadata": {
        "colab": {
          "base_uri": "https://localhost:8080/",
          "height": 564
        },
        "id": "7IIiC0BlSLpA",
        "outputId": "dc0ede15-e6f0-45a5-9c12-94991ab3a18a"
      },
      "execution_count": null,
      "outputs": [
        {
          "output_type": "display_data",
          "data": {
            "text/plain": [
              "<Figure size 1200x600 with 1 Axes>"
            ],
            "image/png": "[encoded data removed]"
          },
          "metadata": {}
        }
      ]
    },
    {
      "cell_type": "markdown",
      "source": [
        "**Boxplot nima ko'rsatadi?**\n",
        "\n",
        "- **Qutining pastki chizig'i**: 25% kvantil (Q1)\n",
        "\n",
        "- **Qutidagi chiziq**: Median (50% kvantil)\n",
        "\n",
        "- **Qutining yuqori chizig'i**: 75% kvantil (Q3)\n",
        "\n",
        "- **Whiskerlar**: Min/Max qiymatlar (odatda Q1-1.5IQR va Q3+1.5IQR oralig'ida)\n",
        "\n",
        "- **Nuqtalar**: Outlierlar (g'alati qiymatlar)"
      ],
      "metadata": {
        "id": "LKaMqvCVT3In"
      }
    },
    {
      "cell_type": "markdown",
      "source": [
        "**Tasavvur qiling, natija quyidagicha bo'ladi:**\n",
        "\n",
        " **Ayollar** (`Female`):\n",
        "\n",
        "- **Median**: 7.5 ball\n",
        "\n",
        "- **25-75% oralig'i**: 6.8-8.2 ball\n",
        "\n",
        "**Erkaklar** (`Male`):\n",
        "\n",
        "- **Median**: 6.5 ball\n",
        "\n",
        "- **25-75% oralig'i**: 5.5-7.3 ball\n",
        "\n",
        "**Outlierlar**: Ba'zi erkaklarda 3 ball kabi past baholar (uyqu muammosi bo'lganlar)"
      ],
      "metadata": {
        "id": "XCZ5jfbrUOMm"
      }
    },
    {
      "cell_type": "markdown",
      "source": [
        "*Bu vizualizatsiya kurs ishingizda quyidagilarni ko'rsatish uchun foydali*:\n",
        "\n",
        "Qaysi jins vakillari uyqu sifatini yaxshiroq baholaydi\n",
        "\n",
        "Uyqu sifati o'rtasidagi farqning statistik ahamiyati\n",
        "\n",
        "Muammoli holatlar (past ballar)"
      ],
      "metadata": {
        "id": "qiEIuucaUulE"
      }
    },
    {
      "cell_type": "code",
      "source": [
        "plt.figure(figsize=(10,6))\n",
        "sns.boxplot(x='Gender', y='Sleep Quality', data=df, palette='Set2')\n",
        "plt.title('Jins boyicha uyqu sifati')\n",
        "plt.xlabel('Jins')\n",
        "plt.ylabel('Uyqu sifati')\n",
        "plt.show()"
      ],
      "metadata": {
        "colab": {
          "base_uri": "https://localhost:8080/",
          "height": 651
        },
        "id": "S4b9Bv4ITtXC",
        "outputId": "df7edf17-4d55-41be-a5af-8bc1d3e87d69"
      },
      "execution_count": null,
      "outputs": [
        {
          "output_type": "stream",
          "name": "stderr",
          "text": [
            "<ipython-input-65-3776feb433bd>:2: FutureWarning: \n",
            "\n",
            "Passing `palette` without assigning `hue` is deprecated and will be removed in v0.14.0. Assign the `x` variable to `hue` and set `legend=False` for the same effect.\n",
            "\n",
            "  sns.boxplot(x='Gender', y='Sleep Quality', data=df, palette='Set2')\n"
          ]
        },
        {
          "output_type": "display_data",
          "data": {
            "text/plain": [
              "<Figure size 1000x600 with 1 Axes>"
            ],
            "image/png": "[encoded data removed]"
          },
          "metadata": {}
        }
      ]
    },
    {
      "cell_type": "markdown",
      "source": [
        "**Korrelyatsiya matritsasini hisoblash**"
      ],
      "metadata": {
        "id": "_paPhqTaVRCQ"
      }
    },
    {
      "cell_type": "markdown",
      "source": [
        "**num_cols**: Tahlil qilinadigan raqamli ustunlar ro'yxati\n",
        "\n",
        "**corr()**: Har bir ustun juftligi o'rtasidagi Pearson korrelyatsiya koeffitsiyentini hisoblaydi (-1 dan 1 gacha)"
      ],
      "metadata": {
        "id": "C7HARStRVZAp"
      }
    },
    {
      "cell_type": "code",
      "source": [
        "num_cols = ['Age', 'Total Sleep Hours', 'Sleep Quality', 'Exercise (mins/day)', 'Caffeine Intake (mg)']\n",
        "corr_matrix = df[num_cols].corr()"
      ],
      "metadata": {
        "id": "3hZ61liyVIWa"
      },
      "execution_count": null,
      "outputs": []
    },
    {
      "cell_type": "markdown",
      "source": [
        "**Heatmap yaratish**"
      ],
      "metadata": {
        "id": "2E0hQ1GvVjMy"
      }
    },
    {
      "cell_type": "markdown",
      "source": [
        "**Ushbu vizualizatsiya quyidagilarni ko'rsatish uchun ishlatilishi mumkin:**\n",
        "\n",
        "Qaysi omillar uyqu sifatiga kuchli ta'sir ko'rsatadi\n",
        "\n",
        "Qanday faktorlar bir-biriga bog'liq\n",
        "\n",
        "Kelajakdagi tadqiqotlar uchun asos (masalan, kofein ta'sirini chuqurroq o'rganish)"
      ],
      "metadata": {
        "id": "HuXZ2ii0VlHO"
      }
    },
    {
      "cell_type": "code",
      "source": [
        "plt.figure(figsize=(8,6))\n",
        "sns.heatmap(\n",
        "    corr_matrix,        # Korrelyatsiya matritsasi\n",
        "    annot=True,         # Kataklarda qiymatlarni ko'rsatish\n",
        "    cmap='PiYG',        # Pushti-yashil ranglar paletasi\n",
        "    fmt=\".2f\",          # Qiymatlarni 2 xona aniqlikda ko'rsatish\n",
        "    vmin=-1, vmax=1,    # Kolorit chegaralari\n",
        "    linewidths=0.5      # Kataklar orasidagi chiziq qalinligi\n",
        ")\n",
        "plt.title('Oʻzgaruvchilar orasidagi korrelyatsiya')\n",
        "plt.show()"
      ],
      "metadata": {
        "colab": {
          "base_uri": "https://localhost:8080/",
          "height": 674
        },
        "id": "rUpLwI7OVgfC",
        "outputId": "89af6a00-8e2a-42d0-da52-186476a87e06"
      },
      "execution_count": null,
      "outputs": [
        {
          "output_type": "display_data",
          "data": {
            "text/plain": [
              "<Figure size 800x600 with 2 Axes>"
            ],
            "image/png": "[encoded data removed]"
          },
          "metadata": {}
        }
      ]
    },
    {
      "cell_type": "markdown",
      "source": [
        "**Chap grafik: Mashq va uyqu sifat**\n",
        "\n",
        "- **Trend**: Ko'pincha mashq vaqti ko'paygan sari uyqu sifatining yaxshilanishi kuzatiladi\n",
        "\n",
        "**O'ng grafik: Kofein va uyqu sifat**\n",
        "\n",
        "- **Trend**: Kofein miqdori oshgan sari uyqu sifatining pasayishi mumkin"
      ],
      "metadata": {
        "id": "tIvZDO91WHQi"
      }
    },
    {
      "cell_type": "markdown",
      "source": [
        "Tasavvur qiling, natija quyidagicha bo'ladi:\n",
        "\n",
        "**Chap grafik (Mashq)**:\n",
        "\n",
        "- Musbat trend chizig'i (mashq vaqti oshgani sari uyqu sifat 5→8 ballgacha oshishi)\n",
        "\n",
        "- 60-90 minut mashq optimal ko'rinadi\n",
        "\n",
        "**O'ng grafik (Kofein)**:\n",
        "\n",
        "- Manfiy trend chizig'i (300mg+ kofeinda uyqu sifat 4 ballgacha tushishi)\n",
        "\n",
        "- 200mg dan keyin keskin pasayish"
      ],
      "metadata": {
        "id": "FVnAE3s1Wmfl"
      }
    },
    {
      "cell_type": "markdown",
      "source": [
        "Ushbu vizualizatsiya quyidagilarni ko'rsatish uchun ishlatilishi mumkin:\n",
        "\n",
        "Jismoniy faollikning uyqu sifatiga ijobiy ta'siri\n",
        "\n",
        "Kofeinning salbiy ta'siri\n",
        "\n",
        "Optimal mashq va kofein miqdori (masalan, 60 minut mashq + 100mg dan kam kofein)"
      ],
      "metadata": {
        "id": "XTAunIQRWyPx"
      }
    },
    {
      "cell_type": "code",
      "source": [
        "plt.figure(figsize=(14,6))\n",
        "\n",
        "plt.subplot(1,2,1)  # 1-qator, 2-ustun, 1-grafik\n",
        "sns.scatterplot(\n",
        "    data=df,\n",
        "    x='Exercise (mins/day)',  # X o'qi: Kunlik mashq vaqti\n",
        "    y='Sleep Quality',        # Y o'qi: Uyqu sifati\n",
        "    color='mediumseagreen'    # Yashil rang\n",
        ")\n",
        "plt.title('Mashq va Uyqu Sifati')\n",
        "plt.xlabel('Kunlik mashq (minut)')\n",
        "\n",
        "plt.subplot(1,2,2)  # 1-qator, 2-ustun, 2-grafik\n",
        "sns.scatterplot(\n",
        "    data=df,\n",
        "    x='Caffeine Intake (mg)',  # X o'qi: Kofein miqdori\n",
        "    y='Sleep Quality',         # Y o'qi: Uyqu sifati\n",
        "    color='indianred'          # Qizil rang\n",
        ")\n",
        "plt.title('Kofein va Uyqu Sifati')\n",
        "plt.xlabel('Kofein iste\\'moli (mg)')\n",
        "\n",
        "plt.tight_layout()\n",
        "plt.show()"
      ],
      "metadata": {
        "colab": {
          "base_uri": "https://localhost:8080/",
          "height": 607
        },
        "id": "D6Ud0QBAV-HL",
        "outputId": "f99e5329-9e99-4292-bb93-9633c59e2489"
      },
      "execution_count": null,
      "outputs": [
        {
          "output_type": "display_data",
          "data": {
            "text/plain": [
              "<Figure size 1400x600 with 2 Axes>"
            ],
            "image/png": "[encoded data removed]"
          },
          "metadata": {}
        }
      ]
    },
    {
      "cell_type": "markdown",
      "source": [
        "**Chap grafik: Uyqu boshlanish vaqtlari**\n",
        "- **Qanday ishlaydi**: Har bir soatda nechta odam uxlashni boshlaganini ko'rsatadi\n",
        "\n",
        "- **Odatiy natija**: Ko'pchilik 22:00-00:00 oralig'ida uxlashni boshlaydi\n",
        "\n",
        "**O'ng grafik: Uyqu tugash vaqtlari**\n",
        "- **Qanday ishlaydi**: Har bir soatda nechta odam uyg'onganini ko'rsatadi\n",
        "\n",
        "- **Odatiy natija**: Eng ko'p uyg'onishlar 06:00-08:00 oralig'ida"
      ],
      "metadata": {
        "id": "howbnc0FW96-"
      }
    },
    {
      "cell_type": "markdown",
      "source": [
        "Tasavvur qiling, natija quyidagicha bo'ladi:\n",
        "\n",
        "**Chap grafik (Boshlanish):**\n",
        "\n",
        "- 22:00 - Eng ko'p uyqu boshlanishlari (30% odamlar)\n",
        "\n",
        "- 18:00-21:00 - Kam sonli erta uxlashlar\n",
        "\n",
        "- 01:00-03:00 - Kechani qoldirganlar\n",
        "\n",
        "**O'ng grafik (Tugash):**\n",
        "\n",
        "- 07:00 - Eng ko'p uyg'onishlar (40%)\n",
        "\n",
        "- 05:00-06:00 - Ertalabki uyg'onishlar\n",
        "\n",
        "- 09:00+ - Kech qo'zg'alganlar"
      ],
      "metadata": {
        "id": "Y39jROwcXYFm"
      }
    },
    {
      "cell_type": "markdown",
      "source": [
        "Ushbu vizualizatsiya quyidagilarni ko'rsatish uchun ishlatilishi mumkin:\n",
        "\n",
        "Tadqiqot ishtirokchilarining uyqulash odatlari\n",
        "\n",
        "Eng ko'p uchraydigan uyqu vaqtlari\n",
        "\n",
        "\"Kechani qoldirganlar\" va \"erta uyg'onuvchilar\" guruhlari"
      ],
      "metadata": {
        "id": "o8o7Z4OEXkGP"
      }
    },
    {
      "cell_type": "code",
      "source": [
        "plt.figure(figsize=(14,6))\n",
        "\n",
        "plt.subplot(1,2,1)\n",
        "sns.histplot(\n",
        "    df['Sleep Start'].dt.hour,  # Soatlarni ajratib olish (0-23)\n",
        "    bins=24,                    # 24 ta ustun (har soat uchun)\n",
        "    color='orchid',             # Binafsha rang\n",
        "    kde=False                   # Silliq egri chiziqsiz\n",
        ")\n",
        "plt.title('Uyqu Boshlanish Vaqtlari Taqsimoti')\n",
        "plt.xlabel('Kunning Soati')\n",
        "\n",
        "plt.subplot(1,2,2)\n",
        "sns.histplot(\n",
        "    df['Sleep End'].dt.hour,    # Soatlarni ajratib olish\n",
        "    bins=24,\n",
        "    color='teal',               # Moviy-yashil rang\n",
        "    kde=False\n",
        ")\n",
        "plt.title('Uyqu Tugash Vaqtlari Taqsimoti')\n",
        "plt.xlabel('Kunning Soati')\n",
        "\n",
        "plt.tight_layout()\n",
        "plt.show()"
      ],
      "metadata": {
        "colab": {
          "base_uri": "https://localhost:8080/",
          "height": 607
        },
        "id": "c63w3Z0lW5Qr",
        "outputId": "54b4e39a-49a4-4ea5-d21b-b1ce4471ad83"
      },
      "execution_count": null,
      "outputs": [
        {
          "output_type": "display_data",
          "data": {
            "text/plain": [
              "<Figure size 1400x600 with 2 Axes>"
            ],
            "image/png": "[encoded data removed]"
          },
          "metadata": {}
        }
      ]
    },
    {
      "cell_type": "markdown",
      "source": [
        "**hafta kunlari bo'yicha uyqu sifatining o'zgarishini** qutichali diagramma (boxplot) orqali tahlil qiladi"
      ],
      "metadata": {
        "id": "Wq-hOJ9dX1e6"
      }
    },
    {
      "cell_type": "markdown",
      "source": [
        "**Ushbu vizualizatsiya quyidagilarni ko'rsatish uchun ishlatilishi mumkin:**\n",
        "\n",
        "- Dam olish kunlarida uyqu sifatining yaxshilanishi\n",
        "\n",
        "- Hafta oxirida \"kechki uyqusizlik\" effekti\n",
        "\n",
        "- Eng stressli ish kunlari (masalan, dushanba)\n",
        "\n",
        "**Diqqatga sazovor joylar:**\n",
        "\n",
        "- Har bir kun uchun median qiymat\n",
        "\n",
        "- Baholarning tarqalishi (qutining balandligi)\n",
        "\n",
        "- Outlierlar (g'alati qiymatlar)"
      ],
      "metadata": {
        "id": "5lrHfNZbZEGY"
      }
    },
    {
      "cell_type": "code",
      "source": [
        "df['DayOfWeek'] = df['Date'].dt.day_name()\n",
        "\n",
        "# Hafta kunlarini o'zbek tiliga o'tkazish\n",
        "weekday_map = {\n",
        "    'Monday': 'Dushanba',\n",
        "    'Tuesday': 'Seshanba',\n",
        "    'Wednesday': 'Chorshanba',\n",
        "    'Thursday': 'Payshanba',\n",
        "    'Friday': 'Juma',\n",
        "    'Saturday': 'Shanba',\n",
        "    'Sunday': 'Yakshanba'\n",
        "}\n",
        "df['HaftaKuni'] = df['DayOfWeek'].map(weekday_map)\n",
        "\n",
        "plt.figure(figsize=(10,6))\n",
        "sns.boxplot(\n",
        "    x='HaftaKuni',\n",
        "    y='Sleep Quality',\n",
        "    data=df,\n",
        "    palette='hsv',\n",
        "    order=['Dushanba', 'Seshanba', 'Chorshanba', 'Payshanba', 'Juma', 'Shanba', 'Yakshanba']\n",
        ")\n",
        "plt.title('Hafta Kunlari Bo\\'yicha Uyqu Sifati')\n",
        "plt.xlabel('Hafta Kuni')\n",
        "plt.ylabel('Uyqu Sifati (1-10)')\n",
        "plt.xticks(rotation=45)\n",
        "plt.show()"
      ],
      "metadata": {
        "colab": {
          "base_uri": "https://localhost:8080/",
          "height": 706
        },
        "id": "zJVEiwFvXvD7",
        "outputId": "d0460929-cfcd-4bae-a4aa-744eaf6921fc"
      },
      "execution_count": null,
      "outputs": [
        {
          "output_type": "stream",
          "name": "stderr",
          "text": [
            "<ipython-input-70-aad10c68e4f9>:16: FutureWarning: \n",
            "\n",
            "Passing `palette` without assigning `hue` is deprecated and will be removed in v0.14.0. Assign the `x` variable to `hue` and set `legend=False` for the same effect.\n",
            "\n",
            "  sns.boxplot(\n"
          ]
        },
        {
          "output_type": "display_data",
          "data": {
            "text/plain": [
              "<Figure size 1000x600 with 1 Axes>"
            ],
            "image/png": "[encoded data removed]"
          },
          "metadata": {}
        }
      ]
    },
    {
      "cell_type": "code",
      "source": [
        "print(\"Ushbu notebook 'Uyqu Sikl va Samaradorlik' ma'lumotlar to'plamiga keng qamrovli tahlil amalga oshirdi.\")\n",
        "print(\"Asosiy kuzatishlar:\")\n",
        "print(\"- Uyqu soatlari va sifatining taqsimoti - potentsial chetga chiqqan qiymatlar (va ehtimol bir necha uyqusizlar) aniqlangan\")\n",
        "print(\"- Turli yosh guruhlari va jinslar bo'yicha uyqu sifatidagi qiziqarli tendentsiyalar\")\n",
        "print(\"- Jismoniy mashq, kofein iste'moli va uyqu sifati o'rtasidagi bog'liqliklar ochib berildi\")\n",
        "print(\"- Uyqulash va uyg'onishning keng tarqalgan vaqtlari, shuningdek hafta kunlarining ta'siri tahlil qilindi\")"
      ],
      "metadata": {
        "colab": {
          "base_uri": "https://localhost:8080/"
        },
        "id": "7cs4Z90yZfuL",
        "outputId": "fb32dcde-83fa-4895-ac1b-157fb4a3ab81"
      },
      "execution_count": null,
      "outputs": [
        {
          "output_type": "stream",
          "name": "stdout",
          "text": [
            "Ushbu notebook 'Uyqu Sikl va Samaradorlik' ma'lumotlar to'plamiga keng qamrovli tahlil amalga oshirdi.\n",
            "Asosiy kuzatishlar:\n",
            "- Uyqu soatlari va sifatining taqsimoti - potentsial chetga chiqqan qiymatlar (va ehtimol bir necha uyqusizlar) aniqlangan\n",
            "- Turli yosh guruhlari va jinslar bo'yicha uyqu sifatidagi qiziqarli tendentsiyalar\n",
            "- Jismoniy mashq, kofein iste'moli va uyqu sifati o'rtasidagi bog'liqliklar ochib berildi\n",
            "- Uyqulash va uyg'onishning keng tarqalgan vaqtlari, shuningdek hafta kunlarining ta'siri tahlil qilindi\n"
          ]
        }
      ]
    },
    {
      "cell_type": "markdown",
      "source": [
        "**EDA** - \"Tadqiqot tahlili\" yoki \"Ma'lumotlarni o'rganish tahlili\" deb tarjima qilinadi\n",
        "\n",
        "**Outliers** - \"Chetga chiqqan qiymatlar\" yoki \"Noaniq qiymatlar\"\n",
        "\n",
        "**Insomniacs** - \"Uyqusizlar\" yoki \"Uyqu muammosi bo'lgan shaxslar\"\n",
        "\n",
        "**Trends** - \"Tendentsiyalar\" yoki \"O'zgarish yo'nalishlari\"\n",
        "\n",
        "**Relationships** - \"Bog'liqliklar\" yoki \"O'zaro munosabatlar\""
      ],
      "metadata": {
        "id": "7d1U4MhjZnPo"
      }
    },
    {
      "cell_type": "code",
      "source": [
        "print(\"\\nQo'shimcha tavsiyalar:\")\n",
        "print(\"- Uyqu sifatini yaxshilash uchun kechqurun kofein iste'molini cheklash\")\n",
        "print(\"- Haftasiga kamida 3-4 marta 30 daqiqalik jismoniy mashqni tavsiya etish\")\n",
        "print(\"- Kechki uyqulash vaqtlarini tartibga solish\")"
      ],
      "metadata": {
        "colab": {
          "base_uri": "https://localhost:8080/"
        },
        "id": "cPSLoccOZtwE",
        "outputId": "53c5c06c-4b68-4b44-d0e1-a71a048a8453"
      },
      "execution_count": null,
      "outputs": [
        {
          "output_type": "stream",
          "name": "stdout",
          "text": [
            "\n",
            "Qo'shimcha tavsiyalar:\n",
            "- Uyqu sifatini yaxshilash uchun kechqurun kofein iste'molini cheklash\n",
            "- Haftasiga kamida 3-4 marta 30 daqiqalik jismoniy mashqni tavsiya etish\n",
            "- Kechki uyqulash vaqtlarini tartibga solish\n"
          ]
        }
      ]
    },
    {
      "cell_type": "markdown",
      "source": [
        "## Bir nechta oddiy modellarni ham ko'rib o'tamiz"
      ],
      "metadata": {
        "id": "bOGczhCAacMP"
      }
    },
    {
      "cell_type": "markdown",
      "source": [
        "Ma'lumotlarni Train va Testga Ajratish"
      ],
      "metadata": {
        "id": "0o8a6LxPLhtQ"
      }
    },
    {
      "cell_type": "code",
      "source": [
        "# X (features) va y (target) ni belgilash\n",
        "X = df[['Total Sleep Hours', 'Exercise (mins/day)', 'Caffeine Intake (mg)']]\n",
        "y = df['Productivity Score']\n",
        "\n",
        "# 80% train, 20% test\n",
        "X_train, X_test, y_train, y_test = train_test_split(X, y, test_size=0.2, random_state=42)"
      ],
      "metadata": {
        "id": "podF309pLDrp"
      },
      "execution_count": null,
      "outputs": []
    },
    {
      "cell_type": "markdown",
      "source": [
        "`X` → Bashorat qilish uchun kerakli ustunlar (`Total Sleep Hours`, `Exercise`, `Caffeine Intake`).\n",
        "\n",
        "`y` → Bashorat qilinadigan natija (Productivity Score).\n",
        "\n",
        "`train_test_split` → Ma'lumotlarni 80% train va 20% testga bo'ldik."
      ],
      "metadata": {
        "id": "nNg1WPRMLmK6"
      }
    },
    {
      "cell_type": "code",
      "source": [
        "from sklearn.linear_model import LinearRegression\n",
        "\n",
        "# Modelni yaratish va o'qitish\n",
        "lr = LinearRegression()\n",
        "lr.fit(X_train, y_train)\n",
        "\n",
        "# Bashorat qilish\n",
        "lr_pred = lr.predict(X_test)\n",
        "\n",
        "# MSE (Mean Squared Error) bilan baholash\n",
        "lr_mse = mean_squared_error(y_test, lr_pred)\n",
        "print(f\"\\nChiziqli Regressiya MSE: {lr_mse:.2f}\")"
      ],
      "metadata": {
        "colab": {
          "base_uri": "https://localhost:8080/"
        },
        "id": "Pg_feX7bLvRU",
        "outputId": "25849420-7e4e-4f3f-a7a9-ba6b858e34e4"
      },
      "execution_count": null,
      "outputs": [
        {
          "output_type": "stream",
          "name": "stdout",
          "text": [
            "\n",
            "Chiziqli Regressiya MSE: 8.08\n"
          ]
        }
      ]
    },
    {
      "cell_type": "code",
      "source": [
        "from sklearn.tree import DecisionTreeRegressor\n",
        "\n",
        "# Modelni yaratish va o'qitish\n",
        "tree = DecisionTreeRegressor(max_depth=3)  # 3 qavatli daraxt\n",
        "tree.fit(X_train, y_train)\n",
        "\n",
        "# Bashorat qilish\n",
        "tree_pred = tree.predict(X_test)\n",
        "\n",
        "# MSE bilan baholash\n",
        "tree_mse = mean_squared_error(y_test, tree_pred)\n",
        "print(f\"Qaror Daraxti MSE: {tree_mse:.2f}\")\n",
        "\n",
        "# Qaysi omillar muhimligini ko'rish\n",
        "print(\"\\nFeature Importance (Qaror Daraxti):\")\n",
        "for name, importance in zip(X.columns, tree.feature_importances_):\n",
        "    print(f\"{name}: {importance:.2f}\")"
      ],
      "metadata": {
        "colab": {
          "base_uri": "https://localhost:8080/"
        },
        "id": "_inhZ4t4L2Cz",
        "outputId": "4dbecf67-d543-4740-a572-073f73fffd45"
      },
      "execution_count": null,
      "outputs": [
        {
          "output_type": "stream",
          "name": "stdout",
          "text": [
            "Qaror Daraxti MSE: 8.25\n",
            "\n",
            "Feature Importance (Qaror Daraxti):\n",
            "Total Sleep Hours: 0.53\n",
            "Exercise (mins/day): 0.22\n",
            "Caffeine Intake (mg): 0.26\n"
          ]
        }
      ]
    },
    {
      "cell_type": "code",
      "source": [
        "from sklearn.neighbors import KNeighborsRegressor\n",
        "\n",
        "# Modelni yaratish va o'qitish\n",
        "knn = KNeighborsRegressor(n_neighbors=5)  # 5 ta eng yaqin qo'shni\n",
        "knn.fit(X_train, y_train)\n",
        "\n",
        "# Bashorat qilish\n",
        "knn_pred = knn.predict(X_test)\n",
        "\n",
        "# MSE bilan baholash\n",
        "knn_mse = mean_squared_error(y_test, knn_pred)\n",
        "print(f\"KNN MSE: {knn_mse:.2f}\")"
      ],
      "metadata": {
        "colab": {
          "base_uri": "https://localhost:8080/"
        },
        "id": "ccwtijwuL6JU",
        "outputId": "bf8c4f31-2057-49a1-9453-32299ad94666"
      },
      "execution_count": null,
      "outputs": [
        {
          "output_type": "stream",
          "name": "stdout",
          "text": [
            "KNN MSE: 9.50\n"
          ]
        }
      ]
    },
    {
      "cell_type": "code",
      "source": [
        "# Natijalarni jadval ko'rinishida chiqarish\n",
        "results = pd.DataFrame({\n",
        "    'Model': ['Chiziqli Regressiya', 'Qaror Daraxti', 'KNN'],\n",
        "    'MSE': [lr_mse, tree_mse, knn_mse]\n",
        "})\n",
        "\n",
        "print(\"\\nModellar natijalari (MSE kamroq → yaxshiroq):\")\n",
        "print(results.sort_values('MSE'))"
      ],
      "metadata": {
        "colab": {
          "base_uri": "https://localhost:8080/"
        },
        "id": "l0h9rAKvMC6x",
        "outputId": "674dd6ab-5383-47cd-e2a1-22c9ead3378d"
      },
      "execution_count": null,
      "outputs": [
        {
          "output_type": "stream",
          "name": "stdout",
          "text": [
            "\n",
            "Modellar natijalari (MSE kamroq → yaxshiroq):\n",
            "                 Model       MSE\n",
            "0  Chiziqli Regressiya  8.076646\n",
            "1        Qaror Daraxti  8.249706\n",
            "2                  KNN  9.504400\n"
          ]
        }
      ]
    }
  ]
}