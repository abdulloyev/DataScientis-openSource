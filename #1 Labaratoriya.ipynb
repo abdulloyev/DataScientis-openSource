{
  "nbformat": 4,
  "nbformat_minor": 0,
  "metadata": {
    "colab": {
      "provenance": [],
      "collapsed_sections": [
        "ovzuHm36xY-u",
        "D_wepes7yEsG",
        "LyMuzGhdzBw1",
        "bl6-7w7A0EUV",
        "QGvg4U571BjV",
        "x1ty_zKZ16X0",
        "w_zNJHM93VOD",
        "JhSq4eHR4IrE",
        "rWY0Kjal4Z1b",
        "k7LmOF1m5B3a",
        "gWLOQuR45t76",
        "LRDVFKrz6cfT",
        "aAPB1MX1TfbE",
        "5WHIAo_DWfGR",
        "I0WYuMSAvBov",
        "Ja3RtNIuxjfI",
        "qbQWCeSiy-Ix",
        "vgs0QepD34Gm",
        "yJYibJrk4Dxo",
        "oa1dnPWX5lGP",
        "Xom5bYMJ5-HQ",
        "T-GAnrg19Nw0",
        "ZwtLCEbT-yV4",
        "rAz3VuW8_mu1",
        "J5BWEzF3B96v"
      ],
      "include_colab_link": true
    },
    "kernelspec": {
      "name": "python3",
      "display_name": "Python 3"
    },
    "language_info": {
      "name": "python"
    }
  },
  "cells": [
    {
      "cell_type": "markdown",
      "metadata": {
        "id": "view-in-github",
        "colab_type": "text"
      },
      "source": [
        "<a href=\"https://colab.research.google.com/github/abdulloyev/DataScientis-openSource/blob/main/%231%20Labaratoriya.ipynb\" target=\"_parent\"><img src=\"https://colab.research.google.com/assets/colab-badge.svg\" alt=\"Open In Colab\"/></a>"
      ]
    },
    {
      "cell_type": "markdown",
      "source": [
        "# **Abdulloyev Ulug'bek -- Labaratoriya N1 `NumPy kutubxonasini`**\n",
        "---"
      ],
      "metadata": {
        "id": "AViXnSoaw_SW"
      }
    },
    {
      "cell_type": "markdown",
      "source": [
        "## **1).** NumPy kutubxonasini o‘rnatish va asosiy massivni yaratish."
      ],
      "metadata": {
        "id": "ovzuHm36xY-u"
      }
    },
    {
      "cell_type": "code",
      "execution_count": 715,
      "metadata": {
        "colab": {
          "base_uri": "https://localhost:8080/"
        },
        "id": "8WIeo_txwrWZ",
        "outputId": "e8f8c120-7f4c-48ec-ba44-c16d51b4f853"
      },
      "outputs": [
        {
          "output_type": "execute_result",
          "data": {
            "text/plain": [
              "numpy.ndarray"
            ]
          },
          "metadata": {},
          "execution_count": 715
        }
      ],
      "source": [
        "import numpy as np\n",
        "list_ = [1, 8, 5, 3, 0]\n",
        "npArray = np.array(list_)\n",
        "\n",
        "type(npArray)"
      ]
    },
    {
      "cell_type": "code",
      "source": [
        "npArray"
      ],
      "metadata": {
        "colab": {
          "base_uri": "https://localhost:8080/"
        },
        "id": "3XRS_pMhyBUW",
        "outputId": "56b1ed46-050a-40f9-c475-83f228a93b93"
      },
      "execution_count": 716,
      "outputs": [
        {
          "output_type": "execute_result",
          "data": {
            "text/plain": [
              "array([1, 8, 5, 3, 0])"
            ]
          },
          "metadata": {},
          "execution_count": 716
        }
      ]
    },
    {
      "cell_type": "markdown",
      "source": [
        "## **2).** 0 dan 20 gacha bo‘lgan juft sonlardan iborat massiv yarating"
      ],
      "metadata": {
        "id": "D_wepes7yEsG"
      }
    },
    {
      "cell_type": "code",
      "source": [
        "npArray = np.arange(2, 20, 2)\n",
        "npArray"
      ],
      "metadata": {
        "colab": {
          "base_uri": "https://localhost:8080/"
        },
        "id": "lCnbpPRPyH8V",
        "outputId": "e501f1d2-acf4-42c0-b4b7-652bb58b3d7d"
      },
      "execution_count": 717,
      "outputs": [
        {
          "output_type": "execute_result",
          "data": {
            "text/plain": [
              "array([ 2,  4,  6,  8, 10, 12, 14, 16, 18])"
            ]
          },
          "metadata": {},
          "execution_count": 717
        }
      ]
    },
    {
      "cell_type": "markdown",
      "source": [
        "## **3).** Ikki o‘lchovli massivlar yaratish va uning shaklini aniqlash."
      ],
      "metadata": {
        "id": "LyMuzGhdzBw1"
      }
    },
    {
      "cell_type": "code",
      "source": [
        "npArray = np.array([[2, 7, 4], [8, 1, 6]])\n",
        "npArray.ndim"
      ],
      "metadata": {
        "colab": {
          "base_uri": "https://localhost:8080/"
        },
        "id": "-j-yXkVSy_UF",
        "outputId": "af266a1e-bb7d-4108-ab83-37669a00b3d4"
      },
      "execution_count": 718,
      "outputs": [
        {
          "output_type": "execute_result",
          "data": {
            "text/plain": [
              "2"
            ]
          },
          "metadata": {},
          "execution_count": 718
        }
      ]
    },
    {
      "cell_type": "markdown",
      "source": [
        "## **4).** np.random.randint() funksiyasidan foydalanib, 1 dan 100 gacha bo‘lgan tasodifiy butun sonlardan iborat 2D massiv yarating."
      ],
      "metadata": {
        "id": "bl6-7w7A0EUV"
      }
    },
    {
      "cell_type": "code",
      "source": [
        "npArray = np.random.randint(1, 100, size=(3, 2))\n",
        "npArray"
      ],
      "metadata": {
        "colab": {
          "base_uri": "https://localhost:8080/"
        },
        "id": "6LThCHqR0UUk",
        "outputId": "f9b437f8-ad60-4a90-f581-0b81e38433f2"
      },
      "execution_count": 719,
      "outputs": [
        {
          "output_type": "execute_result",
          "data": {
            "text/plain": [
              "array([[11, 20],\n",
              "       [10, 72],\n",
              "       [47, 23]])"
            ]
          },
          "metadata": {},
          "execution_count": 719
        }
      ]
    },
    {
      "cell_type": "markdown",
      "source": [
        "## **5).** Elementar matematik funksiyalarni qo‘llash: sin, cos, log."
      ],
      "metadata": {
        "id": "QGvg4U571BjV"
      }
    },
    {
      "cell_type": "code",
      "source": [
        "sin_arr = np.sin(npArray)\n",
        "sin_arr"
      ],
      "metadata": {
        "colab": {
          "base_uri": "https://localhost:8080/"
        },
        "id": "iEQi8vCN1GO8",
        "outputId": "1d3bbb93-731b-4a54-9dd3-e2caf84045aa"
      },
      "execution_count": 720,
      "outputs": [
        {
          "output_type": "execute_result",
          "data": {
            "text/plain": [
              "array([[-0.99999021,  0.91294525],\n",
              "       [-0.54402111,  0.25382336],\n",
              "       [ 0.12357312, -0.8462204 ]])"
            ]
          },
          "metadata": {},
          "execution_count": 720
        }
      ]
    },
    {
      "cell_type": "code",
      "source": [
        "cos_arr = np.cos(npArray)\n",
        "cos_arr"
      ],
      "metadata": {
        "colab": {
          "base_uri": "https://localhost:8080/"
        },
        "id": "xwNaVY4H1tgk",
        "outputId": "5f3eeea6-6acb-4bdd-ef8d-c44d0cb10f47"
      },
      "execution_count": 721,
      "outputs": [
        {
          "output_type": "execute_result",
          "data": {
            "text/plain": [
              "array([[ 0.0044257 ,  0.40808206],\n",
              "       [-0.83907153, -0.96725059],\n",
              "       [-0.99233547, -0.53283302]])"
            ]
          },
          "metadata": {},
          "execution_count": 721
        }
      ]
    },
    {
      "cell_type": "code",
      "source": [
        "log_arr = np.log(npArray)\n",
        "log_arr"
      ],
      "metadata": {
        "colab": {
          "base_uri": "https://localhost:8080/"
        },
        "id": "AB6jvG3n1vC8",
        "outputId": "5021f8d7-9e24-4731-8954-74851e4eb12c"
      },
      "execution_count": 722,
      "outputs": [
        {
          "output_type": "execute_result",
          "data": {
            "text/plain": [
              "array([[2.39789527, 2.99573227],\n",
              "       [2.30258509, 4.27666612],\n",
              "       [3.8501476 , 3.13549422]])"
            ]
          },
          "metadata": {},
          "execution_count": 722
        }
      ]
    },
    {
      "cell_type": "markdown",
      "source": [
        "## **6).** Massivning bir qismini kesib oling (slicing) va yangi massiv yarating"
      ],
      "metadata": {
        "id": "x1ty_zKZ16X0"
      }
    },
    {
      "cell_type": "code",
      "source": [
        "npArray"
      ],
      "metadata": {
        "colab": {
          "base_uri": "https://localhost:8080/"
        },
        "id": "2Fn2ifEw1-oM",
        "outputId": "ed53715a-8628-485a-987f-9e9ce7703f00"
      },
      "execution_count": 723,
      "outputs": [
        {
          "output_type": "execute_result",
          "data": {
            "text/plain": [
              "array([[11, 20],\n",
              "       [10, 72],\n",
              "       [47, 23]])"
            ]
          },
          "metadata": {},
          "execution_count": 723
        }
      ]
    },
    {
      "cell_type": "code",
      "source": [
        "# 2D keshish\n",
        "slice_arr = npArray[2:]\n",
        "slice_arr"
      ],
      "metadata": {
        "colab": {
          "base_uri": "https://localhost:8080/"
        },
        "id": "Alf0FxTT2C3k",
        "outputId": "2a394722-dd50-4e3d-f726-7125aafd5174"
      },
      "execution_count": 724,
      "outputs": [
        {
          "output_type": "execute_result",
          "data": {
            "text/plain": [
              "array([[47, 23]])"
            ]
          },
          "metadata": {},
          "execution_count": 724
        }
      ]
    },
    {
      "cell_type": "code",
      "source": [
        "# 1D array keshish\n",
        "npArray = np.array([2, 5, 7, 8, 3, 7, 2, 6])\n",
        "slice_arr = npArray[2:5]\n",
        "slice_arr"
      ],
      "metadata": {
        "colab": {
          "base_uri": "https://localhost:8080/"
        },
        "id": "AQlytVYS3BrM",
        "outputId": "1a1a9866-2782-4ccb-dcc2-28d74c7c491c"
      },
      "execution_count": 725,
      "outputs": [
        {
          "output_type": "execute_result",
          "data": {
            "text/plain": [
              "array([7, 8, 3])"
            ]
          },
          "metadata": {},
          "execution_count": 725
        }
      ]
    },
    {
      "cell_type": "markdown",
      "source": [
        "## **7).** Massivdagi maksimal va minimal qiymatlarni topish."
      ],
      "metadata": {
        "id": "w_zNJHM93VOD"
      }
    },
    {
      "cell_type": "code",
      "source": [
        "npArray = np.random.randint(1, 100, size=[2, 4])\n",
        "npArray.max()"
      ],
      "metadata": {
        "colab": {
          "base_uri": "https://localhost:8080/"
        },
        "id": "m-5YYolX3fgz",
        "outputId": "d916443c-8bdd-43eb-8159-ee92de400809"
      },
      "execution_count": 726,
      "outputs": [
        {
          "output_type": "execute_result",
          "data": {
            "text/plain": [
              "85"
            ]
          },
          "metadata": {},
          "execution_count": 726
        }
      ]
    },
    {
      "cell_type": "code",
      "source": [
        "npArray.min()"
      ],
      "metadata": {
        "colab": {
          "base_uri": "https://localhost:8080/"
        },
        "id": "brTsoN6k36bj",
        "outputId": "24e4116c-b31c-4ece-ba03-5ce7f56d6683"
      },
      "execution_count": 727,
      "outputs": [
        {
          "output_type": "execute_result",
          "data": {
            "text/plain": [
              "7"
            ]
          },
          "metadata": {},
          "execution_count": 727
        }
      ]
    },
    {
      "cell_type": "markdown",
      "source": [
        "## **8).** Massivni sortlash.."
      ],
      "metadata": {
        "id": "JhSq4eHR4IrE"
      }
    },
    {
      "cell_type": "code",
      "source": [
        "npArray.sort()\n",
        "npArray"
      ],
      "metadata": {
        "colab": {
          "base_uri": "https://localhost:8080/"
        },
        "id": "wlwwrZtN4L4D",
        "outputId": "0c3a3b10-4933-4163-dd7a-e9ce44e06ced"
      },
      "execution_count": 728,
      "outputs": [
        {
          "output_type": "execute_result",
          "data": {
            "text/plain": [
              "array([[ 7, 36, 43, 85],\n",
              "       [20, 31, 39, 85]])"
            ]
          },
          "metadata": {},
          "execution_count": 728
        }
      ]
    },
    {
      "cell_type": "markdown",
      "source": [
        "## **9).** Massivni transpozitsiya qilish (2D massiv uchun)."
      ],
      "metadata": {
        "id": "rWY0Kjal4Z1b"
      }
    },
    {
      "cell_type": "code",
      "source": [
        "npArray"
      ],
      "metadata": {
        "colab": {
          "base_uri": "https://localhost:8080/"
        },
        "id": "ExneNDZX49Mz",
        "outputId": "09c539e3-4a80-44ab-943e-069da2f6d996"
      },
      "execution_count": 729,
      "outputs": [
        {
          "output_type": "execute_result",
          "data": {
            "text/plain": [
              "array([[ 7, 36, 43, 85],\n",
              "       [20, 31, 39, 85]])"
            ]
          },
          "metadata": {},
          "execution_count": 729
        }
      ]
    },
    {
      "cell_type": "code",
      "source": [
        "npArray.reshape([4, 2])"
      ],
      "metadata": {
        "colab": {
          "base_uri": "https://localhost:8080/"
        },
        "id": "27OYygOQ4hiC",
        "outputId": "0b9ea977-4e39-40f3-a491-c80ba2e2c6ec"
      },
      "execution_count": 730,
      "outputs": [
        {
          "output_type": "execute_result",
          "data": {
            "text/plain": [
              "array([[ 7, 36],\n",
              "       [43, 85],\n",
              "       [20, 31],\n",
              "       [39, 85]])"
            ]
          },
          "metadata": {},
          "execution_count": 730
        }
      ]
    },
    {
      "cell_type": "markdown",
      "source": [
        "## **10).** Massivning barcha elementlarini kvadratga ko‘taring."
      ],
      "metadata": {
        "id": "k7LmOF1m5B3a"
      }
    },
    {
      "cell_type": "code",
      "source": [
        "npArray"
      ],
      "metadata": {
        "colab": {
          "base_uri": "https://localhost:8080/"
        },
        "id": "k7C-B6nr5lqT",
        "outputId": "240ece49-b69f-48cc-e22e-bd550471d436"
      },
      "execution_count": 731,
      "outputs": [
        {
          "output_type": "execute_result",
          "data": {
            "text/plain": [
              "array([[ 7, 36, 43, 85],\n",
              "       [20, 31, 39, 85]])"
            ]
          },
          "metadata": {},
          "execution_count": 731
        }
      ]
    },
    {
      "cell_type": "code",
      "source": [
        "for val in npArray:\n",
        "  print(val*val)"
      ],
      "metadata": {
        "colab": {
          "base_uri": "https://localhost:8080/"
        },
        "id": "UUOcWP1x5FDq",
        "outputId": "8c68ae7e-7671-43c7-98f7-7be9bdbbb22c"
      },
      "execution_count": 732,
      "outputs": [
        {
          "output_type": "stream",
          "name": "stdout",
          "text": [
            "[  49 1296 1849 7225]\n",
            "[ 400  961 1521 7225]\n"
          ]
        }
      ]
    },
    {
      "cell_type": "markdown",
      "source": [
        "## **11).** np.eye() funksiyasidan foydalanib, 4x4 o‘lchamli identifikatsion matritsa (identity matrix) yarating"
      ],
      "metadata": {
        "id": "gWLOQuR45t76"
      }
    },
    {
      "cell_type": "code",
      "source": [
        "matritsa = np.eye(4, 4)\n",
        "matritsa"
      ],
      "metadata": {
        "colab": {
          "base_uri": "https://localhost:8080/"
        },
        "id": "34PlXocm5yKy",
        "outputId": "8ece57af-c6b0-4a4e-e585-30edd82064a7"
      },
      "execution_count": 733,
      "outputs": [
        {
          "output_type": "execute_result",
          "data": {
            "text/plain": [
              "array([[1., 0., 0., 0.],\n",
              "       [0., 1., 0., 0.],\n",
              "       [0., 0., 1., 0.],\n",
              "       [0., 0., 0., 1.]])"
            ]
          },
          "metadata": {},
          "execution_count": 733
        }
      ]
    },
    {
      "cell_type": "markdown",
      "source": [
        "## **12).** np.select() funksiyasidan foydalanib, massivda shartlarga ko‘ra qiymatlarni o‘zgartiring (masalan, 5 dan katta bo‘lgan elementlarni 10 ga o‘zgartiring)."
      ],
      "metadata": {
        "id": "LRDVFKrz6cfT"
      }
    },
    {
      "cell_type": "code",
      "source": [
        "npArray # buyerda qiymatlar yuqorida random qilib olindi"
      ],
      "metadata": {
        "colab": {
          "base_uri": "https://localhost:8080/"
        },
        "id": "0egTE0AH6l9p",
        "outputId": "fa39d577-d39c-4386-fc87-25d0a70526fd"
      },
      "execution_count": 734,
      "outputs": [
        {
          "output_type": "execute_result",
          "data": {
            "text/plain": [
              "array([[ 7, 36, 43, 85],\n",
              "       [20, 31, 39, 85]])"
            ]
          },
          "metadata": {},
          "execution_count": 734
        }
      ]
    },
    {
      "cell_type": "code",
      "source": [
        "# shart\n",
        "conditions = [npArray > 5]\n",
        "\n",
        "# shartga mos qiymat\n",
        "choices = [10]\n",
        "\n",
        "arr = np.select(conditions, choices, default=npArray)"
      ],
      "metadata": {
        "id": "FStyypRh6utK"
      },
      "execution_count": 735,
      "outputs": []
    },
    {
      "cell_type": "code",
      "source": [
        "arr"
      ],
      "metadata": {
        "colab": {
          "base_uri": "https://localhost:8080/"
        },
        "id": "ha-kUW-PTSIl",
        "outputId": "7c809786-c48e-4fed-91d6-40ca8185d8f4"
      },
      "execution_count": 736,
      "outputs": [
        {
          "output_type": "execute_result",
          "data": {
            "text/plain": [
              "array([[10, 10, 10, 10],\n",
              "       [10, 10, 10, 10]])"
            ]
          },
          "metadata": {},
          "execution_count": 736
        }
      ]
    },
    {
      "cell_type": "markdown",
      "source": [
        "## **13).** np.isin() funksiyasidan foydalanib, massivda ma’lum bir qiymatlar mavjudligini tekshiring."
      ],
      "metadata": {
        "id": "aAPB1MX1TfbE"
      }
    },
    {
      "cell_type": "code",
      "source": [
        "list_ = [2, 3, 6, None, 5]\n",
        "\n",
        "arr = np.array(list_)\n",
        "test_v = [2, 5]\n",
        "np.isin(npArray, test_v)"
      ],
      "metadata": {
        "id": "ac6LgjS3T2yA",
        "colab": {
          "base_uri": "https://localhost:8080/"
        },
        "outputId": "310464b5-15cc-45ff-e674-8007ec58101c"
      },
      "execution_count": 737,
      "outputs": [
        {
          "output_type": "execute_result",
          "data": {
            "text/plain": [
              "array([[False, False, False, False],\n",
              "       [False, False, False, False]])"
            ]
          },
          "metadata": {},
          "execution_count": 737
        }
      ]
    },
    {
      "cell_type": "markdown",
      "source": [
        "## **14).** np.isin() funksiyasidan foydalanib, massivda ma’lum bir qiymatlar mavjudligini tekshiring."
      ],
      "metadata": {
        "id": "5WHIAo_DWfGR"
      }
    },
    {
      "cell_type": "code",
      "source": [
        "list_ = [2, 3, 6, None, 5]\n",
        "\n",
        "arr = np.array(list_)\n",
        "test_v = [2, 5]\n",
        "np.isin(npArray, test_v)"
      ],
      "metadata": {
        "colab": {
          "base_uri": "https://localhost:8080/"
        },
        "id": "-hkQoLpmu66y",
        "outputId": "87355101-abf9-4c6b-cbca-cabaf9f363c1"
      },
      "execution_count": 738,
      "outputs": [
        {
          "output_type": "execute_result",
          "data": {
            "text/plain": [
              "array([[False, False, False, False],\n",
              "       [False, False, False, False]])"
            ]
          },
          "metadata": {},
          "execution_count": 738
        }
      ]
    },
    {
      "cell_type": "markdown",
      "source": [
        "## **15).** `np.array_split()` funksiyasidan foydalanib, massivni 4 ta teng bo‘lmagan qismga bo‘ling\n"
      ],
      "metadata": {
        "id": "I0WYuMSAvBov"
      }
    },
    {
      "cell_type": "code",
      "source": [
        "arr = np.arange(0, 16)\n",
        "\n",
        "res = np.array_split(arr, [2, 8, 14])\n",
        "\n",
        "# enumerate - 2ta narsa qaytaradi (index, value)\n",
        "for i, part in enumerate(res):\n",
        "    print(i+1, part)"
      ],
      "metadata": {
        "colab": {
          "base_uri": "https://localhost:8080/"
        },
        "id": "Vhu5ELazvXj4",
        "outputId": "c53d6a8b-2701-48b2-f8bf-64b3b42b0222"
      },
      "execution_count": 739,
      "outputs": [
        {
          "output_type": "stream",
          "name": "stdout",
          "text": [
            "1 [0 1]\n",
            "2 [2 3 4 5 6 7]\n",
            "3 [ 8  9 10 11 12 13]\n",
            "4 [14 15]\n"
          ]
        }
      ]
    },
    {
      "cell_type": "markdown",
      "source": [
        "## **16).** Massivlarni birlashtirish (vstack, hstack).\n",
        "\n"
      ],
      "metadata": {
        "id": "Ja3RtNIuxjfI"
      }
    },
    {
      "cell_type": "code",
      "source": [
        "arr1 = np.arange(0, 4)\n",
        "arr2 = np.arange(4, 8)\n",
        "\n",
        "print(arr1)\n",
        "print(arr2)"
      ],
      "metadata": {
        "colab": {
          "base_uri": "https://localhost:8080/"
        },
        "id": "bwkXmDOZxoPc",
        "outputId": "0700eaa8-363b-4ee9-df23-f86dfdd5f01c"
      },
      "execution_count": 740,
      "outputs": [
        {
          "output_type": "stream",
          "name": "stdout",
          "text": [
            "[0 1 2 3]\n",
            "[4 5 6 7]\n"
          ]
        }
      ]
    },
    {
      "cell_type": "markdown",
      "source": [
        "`vstack` funksiyasi massivlarni **vertikal** (ustma-ust) birlashtiradi."
      ],
      "metadata": {
        "id": "oiGWZMlIyaUc"
      }
    },
    {
      "cell_type": "code",
      "source": [
        "# ustma ust\n",
        "res = np.vstack((arr1, arr2))\n",
        "res"
      ],
      "metadata": {
        "colab": {
          "base_uri": "https://localhost:8080/"
        },
        "id": "sO4me21jyRY7",
        "outputId": "3406a6c5-3363-4143-f146-426fdade6efd"
      },
      "execution_count": 741,
      "outputs": [
        {
          "output_type": "execute_result",
          "data": {
            "text/plain": [
              "array([[0, 1, 2, 3],\n",
              "       [4, 5, 6, 7]])"
            ]
          },
          "metadata": {},
          "execution_count": 741
        }
      ]
    },
    {
      "cell_type": "markdown",
      "source": [
        "`hstack` funksiyasi massivlarni **gorizontal** (yonma-yon) birlashtiradi"
      ],
      "metadata": {
        "id": "sVyV0DNcyxHr"
      }
    },
    {
      "cell_type": "code",
      "source": [
        "# yonma-yon\n",
        "res = np.hstack((arr1, arr2))\n",
        "res"
      ],
      "metadata": {
        "colab": {
          "base_uri": "https://localhost:8080/"
        },
        "id": "4nWxHSHDySDR",
        "outputId": "ca729d27-a183-42d8-cb0a-129406ccb19a"
      },
      "execution_count": 742,
      "outputs": [
        {
          "output_type": "execute_result",
          "data": {
            "text/plain": [
              "array([0, 1, 2, 3, 4, 5, 6, 7])"
            ]
          },
          "metadata": {},
          "execution_count": 742
        }
      ]
    },
    {
      "cell_type": "markdown",
      "source": [
        "## **17).** `np.split()` funksiyasidan foydalanib, massivni 3 ta teng qismga bo‘ling."
      ],
      "metadata": {
        "id": "qbQWCeSiy-Ix"
      }
    },
    {
      "cell_type": "code",
      "source": [
        "arr1 = np.arange(0, 11)\n",
        "\n",
        "res = np.split(arr1, [6])\n",
        "res[0]"
      ],
      "metadata": {
        "colab": {
          "base_uri": "https://localhost:8080/"
        },
        "id": "bvs1E7FjzFCd",
        "outputId": "7a04cee0-dba8-45dc-cba0-1fab060cbea9"
      },
      "execution_count": 743,
      "outputs": [
        {
          "output_type": "execute_result",
          "data": {
            "text/plain": [
              "array([0, 1, 2, 3, 4, 5])"
            ]
          },
          "metadata": {},
          "execution_count": 743
        }
      ]
    },
    {
      "cell_type": "code",
      "source": [
        "res[1]"
      ],
      "metadata": {
        "colab": {
          "base_uri": "https://localhost:8080/"
        },
        "id": "qBFLG4NS3qh2",
        "outputId": "1a620a5a-3f10-4bd4-de9f-eecad25d120e"
      },
      "execution_count": 744,
      "outputs": [
        {
          "output_type": "execute_result",
          "data": {
            "text/plain": [
              "array([ 6,  7,  8,  9, 10])"
            ]
          },
          "metadata": {},
          "execution_count": 744
        }
      ]
    },
    {
      "cell_type": "markdown",
      "source": [
        "## **18).** Yig’indilarni hisoblash: `sum()` funksiyasidan foydalanish."
      ],
      "metadata": {
        "id": "vgs0QepD34Gm"
      }
    },
    {
      "cell_type": "code",
      "source": [
        "arr1.sum()"
      ],
      "metadata": {
        "colab": {
          "base_uri": "https://localhost:8080/"
        },
        "id": "NGG94ctR3-eH",
        "outputId": "2f9a6642-b2fc-48e0-8a2f-26cc8941fd3a"
      },
      "execution_count": 745,
      "outputs": [
        {
          "output_type": "execute_result",
          "data": {
            "text/plain": [
              "55"
            ]
          },
          "metadata": {},
          "execution_count": 745
        }
      ]
    },
    {
      "cell_type": "markdown",
      "source": [
        "## **19).** NumPyda `unique()` va `intersect1d()` funksiyalari."
      ],
      "metadata": {
        "id": "yJYibJrk4Dxo"
      }
    },
    {
      "cell_type": "code",
      "source": [
        "arr = np.array([2, 5, 3, 2, 7, 2, 9, 5, 3, 8])\n",
        "\n",
        "# unikal takrorlanman qiymatlar\n",
        "np.unique(arr)"
      ],
      "metadata": {
        "colab": {
          "base_uri": "https://localhost:8080/"
        },
        "id": "_DebqADr4EpY",
        "outputId": "dccd0d44-910b-4aa3-ba1f-c91d085300a7"
      },
      "execution_count": 746,
      "outputs": [
        {
          "output_type": "execute_result",
          "data": {
            "text/plain": [
              "array([2, 3, 5, 7, 8, 9])"
            ]
          },
          "metadata": {},
          "execution_count": 746
        }
      ]
    },
    {
      "cell_type": "code",
      "source": [
        "arr1 = np.array([2, 5, 2, 8])\n",
        "arr2 = np.array([5, 6, 1])\n",
        "\n",
        "# 2ta arr dagi bor qiymatlar(kesishmasi)\n",
        "np.intersect1d(arr1, arr2)"
      ],
      "metadata": {
        "colab": {
          "base_uri": "https://localhost:8080/"
        },
        "id": "5BTIKaYV49S1",
        "outputId": "9957b596-238c-4b14-8292-1741f5dde647"
      },
      "execution_count": 747,
      "outputs": [
        {
          "output_type": "execute_result",
          "data": {
            "text/plain": [
              "array([5])"
            ]
          },
          "metadata": {},
          "execution_count": 747
        }
      ]
    },
    {
      "cell_type": "markdown",
      "source": [
        "## **20).** Massivning elementlarini indeks orqali o‘zgartiring (masalan, 3-indeksdagi elementni 10 ga o‘zgartiring)\n"
      ],
      "metadata": {
        "id": "oa1dnPWX5lGP"
      }
    },
    {
      "cell_type": "code",
      "source": [
        "npArray = np.array([3, 7, 1, 8])\n",
        "\n",
        "npArray"
      ],
      "metadata": {
        "colab": {
          "base_uri": "https://localhost:8080/"
        },
        "id": "EPzldYl65qSF",
        "outputId": "f7196413-9ca7-4229-a4ec-dbe016738f77"
      },
      "execution_count": 748,
      "outputs": [
        {
          "output_type": "execute_result",
          "data": {
            "text/plain": [
              "array([3, 7, 1, 8])"
            ]
          },
          "metadata": {},
          "execution_count": 748
        }
      ]
    },
    {
      "cell_type": "code",
      "source": [
        "npArray[3] = 10\n",
        "npArray"
      ],
      "metadata": {
        "colab": {
          "base_uri": "https://localhost:8080/"
        },
        "id": "8I1Wrotp5yaG",
        "outputId": "06f83eb2-f4ba-4fb3-edaa-3fd59a7f88c2"
      },
      "execution_count": 749,
      "outputs": [
        {
          "output_type": "execute_result",
          "data": {
            "text/plain": [
              "array([ 3,  7,  1, 10])"
            ]
          },
          "metadata": {},
          "execution_count": 749
        }
      ]
    },
    {
      "cell_type": "markdown",
      "source": [
        "## **21).** 2D massivning bir qatorini yoki ustunini ajratib oling.\n"
      ],
      "metadata": {
        "id": "Xom5bYMJ5-HQ"
      }
    },
    {
      "cell_type": "code",
      "source": [
        "d2 = np.array([[4, 5, 6], [8, 2, 5]])\n",
        "d2"
      ],
      "metadata": {
        "colab": {
          "base_uri": "https://localhost:8080/"
        },
        "id": "LnYdwCgk6BQ2",
        "outputId": "6f220a35-035b-4bbf-f154-ca083c687353"
      },
      "execution_count": 750,
      "outputs": [
        {
          "output_type": "execute_result",
          "data": {
            "text/plain": [
              "array([[4, 5, 6],\n",
              "       [8, 2, 5]])"
            ]
          },
          "metadata": {},
          "execution_count": 750
        }
      ]
    },
    {
      "cell_type": "code",
      "source": [
        "# qator bo'yicha\n",
        "d2[1, :]"
      ],
      "metadata": {
        "colab": {
          "base_uri": "https://localhost:8080/"
        },
        "id": "vSjkTkvb6NcX",
        "outputId": "a2937f8c-061d-443c-b195-b1631c4b7c1d"
      },
      "execution_count": 751,
      "outputs": [
        {
          "output_type": "execute_result",
          "data": {
            "text/plain": [
              "array([8, 2, 5])"
            ]
          },
          "metadata": {},
          "execution_count": 751
        }
      ]
    },
    {
      "cell_type": "code",
      "source": [
        "# ustun bo'yicha\n",
        "d2[:, 0]"
      ],
      "metadata": {
        "colab": {
          "base_uri": "https://localhost:8080/"
        },
        "id": "UBG4JEFV6ZXE",
        "outputId": "5006c9ab-dbd4-4b07-b6e2-7c5ec927dd10"
      },
      "execution_count": 752,
      "outputs": [
        {
          "output_type": "execute_result",
          "data": {
            "text/plain": [
              "array([4, 8])"
            ]
          },
          "metadata": {},
          "execution_count": 752
        }
      ]
    },
    {
      "cell_type": "markdown",
      "source": [
        "## **22).** `np.reshape()` funksiyasidan foydalanib, 1D massivni 2D massivga o‘zgartiring.\n"
      ],
      "metadata": {
        "id": "T-GAnrg19Nw0"
      }
    },
    {
      "cell_type": "code",
      "source": [
        "npArray = np.arange(1, 11)\n",
        "\n",
        "# 1-usul\n",
        "npArray = np.reshape(npArray, [2, 5])\n",
        "print(npArray.ndim)\n",
        "npArray"
      ],
      "metadata": {
        "colab": {
          "base_uri": "https://localhost:8080/"
        },
        "id": "VNP1W6Q-9O-C",
        "outputId": "530ce251-e11e-43c2-a212-56795e3eb888"
      },
      "execution_count": 753,
      "outputs": [
        {
          "output_type": "stream",
          "name": "stdout",
          "text": [
            "2\n"
          ]
        },
        {
          "output_type": "execute_result",
          "data": {
            "text/plain": [
              "array([[ 1,  2,  3,  4,  5],\n",
              "       [ 6,  7,  8,  9, 10]])"
            ]
          },
          "metadata": {},
          "execution_count": 753
        }
      ]
    },
    {
      "cell_type": "code",
      "source": [
        "# 2-usul\n",
        "npArray = npArray.reshape(5, 2)\n",
        "print(npArray.ndim)\n",
        "npArray"
      ],
      "metadata": {
        "colab": {
          "base_uri": "https://localhost:8080/"
        },
        "id": "3JhTug5p-dmw",
        "outputId": "476a6b51-5844-4a8a-a763-ad9b4dbdd925"
      },
      "execution_count": 754,
      "outputs": [
        {
          "output_type": "stream",
          "name": "stdout",
          "text": [
            "2\n"
          ]
        },
        {
          "output_type": "execute_result",
          "data": {
            "text/plain": [
              "array([[ 1,  2],\n",
              "       [ 3,  4],\n",
              "       [ 5,  6],\n",
              "       [ 7,  8],\n",
              "       [ 9, 10]])"
            ]
          },
          "metadata": {},
          "execution_count": 754
        }
      ]
    },
    {
      "cell_type": "markdown",
      "source": [
        "## **23).** `np.concatenate()` funksiyasidan foydalanib, ikki massivni birlashtiring.\n"
      ],
      "metadata": {
        "id": "ZwtLCEbT-yV4"
      }
    },
    {
      "cell_type": "code",
      "source": [
        "print(arr1)\n",
        "print(arr2)"
      ],
      "metadata": {
        "colab": {
          "base_uri": "https://localhost:8080/"
        },
        "id": "8hmCqZiM-3P-",
        "outputId": "18e3ae76-1f08-4e31-85c9-ee4704aa27d8"
      },
      "execution_count": 755,
      "outputs": [
        {
          "output_type": "stream",
          "name": "stdout",
          "text": [
            "[2 5 2 8]\n",
            "[5 6 1]\n"
          ]
        }
      ]
    },
    {
      "cell_type": "code",
      "source": [
        "#ketma-ket\n",
        "np.concatenate((arr1, arr2), axis=0) # ustma ust qilish uchun axis=1"
      ],
      "metadata": {
        "colab": {
          "base_uri": "https://localhost:8080/"
        },
        "id": "uApzIQy4-8tR",
        "outputId": "7c2a6b61-a4e5-47ca-a02b-e2c311e88b18"
      },
      "execution_count": 756,
      "outputs": [
        {
          "output_type": "execute_result",
          "data": {
            "text/plain": [
              "array([2, 5, 2, 8, 5, 6, 1])"
            ]
          },
          "metadata": {},
          "execution_count": 756
        }
      ]
    },
    {
      "cell_type": "markdown",
      "source": [
        "## **24).** `np.where()` funksiyasidan foydalanib, massivda 5 dan katta bo‘lgan elementlarni toping\n",
        "\n"
      ],
      "metadata": {
        "id": "rAz3VuW8_mu1"
      }
    },
    {
      "cell_type": "code",
      "source": [
        "arr = np.arange(90, 101)\n",
        "arr"
      ],
      "metadata": {
        "colab": {
          "base_uri": "https://localhost:8080/"
        },
        "id": "BAr4GpLr_nor",
        "outputId": "ca852e77-767e-4ae6-e779-7a3f9cc93540"
      },
      "execution_count": 757,
      "outputs": [
        {
          "output_type": "execute_result",
          "data": {
            "text/plain": [
              "array([ 90,  91,  92,  93,  94,  95,  96,  97,  98,  99, 100])"
            ]
          },
          "metadata": {},
          "execution_count": 757
        }
      ]
    },
    {
      "cell_type": "code",
      "source": [
        "index = np.where(arr >= 95) # bu indexlarni qaytaradi\n",
        "list_ = arr[index]\n",
        "list_"
      ],
      "metadata": {
        "colab": {
          "base_uri": "https://localhost:8080/"
        },
        "id": "FMgJvZHCAKx7",
        "outputId": "0d91a0a7-89f8-41f8-a6bf-ef74fbaf2f6b"
      },
      "execution_count": 758,
      "outputs": [
        {
          "output_type": "execute_result",
          "data": {
            "text/plain": [
              "array([ 95,  96,  97,  98,  99, 100])"
            ]
          },
          "metadata": {},
          "execution_count": 758
        }
      ]
    },
    {
      "cell_type": "markdown",
      "source": [
        "## **25).** Massivning standart og’ishini (standard deviation) hisoblang.\n",
        "\n"
      ],
      "metadata": {
        "id": "J5BWEzF3B96v"
      }
    },
    {
      "cell_type": "code",
      "source": [
        "arr"
      ],
      "metadata": {
        "colab": {
          "base_uri": "https://localhost:8080/"
        },
        "id": "UQ-pN27qCD1N",
        "outputId": "de542a79-2509-4c61-c2cd-99193fa584b6"
      },
      "execution_count": 759,
      "outputs": [
        {
          "output_type": "execute_result",
          "data": {
            "text/plain": [
              "array([ 90,  91,  92,  93,  94,  95,  96,  97,  98,  99, 100])"
            ]
          },
          "metadata": {},
          "execution_count": 759
        }
      ]
    },
    {
      "cell_type": "code",
      "source": [
        "std_dev = np.std(arr)\n",
        "std_dev"
      ],
      "metadata": {
        "colab": {
          "base_uri": "https://localhost:8080/"
        },
        "id": "Ua241fhWCoyV",
        "outputId": "30c40355-3cc7-47ba-9991-eff809543858"
      },
      "execution_count": 760,
      "outputs": [
        {
          "output_type": "execute_result",
          "data": {
            "text/plain": [
              "3.1622776601683795"
            ]
          },
          "metadata": {},
          "execution_count": 760
        }
      ]
    }
  ]
}